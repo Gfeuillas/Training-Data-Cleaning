{
 "cells": [
  {
   "cell_type": "markdown",
   "metadata": {
    "id": "A5p5p2HTk_XP"
   },
   "source": [
    "# Exploration Statistique - Imiter"
   ]
  },
  {
   "cell_type": "markdown",
   "metadata": {
    "id": "l_q9TuMAk_XQ"
   },
   "source": [
    "# GRC: Segmentation d'une clientèle bancaire en Python"
   ]
  },
  {
   "cell_type": "markdown",
   "metadata": {
    "id": "PkIEiqjxk_XS"
   },
   "source": [
    "## Introduction\n",
    "### Objectif\n",
    "Ce scénatio propose  de décrire un jeu de données bancaires  en utilisant les principales méthodes de statistique exploratoire multidimensionnelle: analyse en composantes principales, analyse des correspondances simple et multiple, classification non supervisée. L'objectif principal, classqiue en marketing, est de produire une *segmentation* de clientèle, c'est-à-dire une répartition en classes homogènes des clients en fonction de leur comportement bancaire. C'est aussi la mise en oeuvre d'une démarche classique permettant d'affiner sa compréhension des données dans l'idée de construire un [score d'appétence](http://www.math.univ-toulouse.fr/~besse/Wikistat/pdf/st-scenar-app-visa.pdf) pour la carte visa premier.\n",
    "\n",
    "### Présentation des données\n",
    "#### Les variables\n",
    "La liste des variables est issue d'une base de données retraçant l'historique mensuel bancaire et les caractéristiques de tous les clients. Un sondage a été réalisé afin d'alléger les traitements ainsi qu'une première sélection de variables. Les variables contenues dans le fichier initial sont décrites dans le tableau ci-dessous. Elles sont observées sur 1425 clients.\n",
    "\n",
    "*Tableau: Liste des variables et de leur libellé* Attention, ils sont finalement écrits en majuscules dans les programmes.\n",
    "\n",
    "**Identifiant** | **Libellé**\n",
    "           --|--\n",
    "`matric` | Matricule (identifiant client)\n",
    "`depts` | Département de résidence\n",
    "`pvs` | Point de vente\n",
    "`sexeq` | Sexe (qualitatif) \n",
    "`ager` | Age en années\n",
    "`famiq` | Situation familiale: `Fmar Fcel Fdiv Fuli Fsep Fveu`\n",
    "`relat` | Ancienneté de relation en mois\n",
    "`pcspq` | Catégorie socio-professionnelle (code num)\n",
    "`quals` | Code \"qualité\" client évalué par la banque\n",
    "`GxxGxxS` | plusieurs variables caractérisant les interdits bancaires\n",
    "`impnbs` | Nombre d'impayés en cours\n",
    "`rejets` | Montant total des rejets en francs\n",
    "`opgnb` | Nombre d'opérations par guichet dans le mois\n",
    "`moyrv` | Moyenne des mouvements nets créditeurs des 3 mois en Kf\n",
    "`tavep` | Total des avoirs épargne monétaire en francs\n",
    "`endet` | Taux d'endettement\n",
    "`gaget` | Total des engagements en francs\n",
    "`gagec` | Total des engagements court terme en francs\n",
    "`gagem` | Total des engagements moyen terme en francs\n",
    "`kvunb` | Nombre de comptes à vue\n",
    "`qsmoy` | Moyenne des soldes moyens sur 3 mois\n",
    "`qcred` | Moyenne des mouvements créditeurs en Kf\n",
    "`dmvtp` | Age du dernier mouvement (en jours)\\hline\n",
    "`boppn` | Nombre d'opérations à M-1\n",
    "`facan` | Montant facturé dans l'année en francs\n",
    "`lgagt` | Engagement long terme\n",
    "`vienb` | Nombre de produits contrats vie\n",
    "`viemt` | Montant des produits contrats vie en francs\n",
    "`uemnb` | Nombre de produits épargne monétaire\n",
    "`uemmts` | Montant des produits d'épargne monétaire en francs\n",
    "`xlgnb` | Nombre de produits d'épargne logement\n",
    "`xlgmt` | Montant des produits d'épargne logement en francs\n",
    "`ylvnb` | Nombre de comptes sur livret\n",
    "`ylvmt` | Montant des comptes sur livret en francs\n",
    "`nbelts` | Nombre de produits d'épargne long terme\n",
    "`mtelts` | Montant des produits d'épargne long terme en francs\n",
    "`nbcats` | Nombre de produits épargne à terme\n",
    "`mtcats` | Montant des produits épargne à terme\n",
    "`nbbecs` | Nombre de produits bons et certificats\n",
    "`mtbecs` | Montant des produits bons et certificats en francs\n",
    "`rocnb` | Nombre de paiements par carte bancaire à M-1\n",
    "`ntcas` | Nombre total de cartes\n",
    "`nptag` | Nombre de cartes point argent\n",
    "`segv2s` | Segmentation version 2\n",
    "`itavc` | Total des avoirs sur tous les comptes\n",
    "`havef` | Total des avoirs épargne financière en francs\n",
    "`jnbjd1s` | Nombre de jours à débit à M\n",
    "`jnbjd2s` | Nombre de jours à débit à M-1\n",
    "`jnbjd3s` | Nombre de jours à débit à M-2\n",
    "**`carvp`** | **Possession de la carte VISA Premier}**\n"
   ]
  },
  {
   "cell_type": "markdown",
   "metadata": {
    "id": "E4ZHRGOQk_XT"
   },
   "source": [
    "# Data Munging\n",
    "## Lecture et prétraitement  des données\n",
    "Les données sont disponibles dans le répertoire Drive.\n",
    "\n",
    "Même si les données sont déjà extraites par échantillonnage d'une très grande base, elles nécessitent un travail prémiminaire (*data munging*) pour détecter, corriger les erreurs et incohérences, éliminer des redondances, traiter les données manquantes, transformer certaines variables.  Ce travail préliminaire, souvent long et fastidieux, nécessite d'y consacer beaucoup de temps et de rigueur afin de s'assurer de la qualité finale des résultats. \n",
    "\n",
    "\n",
    "### Lecture des données"
   ]
  },
  {
   "cell_type": "code",
   "execution_count": 154,
   "metadata": {
    "id": "meURmDYqk_XU"
   },
   "outputs": [],
   "source": [
    "%matplotlib inline\n",
    "import pandas as pd\n",
    "import numpy as np\n",
    "import matplotlib.pyplot as plt\n",
    "pd.options.mode.chained_assignment = None  # default='warn'"
   ]
  },
  {
   "cell_type": "code",
   "execution_count": 155,
   "metadata": {
    "id": "Te1QxV_6k_Xa",
    "outputId": "dde75648-f61f-40cf-f5a3-75d091554b62"
   },
   "outputs": [
    {
     "data": {
      "text/html": [
       "<div>\n",
       "<style scoped>\n",
       "    .dataframe tbody tr th:only-of-type {\n",
       "        vertical-align: middle;\n",
       "    }\n",
       "\n",
       "    .dataframe tbody tr th {\n",
       "        vertical-align: top;\n",
       "    }\n",
       "\n",
       "    .dataframe thead th {\n",
       "        text-align: right;\n",
       "    }\n",
       "</style>\n",
       "<table border=\"1\" class=\"dataframe\">\n",
       "  <thead>\n",
       "    <tr style=\"text-align: right;\">\n",
       "      <th></th>\n",
       "      <th>DEPTS</th>\n",
       "      <th>PVS</th>\n",
       "      <th>SEXEQ</th>\n",
       "      <th>AGER</th>\n",
       "      <th>FAMIQ</th>\n",
       "      <th>RELAT</th>\n",
       "      <th>PCSPQ</th>\n",
       "      <th>QUALS</th>\n",
       "      <th>G03G04S</th>\n",
       "      <th>G25G26S</th>\n",
       "      <th>...</th>\n",
       "      <th>ZOCNB</th>\n",
       "      <th>NTCAS</th>\n",
       "      <th>NPTAG</th>\n",
       "      <th>SEGV2S</th>\n",
       "      <th>ITAVC</th>\n",
       "      <th>HAVEF</th>\n",
       "      <th>JNBJD1S</th>\n",
       "      <th>JNBJD2S</th>\n",
       "      <th>JNBJD3S</th>\n",
       "      <th>CARVP</th>\n",
       "    </tr>\n",
       "    <tr>\n",
       "      <th>MATRIC</th>\n",
       "      <th></th>\n",
       "      <th></th>\n",
       "      <th></th>\n",
       "      <th></th>\n",
       "      <th></th>\n",
       "      <th></th>\n",
       "      <th></th>\n",
       "      <th></th>\n",
       "      <th></th>\n",
       "      <th></th>\n",
       "      <th></th>\n",
       "      <th></th>\n",
       "      <th></th>\n",
       "      <th></th>\n",
       "      <th></th>\n",
       "      <th></th>\n",
       "      <th></th>\n",
       "      <th></th>\n",
       "      <th></th>\n",
       "      <th></th>\n",
       "      <th></th>\n",
       "    </tr>\n",
       "  </thead>\n",
       "  <tbody>\n",
       "    <tr>\n",
       "      <th>131842</th>\n",
       "      <td>31</td>\n",
       "      <td>03</td>\n",
       "      <td>1</td>\n",
       "      <td>67</td>\n",
       "      <td>M</td>\n",
       "      <td>406</td>\n",
       "      <td>755</td>\n",
       "      <td>A</td>\n",
       "      <td>inc</td>\n",
       "      <td>inc</td>\n",
       "      <td>...</td>\n",
       "      <td>0</td>\n",
       "      <td>2</td>\n",
       "      <td>0</td>\n",
       "      <td>5</td>\n",
       "      <td>947984</td>\n",
       "      <td>614107</td>\n",
       "      <td>0</td>\n",
       "      <td>0</td>\n",
       "      <td>1</td>\n",
       "      <td>oui</td>\n",
       "    </tr>\n",
       "    <tr>\n",
       "      <th>140210</th>\n",
       "      <td>31</td>\n",
       "      <td>01</td>\n",
       "      <td>1</td>\n",
       "      <td>82</td>\n",
       "      <td>M</td>\n",
       "      <td>445</td>\n",
       "      <td>770</td>\n",
       "      <td>A</td>\n",
       "      <td>inc</td>\n",
       "      <td>inc</td>\n",
       "      <td>...</td>\n",
       "      <td>33</td>\n",
       "      <td>2</td>\n",
       "      <td>0</td>\n",
       "      <td>5</td>\n",
       "      <td>3368558</td>\n",
       "      <td>2569775</td>\n",
       "      <td>3</td>\n",
       "      <td>3</td>\n",
       "      <td>5</td>\n",
       "      <td>oui</td>\n",
       "    </tr>\n",
       "    <tr>\n",
       "      <th>148009</th>\n",
       "      <td>31</td>\n",
       "      <td>01</td>\n",
       "      <td>1</td>\n",
       "      <td>51</td>\n",
       "      <td>M</td>\n",
       "      <td>238</td>\n",
       "      <td>311</td>\n",
       "      <td>A</td>\n",
       "      <td>inc</td>\n",
       "      <td>inc</td>\n",
       "      <td>...</td>\n",
       "      <td>14</td>\n",
       "      <td>2</td>\n",
       "      <td>0</td>\n",
       "      <td>inc</td>\n",
       "      <td>1303700</td>\n",
       "      <td>556967</td>\n",
       "      <td>0</td>\n",
       "      <td>0</td>\n",
       "      <td>1</td>\n",
       "      <td>oui</td>\n",
       "    </tr>\n",
       "    <tr>\n",
       "      <th>442153</th>\n",
       "      <td>82</td>\n",
       "      <td>06</td>\n",
       "      <td>1</td>\n",
       "      <td>52</td>\n",
       "      <td>M</td>\n",
       "      <td>270</td>\n",
       "      <td>465</td>\n",
       "      <td>A</td>\n",
       "      <td>inc</td>\n",
       "      <td>inc</td>\n",
       "      <td>...</td>\n",
       "      <td>5</td>\n",
       "      <td>2</td>\n",
       "      <td>0</td>\n",
       "      <td>5</td>\n",
       "      <td>19856243</td>\n",
       "      <td>133896</td>\n",
       "      <td>0</td>\n",
       "      <td>0</td>\n",
       "      <td>0</td>\n",
       "      <td>oui</td>\n",
       "    </tr>\n",
       "    <tr>\n",
       "      <th>552427</th>\n",
       "      <td>97</td>\n",
       "      <td>01</td>\n",
       "      <td>1</td>\n",
       "      <td>58</td>\n",
       "      <td>M</td>\n",
       "      <td>139</td>\n",
       "      <td>345</td>\n",
       "      <td>C</td>\n",
       "      <td>inc</td>\n",
       "      <td>inc</td>\n",
       "      <td>...</td>\n",
       "      <td>0</td>\n",
       "      <td>1</td>\n",
       "      <td>0</td>\n",
       "      <td>1</td>\n",
       "      <td>122745</td>\n",
       "      <td>0</td>\n",
       "      <td>0</td>\n",
       "      <td>0</td>\n",
       "      <td>0</td>\n",
       "      <td>oui</td>\n",
       "    </tr>\n",
       "  </tbody>\n",
       "</table>\n",
       "<p>5 rows × 55 columns</p>\n",
       "</div>"
      ],
      "text/plain": [
       "       DEPTS PVS SEXEQ AGER FAMIQ RELAT PCSPQ QUALS G03G04S G25G26S  ...  \\\n",
       "MATRIC                                                               ...   \n",
       "131842    31  03     1   67     M   406   755     A     inc     inc  ...   \n",
       "140210    31  01     1   82     M   445   770     A     inc     inc  ...   \n",
       "148009    31  01     1   51     M   238   311     A     inc     inc  ...   \n",
       "442153    82  06     1   52     M   270   465     A     inc     inc  ...   \n",
       "552427    97  01     1   58     M   139   345     C     inc     inc  ...   \n",
       "\n",
       "       ZOCNB NTCAS NPTAG SEGV2S     ITAVC    HAVEF JNBJD1S JNBJD2S JNBJD3S  \\\n",
       "MATRIC                                                                       \n",
       "131842     0     2     0      5    947984   614107       0       0       1   \n",
       "140210    33     2     0      5   3368558  2569775       3       3       5   \n",
       "148009    14     2     0    inc   1303700   556967       0       0       1   \n",
       "442153     5     2     0      5  19856243   133896       0       0       0   \n",
       "552427     0     1     0      1    122745        0       0       0       0   \n",
       "\n",
       "       CARVP  \n",
       "MATRIC        \n",
       "131842   oui  \n",
       "140210   oui  \n",
       "148009   oui  \n",
       "442153   oui  \n",
       "552427   oui  \n",
       "\n",
       "[5 rows x 55 columns]"
      ]
     },
     "execution_count": 155,
     "metadata": {},
     "output_type": "execute_result"
    }
   ],
   "source": [
    "#Lecture\n",
    "listeVar=['MATRIC','DEPTS','PVS','SEXEQ','AGER','FAMIQ', \n",
    " 'RELAT','PCSPQ','QUALS','G03G04S','G25G26S', \n",
    " 'G29G30S','G35G36S','G37G38S','G45G46S','G47G48S',\n",
    " 'IMPNBS','REJETS','OPGNB','MOYRV','TAVEP','ENDET','GAGET',\n",
    " 'GAGEC','GAGEM','KVUNB','QSMOY','QCRED','DMVTP','BOPPN',\n",
    " 'FACAN','LGAGT','VIENB','VIEMT','UEMNB','UEMMTS','XLGNB',\n",
    " 'XLGMT','YLVNB','YLVMT','NBELTS','MTELTS','NBCATS','MTCATS',\n",
    " 'NBBECS','MTBECS','ZOCNB','NTCAS','NPTAG','SEGV2S','ITAVC',\n",
    " 'HAVEF','JNBJD1S','JNBJD2S','JNBJD3S','CARVP']\n",
    "path=\"\"\n",
    "visaraw = pd.read_table(path+'visa_raw.dat',\n",
    "                        sep=';',header=None, index_col=0, names=listeVar)\n",
    "visaraw.head()"
   ]
  },
  {
   "cell_type": "markdown",
   "metadata": {
    "id": "fv_lsjMck_Xh"
   },
   "source": [
    "Une fonction permet de définir le bon type \"categorical\" des variables qualitatives  en utilisant un dictionnaire des modalités pour le recodage."
   ]
  },
  {
   "cell_type": "code",
   "execution_count": 156,
   "metadata": {
    "id": "q_MBStb0k_Xi"
   },
   "outputs": [],
   "source": [
    "def create_categorical_data(df,column_name, cat_name_dic):\n",
    "    cat_columns = pd.Categorical(df[column_name],ordered=False) #On liste les différentes catégories avec .Categorical\n",
    "    new_categorie = [cat_name_dic[old_name] for old_name in cat_columns.categories]#Renvoie la valeurs du dic lié à chaque catégorie et le stocks dans une liste.\n",
    "    return cat_columns.rename_categories(new_categorie)#Ultimement la fonction rename vos catégories\n",
    "\n",
    "#Cette fonction permet de modifié les valeurs de colonne par rapport à un dictionnaire"
   ]
  },
  {
   "cell_type": "code",
   "execution_count": 157,
   "metadata": {},
   "outputs": [
    {
     "data": {
      "text/plain": [
       "MATRIC\n",
       "131842       M\n",
       "140210       M\n",
       "148009       M\n",
       "442153       M\n",
       "552427       M\n",
       "          ... \n",
       "7572458      M\n",
       "7574479      M\n",
       "7580358    inc\n",
       "7588952      M\n",
       "7589439      M\n",
       "Name: FAMIQ, Length: 1417, dtype: object"
      ]
     },
     "execution_count": 157,
     "metadata": {},
     "output_type": "execute_result"
    }
   ],
   "source": [
    "visaraw['FAMIQ']"
   ]
  },
  {
   "cell_type": "code",
   "execution_count": 158,
   "metadata": {
    "id": "RuK_P9ZOk_Xn"
   },
   "outputs": [],
   "source": [
    "#FAMIQ\n",
    "cat_name_dic = {'C':'Fcel','D':'Fdiv','M':'Fmar','S':'Fsep','U':'Fuli','V':'Fveu','inc':'Finc'}\n",
    "visaraw[\"FAMIQ\"]=create_categorical_data(visaraw,\"FAMIQ\", cat_name_dic)\n",
    "#SEXEQ\n",
    "cat_name_dic = {'1':'Shom','2':'Sfem','inc':'Sinc'}\n",
    "visaraw[\"SEXEQ\"]=create_categorical_data(visaraw,\"SEXEQ\", cat_name_dic)\n",
    "#CARVP\n",
    "cat_name_dic = {'non':'Cnon','oui':'Coui'}\n",
    "visaraw[\"CARVP\"]=create_categorical_data(visaraw,\"CARVP\", cat_name_dic)\n",
    "#PCSPQ\n",
    "visaraw[\"PCSPQ\"] = visaraw[\"PCSPQ\"].str.get(0).replace(\"0\",\"i\")\n",
    "cat_name_dic = {'1':'Pagr', '2':'Part', '3':'Pcad', '4':'Pint', '5':'Pemp','6':'Pouv',\n",
    "                '7':'Pret', '8':'Psan', 'i':'Pinc'}\n",
    "visaraw[\"PCSPQ\"]=create_categorical_data(visaraw,\"PCSPQ\", cat_name_dic)"
   ]
  },
  {
   "cell_type": "code",
   "execution_count": 14,
   "metadata": {},
   "outputs": [
    {
     "data": {
      "text/plain": [
       "['Pagr', 'Part', 'Pcad', 'Pint', 'Pemp', 'Pouv', 'Pret', 'Psan', 'Pinc']"
      ]
     },
     "execution_count": 14,
     "metadata": {},
     "output_type": "execute_result"
    }
   ],
   "source": [
    "categ=[\"1\",\"2\",\"3\",\"4\",\"5\",\"6\",\"7\",\"8\",\"i\"]\n",
    "new_categorie = [cat_name_dic[old_name] for old_name in categ]\n",
    "new_categorie"
   ]
  },
  {
   "cell_type": "markdown",
   "metadata": {
    "id": "6qwBwXfOk_Xs"
   },
   "source": [
    "####  Premiers nettoyages\n",
    "Suppression d'observations non pertinentes:interdits bancaires et comptes professionnels."
   ]
  },
  {
   "cell_type": "code",
   "execution_count": 159,
   "metadata": {},
   "outputs": [
    {
     "name": "stdout",
     "output_type": "stream",
     "text": [
      "[0 1 2 3 4]\n"
     ]
    },
    {
     "data": {
      "text/plain": [
       "array([False, False, False,  True,  True])"
      ]
     },
     "execution_count": 159,
     "metadata": {},
     "output_type": "execute_result"
    }
   ],
   "source": [
    "x = np.arange(5)\n",
    "print(x)\n",
    "np.logical_not(x<3)\n"
   ]
  },
  {
   "cell_type": "code",
   "execution_count": 160,
   "metadata": {
    "id": "2JanmGkak_Xt",
    "outputId": "487595be-24f4-4ee6-897c-849029ad45b0"
   },
   "outputs": [
    {
     "data": {
      "text/html": [
       "<div>\n",
       "<style scoped>\n",
       "    .dataframe tbody tr th:only-of-type {\n",
       "        vertical-align: middle;\n",
       "    }\n",
       "\n",
       "    .dataframe tbody tr th {\n",
       "        vertical-align: top;\n",
       "    }\n",
       "\n",
       "    .dataframe thead th {\n",
       "        text-align: right;\n",
       "    }\n",
       "</style>\n",
       "<table border=\"1\" class=\"dataframe\">\n",
       "  <thead>\n",
       "    <tr style=\"text-align: right;\">\n",
       "      <th></th>\n",
       "      <th>DEPTS</th>\n",
       "      <th>PVS</th>\n",
       "      <th>SEXEQ</th>\n",
       "      <th>AGER</th>\n",
       "      <th>FAMIQ</th>\n",
       "      <th>RELAT</th>\n",
       "      <th>PCSPQ</th>\n",
       "      <th>QUALS</th>\n",
       "      <th>G03G04S</th>\n",
       "      <th>G25G26S</th>\n",
       "      <th>...</th>\n",
       "      <th>ZOCNB</th>\n",
       "      <th>NTCAS</th>\n",
       "      <th>NPTAG</th>\n",
       "      <th>SEGV2S</th>\n",
       "      <th>ITAVC</th>\n",
       "      <th>HAVEF</th>\n",
       "      <th>JNBJD1S</th>\n",
       "      <th>JNBJD2S</th>\n",
       "      <th>JNBJD3S</th>\n",
       "      <th>CARVP</th>\n",
       "    </tr>\n",
       "    <tr>\n",
       "      <th>MATRIC</th>\n",
       "      <th></th>\n",
       "      <th></th>\n",
       "      <th></th>\n",
       "      <th></th>\n",
       "      <th></th>\n",
       "      <th></th>\n",
       "      <th></th>\n",
       "      <th></th>\n",
       "      <th></th>\n",
       "      <th></th>\n",
       "      <th></th>\n",
       "      <th></th>\n",
       "      <th></th>\n",
       "      <th></th>\n",
       "      <th></th>\n",
       "      <th></th>\n",
       "      <th></th>\n",
       "      <th></th>\n",
       "      <th></th>\n",
       "      <th></th>\n",
       "      <th></th>\n",
       "    </tr>\n",
       "  </thead>\n",
       "  <tbody>\n",
       "    <tr>\n",
       "      <th>131842</th>\n",
       "      <td>31</td>\n",
       "      <td>03</td>\n",
       "      <td>Shom</td>\n",
       "      <td>67</td>\n",
       "      <td>Fmar</td>\n",
       "      <td>406</td>\n",
       "      <td>Pret</td>\n",
       "      <td>A</td>\n",
       "      <td>inc</td>\n",
       "      <td>inc</td>\n",
       "      <td>...</td>\n",
       "      <td>0</td>\n",
       "      <td>2</td>\n",
       "      <td>0</td>\n",
       "      <td>5</td>\n",
       "      <td>947984</td>\n",
       "      <td>614107</td>\n",
       "      <td>0</td>\n",
       "      <td>0</td>\n",
       "      <td>1</td>\n",
       "      <td>Coui</td>\n",
       "    </tr>\n",
       "    <tr>\n",
       "      <th>140210</th>\n",
       "      <td>31</td>\n",
       "      <td>01</td>\n",
       "      <td>Shom</td>\n",
       "      <td>82</td>\n",
       "      <td>Fmar</td>\n",
       "      <td>445</td>\n",
       "      <td>Pret</td>\n",
       "      <td>A</td>\n",
       "      <td>inc</td>\n",
       "      <td>inc</td>\n",
       "      <td>...</td>\n",
       "      <td>33</td>\n",
       "      <td>2</td>\n",
       "      <td>0</td>\n",
       "      <td>5</td>\n",
       "      <td>3368558</td>\n",
       "      <td>2569775</td>\n",
       "      <td>3</td>\n",
       "      <td>3</td>\n",
       "      <td>5</td>\n",
       "      <td>Coui</td>\n",
       "    </tr>\n",
       "    <tr>\n",
       "      <th>148009</th>\n",
       "      <td>31</td>\n",
       "      <td>01</td>\n",
       "      <td>Shom</td>\n",
       "      <td>51</td>\n",
       "      <td>Fmar</td>\n",
       "      <td>238</td>\n",
       "      <td>Pcad</td>\n",
       "      <td>A</td>\n",
       "      <td>inc</td>\n",
       "      <td>inc</td>\n",
       "      <td>...</td>\n",
       "      <td>14</td>\n",
       "      <td>2</td>\n",
       "      <td>0</td>\n",
       "      <td>inc</td>\n",
       "      <td>1303700</td>\n",
       "      <td>556967</td>\n",
       "      <td>0</td>\n",
       "      <td>0</td>\n",
       "      <td>1</td>\n",
       "      <td>Coui</td>\n",
       "    </tr>\n",
       "    <tr>\n",
       "      <th>552427</th>\n",
       "      <td>97</td>\n",
       "      <td>01</td>\n",
       "      <td>Shom</td>\n",
       "      <td>58</td>\n",
       "      <td>Fmar</td>\n",
       "      <td>139</td>\n",
       "      <td>Pcad</td>\n",
       "      <td>C</td>\n",
       "      <td>inc</td>\n",
       "      <td>inc</td>\n",
       "      <td>...</td>\n",
       "      <td>0</td>\n",
       "      <td>1</td>\n",
       "      <td>0</td>\n",
       "      <td>1</td>\n",
       "      <td>122745</td>\n",
       "      <td>0</td>\n",
       "      <td>0</td>\n",
       "      <td>0</td>\n",
       "      <td>0</td>\n",
       "      <td>Coui</td>\n",
       "    </tr>\n",
       "    <tr>\n",
       "      <th>556005</th>\n",
       "      <td>40</td>\n",
       "      <td>01</td>\n",
       "      <td>Shom</td>\n",
       "      <td>27</td>\n",
       "      <td>Fcel</td>\n",
       "      <td>99</td>\n",
       "      <td>Psan</td>\n",
       "      <td>B</td>\n",
       "      <td>inc</td>\n",
       "      <td>inc</td>\n",
       "      <td>...</td>\n",
       "      <td>14</td>\n",
       "      <td>2</td>\n",
       "      <td>0</td>\n",
       "      <td>5</td>\n",
       "      <td>83224</td>\n",
       "      <td>0</td>\n",
       "      <td>0</td>\n",
       "      <td>0</td>\n",
       "      <td>0</td>\n",
       "      <td>Coui</td>\n",
       "    </tr>\n",
       "  </tbody>\n",
       "</table>\n",
       "<p>5 rows × 55 columns</p>\n",
       "</div>"
      ],
      "text/plain": [
       "       DEPTS PVS SEXEQ AGER FAMIQ RELAT PCSPQ QUALS G03G04S G25G26S  ...  \\\n",
       "MATRIC                                                               ...   \n",
       "131842    31  03  Shom   67  Fmar   406  Pret     A     inc     inc  ...   \n",
       "140210    31  01  Shom   82  Fmar   445  Pret     A     inc     inc  ...   \n",
       "148009    31  01  Shom   51  Fmar   238  Pcad     A     inc     inc  ...   \n",
       "552427    97  01  Shom   58  Fmar   139  Pcad     C     inc     inc  ...   \n",
       "556005    40  01  Shom   27  Fcel    99  Psan     B     inc     inc  ...   \n",
       "\n",
       "       ZOCNB NTCAS NPTAG SEGV2S    ITAVC    HAVEF JNBJD1S JNBJD2S JNBJD3S  \\\n",
       "MATRIC                                                                      \n",
       "131842     0     2     0      5   947984   614107       0       0       1   \n",
       "140210    33     2     0      5  3368558  2569775       3       3       5   \n",
       "148009    14     2     0    inc  1303700   556967       0       0       1   \n",
       "552427     0     1     0      1   122745        0       0       0       0   \n",
       "556005    14     2     0      5    83224        0       0       0       0   \n",
       "\n",
       "       CARVP  \n",
       "MATRIC        \n",
       "131842  Coui  \n",
       "140210  Coui  \n",
       "148009  Coui  \n",
       "552427  Coui  \n",
       "556005  Coui  \n",
       "\n",
       "[5 rows x 55 columns]"
      ]
     },
     "execution_count": 160,
     "metadata": {},
     "output_type": "execute_result"
    }
   ],
   "source": [
    "visaraw = visaraw[visaraw.NBCATS!= \"1\"]\n",
    "visaraw = visaraw[visaraw.NBBECS!= \"1\"]\n",
    "\n",
    "visaraw= visaraw[np.logical_not(visaraw.G29G30S.isin(['B','X']))] \n",
    "visaraw= visaraw[np.logical_not(visaraw.G03G04S.isin(['B','X']))] \n",
    "visaraw= visaraw[np.logical_not(visaraw.G45G46S.isin(['A','B','X']))] \n",
    "visaraw= visaraw[np.logical_not(visaraw.G37G38S.isin(['A']))] \n",
    "visaraw= visaraw[np.logical_not(visaraw.G25G26S.isin(['A','B','X']))] \n",
    "visaraw= visaraw[np.logical_not(visaraw.G47G48S.isin(['B']))] \n",
    "visaraw.head()"
   ]
  },
  {
   "cell_type": "code",
   "execution_count": 39,
   "metadata": {},
   "outputs": [
    {
     "data": {
      "text/plain": [
       "[MATRIC\n",
       " 131842     True\n",
       " 140210     True\n",
       " 148009     True\n",
       " 442153     True\n",
       " 552427     True\n",
       "            ... \n",
       " 7572458    True\n",
       " 7574479    True\n",
       " 7580358    True\n",
       " 7588952    True\n",
       " 7589439    True\n",
       " Name: G29G30S, Length: 1417, dtype: bool]"
      ]
     },
     "execution_count": 39,
     "metadata": {},
     "output_type": "execute_result"
    }
   ],
   "source": []
  },
  {
   "cell_type": "code",
   "execution_count": 161,
   "metadata": {
    "id": "HeE2m8oZk_Xy",
    "outputId": "1e37056e-3f22-4d0f-e37f-37ba1315b6c7"
   },
   "outputs": [
    {
     "data": {
      "text/html": [
       "<div>\n",
       "<style scoped>\n",
       "    .dataframe tbody tr th:only-of-type {\n",
       "        vertical-align: middle;\n",
       "    }\n",
       "\n",
       "    .dataframe tbody tr th {\n",
       "        vertical-align: top;\n",
       "    }\n",
       "\n",
       "    .dataframe thead th {\n",
       "        text-align: right;\n",
       "    }\n",
       "</style>\n",
       "<table border=\"1\" class=\"dataframe\">\n",
       "  <thead>\n",
       "    <tr style=\"text-align: right;\">\n",
       "      <th></th>\n",
       "      <th>DEPTS</th>\n",
       "      <th>PVS</th>\n",
       "      <th>SEXEQ</th>\n",
       "      <th>AGER</th>\n",
       "      <th>FAMIQ</th>\n",
       "      <th>RELAT</th>\n",
       "      <th>PCSPQ</th>\n",
       "      <th>QUALS</th>\n",
       "      <th>G03G04S</th>\n",
       "      <th>G25G26S</th>\n",
       "      <th>...</th>\n",
       "      <th>ZOCNB</th>\n",
       "      <th>NTCAS</th>\n",
       "      <th>NPTAG</th>\n",
       "      <th>SEGV2S</th>\n",
       "      <th>ITAVC</th>\n",
       "      <th>HAVEF</th>\n",
       "      <th>JNBJD1S</th>\n",
       "      <th>JNBJD2S</th>\n",
       "      <th>JNBJD3S</th>\n",
       "      <th>CARVP</th>\n",
       "    </tr>\n",
       "  </thead>\n",
       "  <tbody>\n",
       "    <tr>\n",
       "      <th>count</th>\n",
       "      <td>1290</td>\n",
       "      <td>1290</td>\n",
       "      <td>1290</td>\n",
       "      <td>1290</td>\n",
       "      <td>1290</td>\n",
       "      <td>1290</td>\n",
       "      <td>1290</td>\n",
       "      <td>1290</td>\n",
       "      <td>1290</td>\n",
       "      <td>1290</td>\n",
       "      <td>...</td>\n",
       "      <td>1290</td>\n",
       "      <td>1290</td>\n",
       "      <td>1290</td>\n",
       "      <td>1290</td>\n",
       "      <td>1290</td>\n",
       "      <td>1290</td>\n",
       "      <td>1290</td>\n",
       "      <td>1290</td>\n",
       "      <td>1290</td>\n",
       "      <td>1290</td>\n",
       "    </tr>\n",
       "    <tr>\n",
       "      <th>unique</th>\n",
       "      <td>36</td>\n",
       "      <td>8</td>\n",
       "      <td>3</td>\n",
       "      <td>90</td>\n",
       "      <td>7</td>\n",
       "      <td>377</td>\n",
       "      <td>9</td>\n",
       "      <td>7</td>\n",
       "      <td>2</td>\n",
       "      <td>1</td>\n",
       "      <td>...</td>\n",
       "      <td>57</td>\n",
       "      <td>7</td>\n",
       "      <td>5</td>\n",
       "      <td>8</td>\n",
       "      <td>1172</td>\n",
       "      <td>346</td>\n",
       "      <td>41</td>\n",
       "      <td>36</td>\n",
       "      <td>38</td>\n",
       "      <td>2</td>\n",
       "    </tr>\n",
       "    <tr>\n",
       "      <th>top</th>\n",
       "      <td>31</td>\n",
       "      <td>01</td>\n",
       "      <td>Shom</td>\n",
       "      <td>42</td>\n",
       "      <td>Fmar</td>\n",
       "      <td>.</td>\n",
       "      <td>Pemp</td>\n",
       "      <td>B</td>\n",
       "      <td>inc</td>\n",
       "      <td>inc</td>\n",
       "      <td>...</td>\n",
       "      <td>.</td>\n",
       "      <td>1</td>\n",
       "      <td>0</td>\n",
       "      <td>6</td>\n",
       "      <td>0</td>\n",
       "      <td>0</td>\n",
       "      <td>0</td>\n",
       "      <td>0</td>\n",
       "      <td>0</td>\n",
       "      <td>Cnon</td>\n",
       "    </tr>\n",
       "    <tr>\n",
       "      <th>freq</th>\n",
       "      <td>806</td>\n",
       "      <td>821</td>\n",
       "      <td>772</td>\n",
       "      <td>36</td>\n",
       "      <td>662</td>\n",
       "      <td>29</td>\n",
       "      <td>286</td>\n",
       "      <td>348</td>\n",
       "      <td>1285</td>\n",
       "      <td>1290</td>\n",
       "      <td>...</td>\n",
       "      <td>422</td>\n",
       "      <td>576</td>\n",
       "      <td>1115</td>\n",
       "      <td>313</td>\n",
       "      <td>70</td>\n",
       "      <td>825</td>\n",
       "      <td>916</td>\n",
       "      <td>897</td>\n",
       "      <td>898</td>\n",
       "      <td>879</td>\n",
       "    </tr>\n",
       "  </tbody>\n",
       "</table>\n",
       "<p>4 rows × 55 columns</p>\n",
       "</div>"
      ],
      "text/plain": [
       "       DEPTS   PVS SEXEQ  AGER FAMIQ RELAT PCSPQ QUALS G03G04S G25G26S  ...  \\\n",
       "count   1290  1290  1290  1290  1290  1290  1290  1290    1290    1290  ...   \n",
       "unique    36     8     3    90     7   377     9     7       2       1  ...   \n",
       "top       31    01  Shom    42  Fmar     .  Pemp     B     inc     inc  ...   \n",
       "freq     806   821   772    36   662    29   286   348    1285    1290  ...   \n",
       "\n",
       "       ZOCNB NTCAS NPTAG SEGV2S ITAVC HAVEF JNBJD1S JNBJD2S JNBJD3S CARVP  \n",
       "count   1290  1290  1290   1290  1290  1290    1290    1290    1290  1290  \n",
       "unique    57     7     5      8  1172   346      41      36      38     2  \n",
       "top        .     1     0      6     0     0       0       0       0  Cnon  \n",
       "freq     422   576  1115    313    70   825     916     897     898   879  \n",
       "\n",
       "[4 rows x 55 columns]"
      ]
     },
     "execution_count": 161,
     "metadata": {},
     "output_type": "execute_result"
    }
   ],
   "source": [
    "visaraw.describe(include='all')"
   ]
  },
  {
   "cell_type": "code",
   "execution_count": 162,
   "metadata": {
    "id": "4aEcMUWMk_X4",
    "outputId": "ba67d69f-1998-4724-d77a-db9ab43a32d1"
   },
   "outputs": [
    {
     "name": "stdout",
     "output_type": "stream",
     "text": [
      "<class 'pandas.core.frame.DataFrame'>\n",
      "Int64Index: 1290 entries, 131842 to 7589439\n",
      "Data columns (total 55 columns):\n",
      " #   Column   Non-Null Count  Dtype   \n",
      "---  ------   --------------  -----   \n",
      " 0   DEPTS    1290 non-null   object  \n",
      " 1   PVS      1290 non-null   object  \n",
      " 2   SEXEQ    1290 non-null   category\n",
      " 3   AGER     1290 non-null   object  \n",
      " 4   FAMIQ    1290 non-null   category\n",
      " 5   RELAT    1290 non-null   object  \n",
      " 6   PCSPQ    1290 non-null   category\n",
      " 7   QUALS    1290 non-null   object  \n",
      " 8   G03G04S  1290 non-null   object  \n",
      " 9   G25G26S  1290 non-null   object  \n",
      " 10  G29G30S  1290 non-null   object  \n",
      " 11  G35G36S  1290 non-null   object  \n",
      " 12  G37G38S  1290 non-null   object  \n",
      " 13  G45G46S  1290 non-null   object  \n",
      " 14  G47G48S  1290 non-null   object  \n",
      " 15  IMPNBS   1290 non-null   object  \n",
      " 16  REJETS   1290 non-null   object  \n",
      " 17  OPGNB    1290 non-null   object  \n",
      " 18  MOYRV    1290 non-null   object  \n",
      " 19  TAVEP    1290 non-null   object  \n",
      " 20  ENDET    1290 non-null   object  \n",
      " 21  GAGET    1290 non-null   object  \n",
      " 22  GAGEC    1290 non-null   object  \n",
      " 23  GAGEM    1290 non-null   object  \n",
      " 24  KVUNB    1290 non-null   object  \n",
      " 25  QSMOY    1290 non-null   object  \n",
      " 26  QCRED    1290 non-null   object  \n",
      " 27  DMVTP    1290 non-null   object  \n",
      " 28  BOPPN    1290 non-null   object  \n",
      " 29  FACAN    1290 non-null   object  \n",
      " 30  LGAGT    1290 non-null   object  \n",
      " 31  VIENB    1290 non-null   object  \n",
      " 32  VIEMT    1290 non-null   object  \n",
      " 33  UEMNB    1290 non-null   object  \n",
      " 34  UEMMTS   1290 non-null   object  \n",
      " 35  XLGNB    1290 non-null   object  \n",
      " 36  XLGMT    1290 non-null   object  \n",
      " 37  YLVNB    1290 non-null   object  \n",
      " 38  YLVMT    1290 non-null   object  \n",
      " 39  NBELTS   1290 non-null   object  \n",
      " 40  MTELTS   1290 non-null   object  \n",
      " 41  NBCATS   1290 non-null   object  \n",
      " 42  MTCATS   1290 non-null   object  \n",
      " 43  NBBECS   1290 non-null   object  \n",
      " 44  MTBECS   1290 non-null   object  \n",
      " 45  ZOCNB    1290 non-null   object  \n",
      " 46  NTCAS    1290 non-null   object  \n",
      " 47  NPTAG    1290 non-null   object  \n",
      " 48  SEGV2S   1290 non-null   object  \n",
      " 49  ITAVC    1290 non-null   object  \n",
      " 50  HAVEF    1290 non-null   object  \n",
      " 51  JNBJD1S  1290 non-null   object  \n",
      " 52  JNBJD2S  1290 non-null   object  \n",
      " 53  JNBJD3S  1290 non-null   object  \n",
      " 54  CARVP    1290 non-null   category\n",
      "dtypes: category(4), object(51)\n",
      "memory usage: 530.0+ KB\n"
     ]
    }
   ],
   "source": [
    "visaraw.info()"
   ]
  },
  {
   "cell_type": "code",
   "execution_count": 163,
   "metadata": {
    "id": "iCpE0pQbk_X9",
    "outputId": "a9d8df92-36cf-4f7a-fdde-9e397f35a277"
   },
   "outputs": [
    {
     "data": {
      "text/plain": [
       "array(['67', '82', '51', '58', '27', '49', '76', '64', '38', '46', '45',\n",
       "       '60', '34', '56', '70', '61', '41', '50', '43', '26', '75', '52',\n",
       "       '32', '33', '28', '.', '48', '53', '37', '63', '65', '62', '35',\n",
       "       '44', '40', '54', '68', '30', '78', '39', '31', '66', '47', '42',\n",
       "       '59', '25', '24', '57', '36', '55', '74', '69', '29', '71', '73',\n",
       "       '77', '80', '13', '16', '93', '83', '22', '20', '19', '92', '87',\n",
       "       '95', '89', '23', '72', '11', '88', '84', '17', '21', '91', '81',\n",
       "       '98', '86', '79', '85', '12', '7', '14', '18', '90', '15', '8',\n",
       "       '97', '9'], dtype=object)"
      ]
     },
     "execution_count": 163,
     "metadata": {},
     "output_type": "execute_result"
    }
   ],
   "source": [
    "visaraw.AGER.unique()"
   ]
  },
  {
   "cell_type": "markdown",
   "metadata": {
    "id": "7rXJmqvkk_YC"
   },
   "source": [
    "Suppression d'observations avec données manquantes de la variable `AGER`"
   ]
  },
  {
   "cell_type": "code",
   "execution_count": 164,
   "metadata": {
    "id": "YI0YrshNk_YH",
    "outputId": "a23c8bf4-b03c-479e-9308-d42ab2709dcd"
   },
   "outputs": [
    {
     "data": {
      "text/plain": [
       "array(['67', '82', '51', '58', '27', '49', '76', '64', '38', '46', '45',\n",
       "       '60', '34', '56', '70', '61', '41', '50', '43', '26', '75', '52',\n",
       "       '32', '33', '28', '48', '53', '37', '63', '65', '62', '35', '44',\n",
       "       '40', '54', '68', '30', '78', '39', '31', '66', '47', '42', '59',\n",
       "       '25', '24', '57', '36', '55', '74', '69', '29', '71', '73', '77',\n",
       "       '80', '13', '16', '93', '83', '22', '20', '19', '92', '87', '95',\n",
       "       '89', '23', '72', '11', '88', '84', '17', '21', '91', '81', '98',\n",
       "       '86', '79', '85', '12', '7', '14', '18', '90', '15', '8', '97',\n",
       "       '9'], dtype=object)"
      ]
     },
     "execution_count": 164,
     "metadata": {},
     "output_type": "execute_result"
    }
   ],
   "source": [
    "visaraw = visaraw[visaraw.AGER!='.']\n",
    "visaraw.AGER.unique()"
   ]
  },
  {
   "cell_type": "code",
   "execution_count": 166,
   "metadata": {
    "id": "EtdVh47mk_YD"
   },
   "outputs": [],
   "source": [
    "visaraw.AGER=visaraw.AGER.astype(float)"
   ]
  },
  {
   "cell_type": "markdown",
   "metadata": {
    "id": "rMXDlBb2k_YM"
   },
   "source": [
    "Sélection des clients agés de 18 à 65 ans"
   ]
  },
  {
   "cell_type": "code",
   "execution_count": 167,
   "metadata": {
    "id": "1pvEfl8Ek_YN",
    "outputId": "5ac56f23-7c58-47cc-e261-c593921aa839"
   },
   "outputs": [
    {
     "data": {
      "text/plain": [
       "array([51., 58., 27., 49., 64., 38., 46., 45., 60., 34., 56., 61., 41.,\n",
       "       50., 43., 26., 52., 32., 33., 28., 48., 53., 37., 63., 65., 62.,\n",
       "       35., 44., 40., 54., 30., 39., 31., 47., 42., 59., 25., 24., 57.,\n",
       "       36., 55., 29., 22., 20., 19., 23., 21., 18.])"
      ]
     },
     "execution_count": 167,
     "metadata": {},
     "output_type": "execute_result"
    }
   ],
   "source": [
    "visaraw = visaraw[visaraw.AGER>=18]\n",
    "visaraw = visaraw[visaraw.AGER<=65]\n",
    "visaraw.AGER.unique()"
   ]
  },
  {
   "cell_type": "markdown",
   "metadata": {
    "id": "tkacWMVqk_YS"
   },
   "source": [
    "Recodage des données manquantes (.) dans les variables ZOCNB et DMVTP"
   ]
  },
  {
   "cell_type": "code",
   "execution_count": 168,
   "metadata": {
    "id": "SgFVnz_vk_YS"
   },
   "outputs": [],
   "source": [
    "visaraw[\"ZOCNB\"]=visaraw[\"ZOCNB\"].replace(\".\",np.nan)\n",
    "visaraw[\"DMVTP\"]=visaraw[\"DMVTP\"].replace(\".\",np.nan)"
   ]
  },
  {
   "cell_type": "markdown",
   "metadata": {
    "id": "ajQ2TUCXk_YX"
   },
   "source": [
    "Correction des types des variables "
   ]
  },
  {
   "cell_type": "code",
   "execution_count": 169,
   "metadata": {
    "id": "Fr423ILNk_YX"
   },
   "outputs": [],
   "source": [
    "#On change le type de certaines variables. \n",
    "listeVarFl=['RELAT','IMPNBS','REJETS','OPGNB','MOYRV',\n",
    "'TAVEP','ENDET','GAGET','GAGEC','GAGEM','KVUNB','QSMOY','QCRED',\n",
    "'DMVTP','BOPPN','FACAN','LGAGT','VIENB','VIEMT','UEMNB','UEMMTS','XLGNB',\n",
    " 'XLGMT','YLVNB','YLVMT','NBELTS','MTELTS','NBCATS','MTCATS',\n",
    " 'NBBECS','MTBECS','ZOCNB','NTCAS','NPTAG','ITAVC',\n",
    " 'HAVEF','JNBJD1S','JNBJD2S','JNBJD3S']\n",
    "visaraw[listeVarFl]=visaraw[listeVarFl].astype(float)"
   ]
  },
  {
   "cell_type": "markdown",
   "metadata": {
    "id": "l_bdLyerk_Yc"
   },
   "source": [
    "Un seule variable nombre de jours de débit cumulé"
   ]
  },
  {
   "cell_type": "code",
   "execution_count": 171,
   "metadata": {
    "id": "v4c6qXXXk_Yd"
   },
   "outputs": [],
   "source": [
    "visaraw[\"JNBJD\"]=visaraw[\"JNBJD1S\"]+visaraw[\"JNBJD2S\"]+visaraw[\"JNBJD3S\"]"
   ]
  },
  {
   "cell_type": "markdown",
   "metadata": {
    "id": "tmBly_rDk_Yg"
   },
   "source": [
    "Suppression des variables devenues inutiles"
   ]
  },
  {
   "cell_type": "code",
   "execution_count": 172,
   "metadata": {
    "id": "H5Sxpe4Nk_Yh"
   },
   "outputs": [],
   "source": [
    "listeVarSup=[\"DEPTS\",\"QUALS\",\"G03G04S\",\"G25G26S\",\"G29G30S\",\"G35G36S\",\n",
    "            \"G37G38S\",\"G45G46S\",\"G47G48S\",\"SEGV2S\",\"PVS\",\"JNBJD1S\",\"JNBJD2S\",\"JNBJD3S\"]\n",
    "visaraw.drop(listeVarSup,inplace=True,axis=1)"
   ]
  },
  {
   "cell_type": "markdown",
   "metadata": {
    "id": "4jNbH0pXk_Ym"
   },
   "source": [
    "Mise à jour de la liste des variables"
   ]
  },
  {
   "cell_type": "code",
   "execution_count": 173,
   "metadata": {
    "id": "XXZA2nivk_Yn"
   },
   "outputs": [],
   "source": [
    "listeVar = [x for x in listeVar if x not in listeVarSup]"
   ]
  },
  {
   "cell_type": "markdown",
   "metadata": {
    "id": "Vio6U-Fwk_Ys"
   },
   "source": [
    "### Desciption univariée et bivariée"
   ]
  },
  {
   "cell_type": "code",
   "execution_count": 174,
   "metadata": {
    "id": "_vJu6emLk_Ys",
    "outputId": "55e189ec-c7ae-4c30-bffd-0ce9210626b0"
   },
   "outputs": [
    {
     "data": {
      "text/plain": [
       "AGER          42.561272\n",
       "RELAT        157.011225\n",
       "IMPNBS         0.000000\n",
       "REJETS        -0.072965\n",
       "OPGNB          1.502339\n",
       "MOYRV         29.478952\n",
       "TAVEP      56994.649205\n",
       "ENDET          5.446211\n",
       "GAGET      77594.328344\n",
       "GAGEC       4214.014967\n",
       "GAGEM      20294.660430\n",
       "KVUNB          1.028064\n",
       "QSMOY      10572.028064\n",
       "QCRED         22.179607\n",
       "DMVTP         19.080903\n",
       "BOPPN         28.953227\n",
       "FACAN      23277.075772\n",
       "LGAGT      53085.652947\n",
       "VIENB          0.240412\n",
       "VIEMT      36049.099158\n",
       "UEMNB          1.464920\n",
       "UEMMTS     56994.649205\n",
       "XLGNB          0.649205\n",
       "XLGMT      32209.979420\n",
       "YLVNB          0.756782\n",
       "YLVMT      20443.060804\n",
       "NBELTS         0.058934\n",
       "MTELTS      4341.608980\n",
       "NBCATS         0.000000\n",
       "MTCATS         0.000000\n",
       "NBBECS         0.000000\n",
       "MTBECS         0.000000\n",
       "ZOCNB         11.509482\n",
       "NTCAS          1.067353\n",
       "NPTAG          0.135641\n",
       "ITAVC     128310.471469\n",
       "HAVEF      50791.916745\n",
       "JNBJD         12.124415\n",
       "dtype: float64"
      ]
     },
     "execution_count": 174,
     "metadata": {},
     "output_type": "execute_result"
    }
   ],
   "source": [
    "# Moyennes\n",
    "visaprem=visaraw\n",
    "visaprem.mean()"
   ]
  },
  {
   "cell_type": "markdown",
   "metadata": {
    "id": "yy1DAt8pk_Yx"
   },
   "source": [
    "## Analyse en composantes principales\n",
    "Cette phase de l'analyse permet de mieux comprendre la structure de corrélation des variables afin de d'appréhender ce que seront les grandes classes de comportement des clients."
   ]
  },
  {
   "cell_type": "markdown",
   "metadata": {
    "id": "1mYqOS-qk_Yx"
   },
   "source": [
    "**Q** L'ACP calculée ci-dessous est-elle réduite ? Pourquoi?"
   ]
  },
  {
   "cell_type": "code",
   "execution_count": 207,
   "metadata": {},
   "outputs": [],
   "source": [
    "visatrans = visaraw\n",
    "#suppression les nan\n",
    "#visatrans.dropna(inplace=True)\n",
    "visatrans[\"ZOCNB\"].fillna(0, inplace=True)\n",
    "visatrans[\"ZOCNB\"]\n",
    "visatrans = visatrans[visatrans.DMVTP.notnull()]"
   ]
  },
  {
   "cell_type": "code",
   "execution_count": 218,
   "metadata": {},
   "outputs": [
    {
     "data": {
      "text/html": [
       "<div>\n",
       "<style scoped>\n",
       "    .dataframe tbody tr th:only-of-type {\n",
       "        vertical-align: middle;\n",
       "    }\n",
       "\n",
       "    .dataframe tbody tr th {\n",
       "        vertical-align: top;\n",
       "    }\n",
       "\n",
       "    .dataframe thead th {\n",
       "        text-align: right;\n",
       "    }\n",
       "</style>\n",
       "<table border=\"1\" class=\"dataframe\">\n",
       "  <thead>\n",
       "    <tr style=\"text-align: right;\">\n",
       "      <th></th>\n",
       "      <th>SEXEQ</th>\n",
       "      <th>AGER</th>\n",
       "      <th>FAMIQ</th>\n",
       "      <th>RELAT</th>\n",
       "      <th>PCSPQ</th>\n",
       "      <th>IMPNBS</th>\n",
       "      <th>REJETS</th>\n",
       "      <th>OPGNB</th>\n",
       "      <th>MOYRV</th>\n",
       "      <th>TAVEP</th>\n",
       "      <th>...</th>\n",
       "      <th>MTCATS</th>\n",
       "      <th>NBBECS</th>\n",
       "      <th>MTBECS</th>\n",
       "      <th>ZOCNB</th>\n",
       "      <th>NTCAS</th>\n",
       "      <th>NPTAG</th>\n",
       "      <th>ITAVC</th>\n",
       "      <th>HAVEF</th>\n",
       "      <th>CARVP</th>\n",
       "      <th>JNBJD</th>\n",
       "    </tr>\n",
       "    <tr>\n",
       "      <th>MATRIC</th>\n",
       "      <th></th>\n",
       "      <th></th>\n",
       "      <th></th>\n",
       "      <th></th>\n",
       "      <th></th>\n",
       "      <th></th>\n",
       "      <th></th>\n",
       "      <th></th>\n",
       "      <th></th>\n",
       "      <th></th>\n",
       "      <th></th>\n",
       "      <th></th>\n",
       "      <th></th>\n",
       "      <th></th>\n",
       "      <th></th>\n",
       "      <th></th>\n",
       "      <th></th>\n",
       "      <th></th>\n",
       "      <th></th>\n",
       "      <th></th>\n",
       "      <th></th>\n",
       "    </tr>\n",
       "  </thead>\n",
       "  <tbody>\n",
       "    <tr>\n",
       "      <th>148009</th>\n",
       "      <td>Shom</td>\n",
       "      <td>51.0</td>\n",
       "      <td>Fmar</td>\n",
       "      <td>238.0</td>\n",
       "      <td>Pcad</td>\n",
       "      <td>0.0</td>\n",
       "      <td>0.0</td>\n",
       "      <td>0.0</td>\n",
       "      <td>115.0</td>\n",
       "      <td>701939.0</td>\n",
       "      <td>...</td>\n",
       "      <td>0.0</td>\n",
       "      <td>0.0</td>\n",
       "      <td>0.0</td>\n",
       "      <td>14.0</td>\n",
       "      <td>2.0</td>\n",
       "      <td>0.0</td>\n",
       "      <td>1303700.0</td>\n",
       "      <td>556967.0</td>\n",
       "      <td>Coui</td>\n",
       "      <td>1.0</td>\n",
       "    </tr>\n",
       "    <tr>\n",
       "      <th>552427</th>\n",
       "      <td>Shom</td>\n",
       "      <td>58.0</td>\n",
       "      <td>Fmar</td>\n",
       "      <td>139.0</td>\n",
       "      <td>Pcad</td>\n",
       "      <td>0.0</td>\n",
       "      <td>0.0</td>\n",
       "      <td>0.0</td>\n",
       "      <td>40.0</td>\n",
       "      <td>3402.0</td>\n",
       "      <td>...</td>\n",
       "      <td>0.0</td>\n",
       "      <td>0.0</td>\n",
       "      <td>0.0</td>\n",
       "      <td>0.0</td>\n",
       "      <td>1.0</td>\n",
       "      <td>0.0</td>\n",
       "      <td>122745.0</td>\n",
       "      <td>0.0</td>\n",
       "      <td>Coui</td>\n",
       "      <td>0.0</td>\n",
       "    </tr>\n",
       "    <tr>\n",
       "      <th>556005</th>\n",
       "      <td>Shom</td>\n",
       "      <td>27.0</td>\n",
       "      <td>Fcel</td>\n",
       "      <td>99.0</td>\n",
       "      <td>Psan</td>\n",
       "      <td>0.0</td>\n",
       "      <td>0.0</td>\n",
       "      <td>0.0</td>\n",
       "      <td>17.0</td>\n",
       "      <td>76321.0</td>\n",
       "      <td>...</td>\n",
       "      <td>0.0</td>\n",
       "      <td>0.0</td>\n",
       "      <td>0.0</td>\n",
       "      <td>14.0</td>\n",
       "      <td>2.0</td>\n",
       "      <td>0.0</td>\n",
       "      <td>83224.0</td>\n",
       "      <td>0.0</td>\n",
       "      <td>Coui</td>\n",
       "      <td>0.0</td>\n",
       "    </tr>\n",
       "    <tr>\n",
       "      <th>556686</th>\n",
       "      <td>Shom</td>\n",
       "      <td>49.0</td>\n",
       "      <td>Fsep</td>\n",
       "      <td>89.0</td>\n",
       "      <td>Pemp</td>\n",
       "      <td>0.0</td>\n",
       "      <td>0.0</td>\n",
       "      <td>0.0</td>\n",
       "      <td>374.0</td>\n",
       "      <td>473350.0</td>\n",
       "      <td>...</td>\n",
       "      <td>0.0</td>\n",
       "      <td>0.0</td>\n",
       "      <td>0.0</td>\n",
       "      <td>11.0</td>\n",
       "      <td>3.0</td>\n",
       "      <td>1.0</td>\n",
       "      <td>494773.0</td>\n",
       "      <td>21423.0</td>\n",
       "      <td>Coui</td>\n",
       "      <td>15.0</td>\n",
       "    </tr>\n",
       "    <tr>\n",
       "      <th>642680</th>\n",
       "      <td>Shom</td>\n",
       "      <td>64.0</td>\n",
       "      <td>Fmar</td>\n",
       "      <td>216.0</td>\n",
       "      <td>Pcad</td>\n",
       "      <td>0.0</td>\n",
       "      <td>0.0</td>\n",
       "      <td>5.0</td>\n",
       "      <td>24.0</td>\n",
       "      <td>78462.0</td>\n",
       "      <td>...</td>\n",
       "      <td>0.0</td>\n",
       "      <td>0.0</td>\n",
       "      <td>0.0</td>\n",
       "      <td>27.0</td>\n",
       "      <td>1.0</td>\n",
       "      <td>0.0</td>\n",
       "      <td>81218.0</td>\n",
       "      <td>0.0</td>\n",
       "      <td>Coui</td>\n",
       "      <td>3.0</td>\n",
       "    </tr>\n",
       "    <tr>\n",
       "      <th>...</th>\n",
       "      <td>...</td>\n",
       "      <td>...</td>\n",
       "      <td>...</td>\n",
       "      <td>...</td>\n",
       "      <td>...</td>\n",
       "      <td>...</td>\n",
       "      <td>...</td>\n",
       "      <td>...</td>\n",
       "      <td>...</td>\n",
       "      <td>...</td>\n",
       "      <td>...</td>\n",
       "      <td>...</td>\n",
       "      <td>...</td>\n",
       "      <td>...</td>\n",
       "      <td>...</td>\n",
       "      <td>...</td>\n",
       "      <td>...</td>\n",
       "      <td>...</td>\n",
       "      <td>...</td>\n",
       "      <td>...</td>\n",
       "      <td>...</td>\n",
       "    </tr>\n",
       "    <tr>\n",
       "      <th>7567726</th>\n",
       "      <td>Sfem</td>\n",
       "      <td>38.0</td>\n",
       "      <td>Fmar</td>\n",
       "      <td>23.0</td>\n",
       "      <td>Psan</td>\n",
       "      <td>0.0</td>\n",
       "      <td>0.0</td>\n",
       "      <td>0.0</td>\n",
       "      <td>0.0</td>\n",
       "      <td>0.0</td>\n",
       "      <td>...</td>\n",
       "      <td>0.0</td>\n",
       "      <td>0.0</td>\n",
       "      <td>0.0</td>\n",
       "      <td>0.0</td>\n",
       "      <td>0.0</td>\n",
       "      <td>0.0</td>\n",
       "      <td>0.0</td>\n",
       "      <td>0.0</td>\n",
       "      <td>Cnon</td>\n",
       "      <td>0.0</td>\n",
       "    </tr>\n",
       "    <tr>\n",
       "      <th>7572458</th>\n",
       "      <td>Sfem</td>\n",
       "      <td>43.0</td>\n",
       "      <td>Fmar</td>\n",
       "      <td>27.0</td>\n",
       "      <td>Pcad</td>\n",
       "      <td>0.0</td>\n",
       "      <td>0.0</td>\n",
       "      <td>0.0</td>\n",
       "      <td>0.0</td>\n",
       "      <td>10685.0</td>\n",
       "      <td>...</td>\n",
       "      <td>0.0</td>\n",
       "      <td>0.0</td>\n",
       "      <td>0.0</td>\n",
       "      <td>0.0</td>\n",
       "      <td>0.0</td>\n",
       "      <td>0.0</td>\n",
       "      <td>10685.0</td>\n",
       "      <td>0.0</td>\n",
       "      <td>Cnon</td>\n",
       "      <td>0.0</td>\n",
       "    </tr>\n",
       "    <tr>\n",
       "      <th>7574479</th>\n",
       "      <td>Sfem</td>\n",
       "      <td>49.0</td>\n",
       "      <td>Fmar</td>\n",
       "      <td>31.0</td>\n",
       "      <td>Pemp</td>\n",
       "      <td>0.0</td>\n",
       "      <td>0.0</td>\n",
       "      <td>4.0</td>\n",
       "      <td>14.0</td>\n",
       "      <td>55845.0</td>\n",
       "      <td>...</td>\n",
       "      <td>0.0</td>\n",
       "      <td>0.0</td>\n",
       "      <td>0.0</td>\n",
       "      <td>9.0</td>\n",
       "      <td>1.0</td>\n",
       "      <td>0.0</td>\n",
       "      <td>63336.0</td>\n",
       "      <td>0.0</td>\n",
       "      <td>Cnon</td>\n",
       "      <td>9.0</td>\n",
       "    </tr>\n",
       "    <tr>\n",
       "      <th>7580358</th>\n",
       "      <td>Sfem</td>\n",
       "      <td>27.0</td>\n",
       "      <td>Finc</td>\n",
       "      <td>192.0</td>\n",
       "      <td>Psan</td>\n",
       "      <td>0.0</td>\n",
       "      <td>0.0</td>\n",
       "      <td>2.0</td>\n",
       "      <td>8.0</td>\n",
       "      <td>24642.0</td>\n",
       "      <td>...</td>\n",
       "      <td>0.0</td>\n",
       "      <td>0.0</td>\n",
       "      <td>0.0</td>\n",
       "      <td>2.0</td>\n",
       "      <td>1.0</td>\n",
       "      <td>0.0</td>\n",
       "      <td>27897.0</td>\n",
       "      <td>0.0</td>\n",
       "      <td>Cnon</td>\n",
       "      <td>38.0</td>\n",
       "    </tr>\n",
       "    <tr>\n",
       "      <th>7589439</th>\n",
       "      <td>Sfem</td>\n",
       "      <td>34.0</td>\n",
       "      <td>Fmar</td>\n",
       "      <td>137.0</td>\n",
       "      <td>Pcad</td>\n",
       "      <td>0.0</td>\n",
       "      <td>0.0</td>\n",
       "      <td>0.0</td>\n",
       "      <td>1.0</td>\n",
       "      <td>8785.0</td>\n",
       "      <td>...</td>\n",
       "      <td>0.0</td>\n",
       "      <td>0.0</td>\n",
       "      <td>0.0</td>\n",
       "      <td>0.0</td>\n",
       "      <td>0.0</td>\n",
       "      <td>0.0</td>\n",
       "      <td>8785.0</td>\n",
       "      <td>0.0</td>\n",
       "      <td>Cnon</td>\n",
       "      <td>0.0</td>\n",
       "    </tr>\n",
       "  </tbody>\n",
       "</table>\n",
       "<p>1063 rows × 42 columns</p>\n",
       "</div>"
      ],
      "text/plain": [
       "        SEXEQ  AGER FAMIQ  RELAT PCSPQ  IMPNBS  REJETS  OPGNB  MOYRV  \\\n",
       "MATRIC                                                                 \n",
       "148009   Shom  51.0  Fmar  238.0  Pcad     0.0     0.0    0.0  115.0   \n",
       "552427   Shom  58.0  Fmar  139.0  Pcad     0.0     0.0    0.0   40.0   \n",
       "556005   Shom  27.0  Fcel   99.0  Psan     0.0     0.0    0.0   17.0   \n",
       "556686   Shom  49.0  Fsep   89.0  Pemp     0.0     0.0    0.0  374.0   \n",
       "642680   Shom  64.0  Fmar  216.0  Pcad     0.0     0.0    5.0   24.0   \n",
       "...       ...   ...   ...    ...   ...     ...     ...    ...    ...   \n",
       "7567726  Sfem  38.0  Fmar   23.0  Psan     0.0     0.0    0.0    0.0   \n",
       "7572458  Sfem  43.0  Fmar   27.0  Pcad     0.0     0.0    0.0    0.0   \n",
       "7574479  Sfem  49.0  Fmar   31.0  Pemp     0.0     0.0    4.0   14.0   \n",
       "7580358  Sfem  27.0  Finc  192.0  Psan     0.0     0.0    2.0    8.0   \n",
       "7589439  Sfem  34.0  Fmar  137.0  Pcad     0.0     0.0    0.0    1.0   \n",
       "\n",
       "            TAVEP  ...  MTCATS  NBBECS  MTBECS  ZOCNB  NTCAS  NPTAG  \\\n",
       "MATRIC             ...                                                \n",
       "148009   701939.0  ...     0.0     0.0     0.0   14.0    2.0    0.0   \n",
       "552427     3402.0  ...     0.0     0.0     0.0    0.0    1.0    0.0   \n",
       "556005    76321.0  ...     0.0     0.0     0.0   14.0    2.0    0.0   \n",
       "556686   473350.0  ...     0.0     0.0     0.0   11.0    3.0    1.0   \n",
       "642680    78462.0  ...     0.0     0.0     0.0   27.0    1.0    0.0   \n",
       "...           ...  ...     ...     ...     ...    ...    ...    ...   \n",
       "7567726       0.0  ...     0.0     0.0     0.0    0.0    0.0    0.0   \n",
       "7572458   10685.0  ...     0.0     0.0     0.0    0.0    0.0    0.0   \n",
       "7574479   55845.0  ...     0.0     0.0     0.0    9.0    1.0    0.0   \n",
       "7580358   24642.0  ...     0.0     0.0     0.0    2.0    1.0    0.0   \n",
       "7589439    8785.0  ...     0.0     0.0     0.0    0.0    0.0    0.0   \n",
       "\n",
       "             ITAVC     HAVEF  CARVP  JNBJD  \n",
       "MATRIC                                      \n",
       "148009   1303700.0  556967.0   Coui    1.0  \n",
       "552427    122745.0       0.0   Coui    0.0  \n",
       "556005     83224.0       0.0   Coui    0.0  \n",
       "556686    494773.0   21423.0   Coui   15.0  \n",
       "642680     81218.0       0.0   Coui    3.0  \n",
       "...            ...       ...    ...    ...  \n",
       "7567726        0.0       0.0   Cnon    0.0  \n",
       "7572458    10685.0       0.0   Cnon    0.0  \n",
       "7574479    63336.0       0.0   Cnon    9.0  \n",
       "7580358    27897.0       0.0   Cnon   38.0  \n",
       "7589439     8785.0       0.0   Cnon    0.0  \n",
       "\n",
       "[1063 rows x 42 columns]"
      ]
     },
     "execution_count": 218,
     "metadata": {},
     "output_type": "execute_result"
    }
   ],
   "source": [
    "visatrans"
   ]
  },
  {
   "cell_type": "code",
   "execution_count": 219,
   "metadata": {},
   "outputs": [
    {
     "data": {
      "text/html": [
       "<div>\n",
       "<style scoped>\n",
       "    .dataframe tbody tr th:only-of-type {\n",
       "        vertical-align: middle;\n",
       "    }\n",
       "\n",
       "    .dataframe tbody tr th {\n",
       "        vertical-align: top;\n",
       "    }\n",
       "\n",
       "    .dataframe thead th {\n",
       "        text-align: right;\n",
       "    }\n",
       "</style>\n",
       "<table border=\"1\" class=\"dataframe\">\n",
       "  <thead>\n",
       "    <tr style=\"text-align: right;\">\n",
       "      <th></th>\n",
       "      <th>SEXEQ</th>\n",
       "      <th>AGER</th>\n",
       "      <th>FAMIQ</th>\n",
       "      <th>RELAT</th>\n",
       "      <th>PCSPQ</th>\n",
       "      <th>IMPNBS</th>\n",
       "      <th>REJETS</th>\n",
       "      <th>OPGNB</th>\n",
       "      <th>MOYRV</th>\n",
       "      <th>TAVEP</th>\n",
       "      <th>...</th>\n",
       "      <th>MTCATS</th>\n",
       "      <th>NBBECS</th>\n",
       "      <th>MTBECS</th>\n",
       "      <th>ZOCNB</th>\n",
       "      <th>NTCAS</th>\n",
       "      <th>NPTAG</th>\n",
       "      <th>ITAVC</th>\n",
       "      <th>HAVEF</th>\n",
       "      <th>CARVP</th>\n",
       "      <th>JNBJD</th>\n",
       "    </tr>\n",
       "    <tr>\n",
       "      <th>MATRIC</th>\n",
       "      <th></th>\n",
       "      <th></th>\n",
       "      <th></th>\n",
       "      <th></th>\n",
       "      <th></th>\n",
       "      <th></th>\n",
       "      <th></th>\n",
       "      <th></th>\n",
       "      <th></th>\n",
       "      <th></th>\n",
       "      <th></th>\n",
       "      <th></th>\n",
       "      <th></th>\n",
       "      <th></th>\n",
       "      <th></th>\n",
       "      <th></th>\n",
       "      <th></th>\n",
       "      <th></th>\n",
       "      <th></th>\n",
       "      <th></th>\n",
       "      <th></th>\n",
       "    </tr>\n",
       "  </thead>\n",
       "  <tbody>\n",
       "    <tr>\n",
       "      <th>148009</th>\n",
       "      <td>Shom</td>\n",
       "      <td>51.0</td>\n",
       "      <td>Fmar</td>\n",
       "      <td>238.0</td>\n",
       "      <td>Pcad</td>\n",
       "      <td>0.0</td>\n",
       "      <td>0.0</td>\n",
       "      <td>0.0</td>\n",
       "      <td>115.0</td>\n",
       "      <td>701939.0</td>\n",
       "      <td>...</td>\n",
       "      <td>0.0</td>\n",
       "      <td>0.0</td>\n",
       "      <td>0.0</td>\n",
       "      <td>14.0</td>\n",
       "      <td>2.0</td>\n",
       "      <td>0.0</td>\n",
       "      <td>1303700.0</td>\n",
       "      <td>556967.0</td>\n",
       "      <td>Coui</td>\n",
       "      <td>1.0</td>\n",
       "    </tr>\n",
       "    <tr>\n",
       "      <th>552427</th>\n",
       "      <td>Shom</td>\n",
       "      <td>58.0</td>\n",
       "      <td>Fmar</td>\n",
       "      <td>139.0</td>\n",
       "      <td>Pcad</td>\n",
       "      <td>0.0</td>\n",
       "      <td>0.0</td>\n",
       "      <td>0.0</td>\n",
       "      <td>40.0</td>\n",
       "      <td>3402.0</td>\n",
       "      <td>...</td>\n",
       "      <td>0.0</td>\n",
       "      <td>0.0</td>\n",
       "      <td>0.0</td>\n",
       "      <td>0.0</td>\n",
       "      <td>1.0</td>\n",
       "      <td>0.0</td>\n",
       "      <td>122745.0</td>\n",
       "      <td>0.0</td>\n",
       "      <td>Coui</td>\n",
       "      <td>0.0</td>\n",
       "    </tr>\n",
       "    <tr>\n",
       "      <th>556005</th>\n",
       "      <td>Shom</td>\n",
       "      <td>27.0</td>\n",
       "      <td>Fcel</td>\n",
       "      <td>99.0</td>\n",
       "      <td>Psan</td>\n",
       "      <td>0.0</td>\n",
       "      <td>0.0</td>\n",
       "      <td>0.0</td>\n",
       "      <td>17.0</td>\n",
       "      <td>76321.0</td>\n",
       "      <td>...</td>\n",
       "      <td>0.0</td>\n",
       "      <td>0.0</td>\n",
       "      <td>0.0</td>\n",
       "      <td>14.0</td>\n",
       "      <td>2.0</td>\n",
       "      <td>0.0</td>\n",
       "      <td>83224.0</td>\n",
       "      <td>0.0</td>\n",
       "      <td>Coui</td>\n",
       "      <td>0.0</td>\n",
       "    </tr>\n",
       "    <tr>\n",
       "      <th>556686</th>\n",
       "      <td>Shom</td>\n",
       "      <td>49.0</td>\n",
       "      <td>Fsep</td>\n",
       "      <td>89.0</td>\n",
       "      <td>Pemp</td>\n",
       "      <td>0.0</td>\n",
       "      <td>0.0</td>\n",
       "      <td>0.0</td>\n",
       "      <td>374.0</td>\n",
       "      <td>473350.0</td>\n",
       "      <td>...</td>\n",
       "      <td>0.0</td>\n",
       "      <td>0.0</td>\n",
       "      <td>0.0</td>\n",
       "      <td>11.0</td>\n",
       "      <td>3.0</td>\n",
       "      <td>1.0</td>\n",
       "      <td>494773.0</td>\n",
       "      <td>21423.0</td>\n",
       "      <td>Coui</td>\n",
       "      <td>15.0</td>\n",
       "    </tr>\n",
       "    <tr>\n",
       "      <th>642680</th>\n",
       "      <td>Shom</td>\n",
       "      <td>64.0</td>\n",
       "      <td>Fmar</td>\n",
       "      <td>216.0</td>\n",
       "      <td>Pcad</td>\n",
       "      <td>0.0</td>\n",
       "      <td>0.0</td>\n",
       "      <td>5.0</td>\n",
       "      <td>24.0</td>\n",
       "      <td>78462.0</td>\n",
       "      <td>...</td>\n",
       "      <td>0.0</td>\n",
       "      <td>0.0</td>\n",
       "      <td>0.0</td>\n",
       "      <td>27.0</td>\n",
       "      <td>1.0</td>\n",
       "      <td>0.0</td>\n",
       "      <td>81218.0</td>\n",
       "      <td>0.0</td>\n",
       "      <td>Coui</td>\n",
       "      <td>3.0</td>\n",
       "    </tr>\n",
       "    <tr>\n",
       "      <th>...</th>\n",
       "      <td>...</td>\n",
       "      <td>...</td>\n",
       "      <td>...</td>\n",
       "      <td>...</td>\n",
       "      <td>...</td>\n",
       "      <td>...</td>\n",
       "      <td>...</td>\n",
       "      <td>...</td>\n",
       "      <td>...</td>\n",
       "      <td>...</td>\n",
       "      <td>...</td>\n",
       "      <td>...</td>\n",
       "      <td>...</td>\n",
       "      <td>...</td>\n",
       "      <td>...</td>\n",
       "      <td>...</td>\n",
       "      <td>...</td>\n",
       "      <td>...</td>\n",
       "      <td>...</td>\n",
       "      <td>...</td>\n",
       "      <td>...</td>\n",
       "    </tr>\n",
       "    <tr>\n",
       "      <th>7567726</th>\n",
       "      <td>Sfem</td>\n",
       "      <td>38.0</td>\n",
       "      <td>Fmar</td>\n",
       "      <td>23.0</td>\n",
       "      <td>Psan</td>\n",
       "      <td>0.0</td>\n",
       "      <td>0.0</td>\n",
       "      <td>0.0</td>\n",
       "      <td>0.0</td>\n",
       "      <td>0.0</td>\n",
       "      <td>...</td>\n",
       "      <td>0.0</td>\n",
       "      <td>0.0</td>\n",
       "      <td>0.0</td>\n",
       "      <td>0.0</td>\n",
       "      <td>0.0</td>\n",
       "      <td>0.0</td>\n",
       "      <td>0.0</td>\n",
       "      <td>0.0</td>\n",
       "      <td>Cnon</td>\n",
       "      <td>0.0</td>\n",
       "    </tr>\n",
       "    <tr>\n",
       "      <th>7572458</th>\n",
       "      <td>Sfem</td>\n",
       "      <td>43.0</td>\n",
       "      <td>Fmar</td>\n",
       "      <td>27.0</td>\n",
       "      <td>Pcad</td>\n",
       "      <td>0.0</td>\n",
       "      <td>0.0</td>\n",
       "      <td>0.0</td>\n",
       "      <td>0.0</td>\n",
       "      <td>10685.0</td>\n",
       "      <td>...</td>\n",
       "      <td>0.0</td>\n",
       "      <td>0.0</td>\n",
       "      <td>0.0</td>\n",
       "      <td>0.0</td>\n",
       "      <td>0.0</td>\n",
       "      <td>0.0</td>\n",
       "      <td>10685.0</td>\n",
       "      <td>0.0</td>\n",
       "      <td>Cnon</td>\n",
       "      <td>0.0</td>\n",
       "    </tr>\n",
       "    <tr>\n",
       "      <th>7574479</th>\n",
       "      <td>Sfem</td>\n",
       "      <td>49.0</td>\n",
       "      <td>Fmar</td>\n",
       "      <td>31.0</td>\n",
       "      <td>Pemp</td>\n",
       "      <td>0.0</td>\n",
       "      <td>0.0</td>\n",
       "      <td>4.0</td>\n",
       "      <td>14.0</td>\n",
       "      <td>55845.0</td>\n",
       "      <td>...</td>\n",
       "      <td>0.0</td>\n",
       "      <td>0.0</td>\n",
       "      <td>0.0</td>\n",
       "      <td>9.0</td>\n",
       "      <td>1.0</td>\n",
       "      <td>0.0</td>\n",
       "      <td>63336.0</td>\n",
       "      <td>0.0</td>\n",
       "      <td>Cnon</td>\n",
       "      <td>9.0</td>\n",
       "    </tr>\n",
       "    <tr>\n",
       "      <th>7580358</th>\n",
       "      <td>Sfem</td>\n",
       "      <td>27.0</td>\n",
       "      <td>Finc</td>\n",
       "      <td>192.0</td>\n",
       "      <td>Psan</td>\n",
       "      <td>0.0</td>\n",
       "      <td>0.0</td>\n",
       "      <td>2.0</td>\n",
       "      <td>8.0</td>\n",
       "      <td>24642.0</td>\n",
       "      <td>...</td>\n",
       "      <td>0.0</td>\n",
       "      <td>0.0</td>\n",
       "      <td>0.0</td>\n",
       "      <td>2.0</td>\n",
       "      <td>1.0</td>\n",
       "      <td>0.0</td>\n",
       "      <td>27897.0</td>\n",
       "      <td>0.0</td>\n",
       "      <td>Cnon</td>\n",
       "      <td>38.0</td>\n",
       "    </tr>\n",
       "    <tr>\n",
       "      <th>7589439</th>\n",
       "      <td>Sfem</td>\n",
       "      <td>34.0</td>\n",
       "      <td>Fmar</td>\n",
       "      <td>137.0</td>\n",
       "      <td>Pcad</td>\n",
       "      <td>0.0</td>\n",
       "      <td>0.0</td>\n",
       "      <td>0.0</td>\n",
       "      <td>1.0</td>\n",
       "      <td>8785.0</td>\n",
       "      <td>...</td>\n",
       "      <td>0.0</td>\n",
       "      <td>0.0</td>\n",
       "      <td>0.0</td>\n",
       "      <td>0.0</td>\n",
       "      <td>0.0</td>\n",
       "      <td>0.0</td>\n",
       "      <td>8785.0</td>\n",
       "      <td>0.0</td>\n",
       "      <td>Cnon</td>\n",
       "      <td>0.0</td>\n",
       "    </tr>\n",
       "  </tbody>\n",
       "</table>\n",
       "<p>1069 rows × 42 columns</p>\n",
       "</div>"
      ],
      "text/plain": [
       "        SEXEQ  AGER FAMIQ  RELAT PCSPQ  IMPNBS  REJETS  OPGNB  MOYRV  \\\n",
       "MATRIC                                                                 \n",
       "148009   Shom  51.0  Fmar  238.0  Pcad     0.0     0.0    0.0  115.0   \n",
       "552427   Shom  58.0  Fmar  139.0  Pcad     0.0     0.0    0.0   40.0   \n",
       "556005   Shom  27.0  Fcel   99.0  Psan     0.0     0.0    0.0   17.0   \n",
       "556686   Shom  49.0  Fsep   89.0  Pemp     0.0     0.0    0.0  374.0   \n",
       "642680   Shom  64.0  Fmar  216.0  Pcad     0.0     0.0    5.0   24.0   \n",
       "...       ...   ...   ...    ...   ...     ...     ...    ...    ...   \n",
       "7567726  Sfem  38.0  Fmar   23.0  Psan     0.0     0.0    0.0    0.0   \n",
       "7572458  Sfem  43.0  Fmar   27.0  Pcad     0.0     0.0    0.0    0.0   \n",
       "7574479  Sfem  49.0  Fmar   31.0  Pemp     0.0     0.0    4.0   14.0   \n",
       "7580358  Sfem  27.0  Finc  192.0  Psan     0.0     0.0    2.0    8.0   \n",
       "7589439  Sfem  34.0  Fmar  137.0  Pcad     0.0     0.0    0.0    1.0   \n",
       "\n",
       "            TAVEP  ...  MTCATS  NBBECS  MTBECS  ZOCNB  NTCAS  NPTAG  \\\n",
       "MATRIC             ...                                                \n",
       "148009   701939.0  ...     0.0     0.0     0.0   14.0    2.0    0.0   \n",
       "552427     3402.0  ...     0.0     0.0     0.0    0.0    1.0    0.0   \n",
       "556005    76321.0  ...     0.0     0.0     0.0   14.0    2.0    0.0   \n",
       "556686   473350.0  ...     0.0     0.0     0.0   11.0    3.0    1.0   \n",
       "642680    78462.0  ...     0.0     0.0     0.0   27.0    1.0    0.0   \n",
       "...           ...  ...     ...     ...     ...    ...    ...    ...   \n",
       "7567726       0.0  ...     0.0     0.0     0.0    0.0    0.0    0.0   \n",
       "7572458   10685.0  ...     0.0     0.0     0.0    0.0    0.0    0.0   \n",
       "7574479   55845.0  ...     0.0     0.0     0.0    9.0    1.0    0.0   \n",
       "7580358   24642.0  ...     0.0     0.0     0.0    2.0    1.0    0.0   \n",
       "7589439    8785.0  ...     0.0     0.0     0.0    0.0    0.0    0.0   \n",
       "\n",
       "             ITAVC     HAVEF  CARVP  JNBJD  \n",
       "MATRIC                                      \n",
       "148009   1303700.0  556967.0   Coui    1.0  \n",
       "552427    122745.0       0.0   Coui    0.0  \n",
       "556005     83224.0       0.0   Coui    0.0  \n",
       "556686    494773.0   21423.0   Coui   15.0  \n",
       "642680     81218.0       0.0   Coui    3.0  \n",
       "...            ...       ...    ...    ...  \n",
       "7567726        0.0       0.0   Cnon    0.0  \n",
       "7572458    10685.0       0.0   Cnon    0.0  \n",
       "7574479    63336.0       0.0   Cnon    9.0  \n",
       "7580358    27897.0       0.0   Cnon   38.0  \n",
       "7589439     8785.0       0.0   Cnon    0.0  \n",
       "\n",
       "[1069 rows x 42 columns]"
      ]
     },
     "execution_count": 219,
     "metadata": {},
     "output_type": "execute_result"
    }
   ],
   "source": [
    "visaraw"
   ]
  },
  {
   "cell_type": "code",
   "execution_count": 208,
   "metadata": {
    "id": "x9igIfmDk_Yy",
    "outputId": "7f49a3ac-27c1-4629-d649-d6d84b7f6874",
    "scrolled": true
   },
   "outputs": [
    {
     "data": {
      "text/plain": [
       "array([[ 6.72106754e+00,  1.95085640e+00, -5.94526710e+00, ...,\n",
       "         6.82123428e-01, -3.26761314e-01,  4.04766326e-16],\n",
       "       [-9.82482860e-01,  6.15424783e-01, -2.14255045e-01, ...,\n",
       "         6.69410289e-02,  9.06910591e-02, -8.50218891e-17],\n",
       "       [-6.68487382e-01,  2.75642311e-01, -3.39409460e-01, ...,\n",
       "        -2.24052828e-02, -4.46051637e-03, -3.96697465e-16],\n",
       "       ...,\n",
       "       [-1.53006830e-01, -1.38335121e-01, -2.32167754e-01, ...,\n",
       "         1.79991658e-02,  1.43635747e-02,  4.91858385e-17],\n",
       "       [-8.57342186e-01, -1.55180987e-01,  4.72073333e-01, ...,\n",
       "         3.15127923e-02,  1.54229789e-02,  2.66228686e-17],\n",
       "       [-2.05002703e+00,  1.04665518e+00, -3.79953945e-02, ...,\n",
       "         2.06656534e-02, -6.60907439e-03, -1.24823902e-16]])"
      ]
     },
     "execution_count": 208,
     "metadata": {},
     "output_type": "execute_result"
    }
   ],
   "source": [
    "from sklearn.decomposition import PCA\n",
    "from sklearn.preprocessing import scale\n",
    "# définition de la commande\n",
    "pca = PCA()\n",
    "# Sélection des variables quantitatives\n",
    "dat=visatrans[[\"AGER\",\"RELAT\",\"KVUNB\", \"OPGNB\", \"MOYRV\",\"TAVEP\",\"ENDET\",\"GAGET\",\"GAGEC\",\"GAGEM\",\"QCRED\",\"DMVTP\",\"BOPPN\",\"FACAN\",\"LGAGT\",\"VIEMT\",\"XLGMT\",\"YLVMT\",\"ITAVC\",\"HAVEF\",\"JNBJD\",\"ZOCNB\"]]\n",
    "\n",
    "# réduction\n",
    "data = pd.DataFrame(scale(dat),columns=dat.columns) #On normalise nos datas. \n",
    "# composantes principales\n",
    "C = pca.fit(data).transform(data)#On implémente notre modèle et on change sa dimension avec le .transform pour en faire un array\n",
    "C"
   ]
  },
  {
   "cell_type": "code",
   "execution_count": 209,
   "metadata": {},
   "outputs": [
    {
     "data": {
      "text/plain": [
       "numpy.ndarray"
      ]
     },
     "execution_count": 209,
     "metadata": {},
     "output_type": "execute_result"
    }
   ],
   "source": [
    "type(C)"
   ]
  },
  {
   "cell_type": "markdown",
   "metadata": {
    "id": "Q4W8dc0ek_Y2"
   },
   "source": [
    "### Choix de dimension"
   ]
  },
  {
   "cell_type": "code",
   "execution_count": 210,
   "metadata": {
    "scrolled": true
   },
   "outputs": [
    {
     "data": {
      "text/plain": [
       "array([2.15210748e-01, 1.19247967e-01, 8.81957944e-02, 7.72548328e-02,\n",
       "       6.62023736e-02, 5.78783235e-02, 5.00385413e-02, 4.66182564e-02,\n",
       "       4.33236153e-02, 3.79621640e-02, 3.54845825e-02, 3.41467268e-02,\n",
       "       3.08330287e-02, 2.82919217e-02, 2.58157222e-02, 2.53335824e-02,\n",
       "       8.27924195e-03, 5.89664225e-03, 2.26693151e-03, 1.44406941e-03,\n",
       "       2.74934493e-04, 4.09381694e-33])"
      ]
     },
     "execution_count": 210,
     "metadata": {},
     "output_type": "execute_result"
    }
   ],
   "source": [
    "pca.explained_variance_ratio_"
   ]
  },
  {
   "cell_type": "code",
   "execution_count": 211,
   "metadata": {
    "id": "pwOVeuW9k_Y2",
    "outputId": "d7235112-7bb8-4277-9438-d91374ba1cd0"
   },
   "outputs": [
    {
     "data": {
      "image/png": "[encoded data removed]",
      "text/plain": [
       "<Figure size 432x288 with 1 Axes>"
      ]
     },
     "metadata": {
      "needs_background": "light"
     },
     "output_type": "display_data"
    }
   ],
   "source": [
    "# Eboulis des valeurs propres\n",
    "plt.figure()\n",
    "plt.plot(pca.explained_variance_ratio_)\n",
    "plt.show()"
   ]
  },
  {
   "cell_type": "markdown",
   "metadata": {
    "id": "PZhiXJOpk_Y7"
   },
   "source": [
    "**Q** Que représente le graphe ci-dessous? Quelle information en tirer?"
   ]
  },
  {
   "cell_type": "code",
   "execution_count": 212,
   "metadata": {
    "id": "BSTxxsl-k_Y8",
    "outputId": "73bfb04b-0c9d-44ab-f035-910d6910b74c",
    "scrolled": false
   },
   "outputs": [
    {
     "data": {
      "image/png": "[encoded data removed]",
      "text/plain": [
       "<Figure size 432x288 with 1 Axes>"
      ]
     },
     "metadata": {
      "needs_background": "light"
     },
     "output_type": "display_data"
    }
   ],
   "source": [
    "# Diagrammes boîte des composantes principales\n",
    "plt.figure()              \n",
    "plt.boxplot(C[:,0:20])\n",
    "plt.axis((0,22,-6,7))\n",
    "plt.show()"
   ]
  },
  {
   "cell_type": "markdown",
   "metadata": {},
   "source": [
    "Ce diagramme montre l'importance des variables principales les unes par rapports aux autre. Ici on voit que la composante principal 1 explique beaucoup et que les variables 2 et 3 semble également "
   ]
  },
  {
   "cell_type": "markdown",
   "metadata": {
    "id": "LXhoYXF6k_ZA"
   },
   "source": [
    "### Représentation des individus"
   ]
  },
  {
   "cell_type": "markdown",
   "metadata": {
    "id": "FAYVRViwk_ZB"
   },
   "source": [
    "**Q** Quel est le graphe ci-dessous? Quelle information en retenir?"
   ]
  },
  {
   "cell_type": "code",
   "execution_count": 213,
   "metadata": {
    "id": "ww_KZcvjk_ZC",
    "outputId": "a816bf59-7c17-4358-c41e-fc0d4f1fd54a",
    "scrolled": true
   },
   "outputs": [
    {
     "data": {
      "image/png": "[encoded data removed]",
      "text/plain": [
       "<Figure size 720x576 with 1 Axes>"
      ]
     },
     "metadata": {
      "needs_background": "light"
     },
     "output_type": "display_data"
    }
   ],
   "source": [
    "plt.figure(figsize=(10,8))\n",
    "for i, j, nom in zip(C[:,0], C[:,1], visatrans['CARVP']):\n",
    "    color = \"red\" if nom == \"Coui\" else \"blue\"\n",
    "    plt.text(i, j, nom, color=color)\n",
    "plt.axis((-6,7.5,-5,6))  \n",
    "plt.show()"
   ]
  },
  {
   "cell_type": "markdown",
   "metadata": {},
   "source": [
    "Ce graphe représente la position des individus de notre dataset en fonction de nos deux dimension principal. En temps normal il permet d'entrevoir l'implication des variables dans le placement des points en faisant le liens avec le cercle des corélations. \n",
    "\n"
   ]
  },
  {
   "cell_type": "code",
   "execution_count": 73,
   "metadata": {
    "scrolled": true
   },
   "outputs": [
    {
     "data": {
      "text/plain": [
       "array([-2.61437428e-01,  3.47330356e+01,  9.54121693e-01,  5.03810411e-01,\n",
       "        1.01919078e-01, -3.22153355e-01,  2.86178531e-02, -6.83988113e-01,\n",
       "        1.56146208e-01, -8.10335229e-02, -1.96697667e+00, -4.55274629e-01,\n",
       "       -1.84073550e-01,  6.59004515e-01,  4.85465761e+00,  4.56050370e-01,\n",
       "       -1.54443278e-01, -9.68711678e-01, -1.91808275e+00,  6.77376701e-01,\n",
       "        1.69677586e-01,  8.43782644e-01,  3.79795892e-01,  9.67403844e-01,\n",
       "        8.01191663e-01,  8.40484384e-01,  6.79397550e-01,  9.66234311e-01,\n",
       "       -1.64273650e+00,  6.14539165e-02,  5.37870718e-01,  4.54292313e-02,\n",
       "       -6.68738202e-01, -7.63159974e-01, -5.33793576e-01, -3.91220649e-01,\n",
       "       -4.19670824e-01,  4.96202718e-01, -9.15427185e-01, -1.28845262e-01,\n",
       "        8.59787393e-02,  6.82449617e-01,  5.65591031e-01,  6.37989081e-01,\n",
       "        8.17976688e-01,  7.37840627e-01,  2.44853129e-01,  3.40344785e-01,\n",
       "       -5.57691140e-02, -2.09181961e-02, -8.32280128e-01,  4.10488568e-01,\n",
       "       -1.80415726e+00, -4.08573088e-02, -2.17716817e+00, -3.90006638e-01,\n",
       "       -1.13755415e+00, -3.14902621e+00, -4.63962759e-01,  7.10832332e-01,\n",
       "       -1.64269291e+00, -1.90942107e+00, -2.05151983e+00,  3.01820516e-01,\n",
       "       -4.01210048e-01, -2.05397478e-03, -9.17342739e-01,  4.33815019e-01,\n",
       "        6.09649334e-01, -7.81843912e-01, -2.19681235e-01, -2.51117731e+00,\n",
       "       -4.47839951e-02, -5.96949570e-01, -4.67722545e-02, -3.55175286e-01,\n",
       "       -1.06551990e-01, -1.52033474e-01,  2.69412924e-01, -1.96686895e+00,\n",
       "       -1.47421345e-01,  8.14717718e-01,  1.99540117e-01,  1.18258011e+00,\n",
       "       -2.84553421e+00, -2.50092342e+00, -3.57155096e-01, -4.58903469e-01,\n",
       "        2.64624710e-01, -6.57842008e-01, -1.48071806e+00, -2.77417788e-01,\n",
       "       -2.50513847e-01,  4.82345475e-01, -4.76504971e-02,  5.70993076e-01,\n",
       "        3.15939780e-01, -6.17171160e-01, -1.50315052e+00, -2.65155981e+00,\n",
       "        1.56994185e+00,  2.57586613e-01, -2.79708201e-02,  9.31239282e-01,\n",
       "        6.66570578e-01,  8.03888567e-01,  9.94766508e-01,  8.62014687e-01,\n",
       "       -5.25676722e-01,  5.76618645e-01,  8.23695564e-01, -1.48870887e+00,\n",
       "        9.69047519e-01, -8.69079856e-01, -2.69609546e-01, -1.30532742e-01,\n",
       "       -5.26579723e-01, -7.22921160e-02, -1.60409219e+00, -1.85481516e+00,\n",
       "        7.03503346e-01, -1.43444232e-01,  5.39203404e-01, -5.57178910e-01,\n",
       "       -8.94176871e-01, -3.59931479e-01, -1.47361934e+00, -1.33783380e+00,\n",
       "        1.45181767e-01,  6.38632863e-01,  4.61525447e-01,  1.33048252e-01,\n",
       "        4.24345483e-01, -5.34603562e-01, -5.12712620e-01,  9.38240101e-02,\n",
       "        8.49463312e-01,  8.58139256e-01,  8.10965685e-01,  9.65897784e-01,\n",
       "        1.50369049e-01, -1.93032071e-01, -7.69648276e-01, -5.63732065e-01,\n",
       "        3.95771122e-01, -5.22477728e-01,  2.17282360e-01, -8.92967551e-01,\n",
       "        7.45063183e-01, -4.20015778e+00, -6.53255866e-01,  2.37558892e-01,\n",
       "        7.90704558e-01, -6.52535949e-01, -3.59134251e-01,  2.64438154e-02,\n",
       "       -4.51738929e-01, -1.07570214e+00,  5.89223005e-01,  4.13949728e-01,\n",
       "       -2.65580948e+00,  1.59269717e+00, -1.83908063e+00,  3.87380235e-02,\n",
       "        8.19810003e-01,  5.93038347e-01,  8.38568316e-01,  8.14469782e-01,\n",
       "        5.44120115e-01, -1.40458367e+00,  2.60595822e-01, -4.73563306e-01,\n",
       "        6.43370551e-01,  3.05691247e-01, -5.22816077e-01,  4.27745355e-01,\n",
       "       -8.47090547e-01, -8.14411842e-02, -2.57954457e+00,  4.40113339e-02,\n",
       "       -1.63717602e-01, -2.80102301e-01, -2.21417531e-01,  2.01824611e-01,\n",
       "       -2.29471358e-01, -1.73822651e-04, -1.36090374e+00, -2.27768368e+00,\n",
       "        5.86730072e-01, -8.06136639e-01, -8.18349944e-01, -1.40416956e+00,\n",
       "        6.16765735e-01, -8.36581083e-01, -1.39718666e+00, -5.21554996e-01,\n",
       "       -2.08677707e+00, -6.51730346e-01,  5.47073559e-01,  5.97726985e-01,\n",
       "        1.15314544e-01, -1.41279830e+00, -1.71935589e-01, -2.68787124e+00,\n",
       "       -9.17318048e-01, -6.48289293e+00,  1.26459440e+00,  3.89303743e-01,\n",
       "       -1.98666633e-01, -2.35541338e-01, -7.07304735e-01,  5.31688528e-01,\n",
       "        3.86520099e-01, -1.05510537e+00,  7.86281011e-01, -7.08255167e-01,\n",
       "        5.38864749e-01,  8.35146141e-01,  8.56356376e-01,  7.01002828e-01,\n",
       "       -4.89753011e+00, -5.65838886e+00,  2.74673498e-01, -6.90546327e-01,\n",
       "        1.04108594e+01,  8.03152049e-01, -4.04061409e-01, -3.92807476e+00,\n",
       "        1.91625411e+00, -1.42997073e+00, -1.65654322e+00, -5.63145145e-02,\n",
       "        6.68740444e-01, -4.50432144e-01,  7.59954289e-01,  6.39365387e-01,\n",
       "       -8.38111067e-01,  1.27392193e-02, -2.01678557e+00, -2.51365233e+00,\n",
       "       -3.75718084e-01, -8.68504632e-02,  6.44669902e-02,  2.62446437e-01,\n",
       "        2.39989620e-01,  1.69782411e-01,  5.25355246e-01, -1.67369302e-01,\n",
       "        7.95865260e-01,  1.34490313e-01,  5.68484587e-01,  3.07776269e-01,\n",
       "        5.47392171e-01,  3.48169503e-01,  9.25199241e-01,  3.96947886e-01,\n",
       "        2.28530958e+00,  6.74502599e-01,  4.99317810e-01,  2.49805023e-01,\n",
       "        7.30015787e-02, -3.48495585e-01,  5.66100384e-02, -2.80422407e+00,\n",
       "       -1.72705218e+00, -6.06967317e-02, -6.29319741e-01, -2.67023925e+00,\n",
       "       -2.64953190e+00, -1.98958135e+00, -2.09381861e+00,  9.16473972e-01,\n",
       "       -1.17900773e+00,  5.06591180e-01,  5.11199110e-01,  2.82604277e+00,\n",
       "       -4.76682299e-01,  7.30902145e-01, -2.09514722e-01,  2.95987079e-01,\n",
       "       -1.52397224e+00, -7.61140778e-01, -2.31045982e+00,  5.40359806e-01,\n",
       "       -2.02161821e+00, -4.88134908e+00, -1.68460656e+00,  3.13896326e-01,\n",
       "        4.69047152e-01,  8.54391997e-01,  7.30863638e-01,  5.34762619e-01,\n",
       "        8.95470930e-01,  1.61142515e+00,  7.02228465e-01, -2.79425474e+00,\n",
       "       -6.22401525e-01, -2.06851894e-01, -2.33509348e+00,  1.86068207e-01,\n",
       "       -1.35171604e+00,  3.37502091e-01,  8.76789136e-02, -3.66033249e-01,\n",
       "       -7.43099354e-01,  7.30645446e-01, -7.28654446e-01, -1.42119391e+00,\n",
       "        4.36805812e-01, -8.35000300e-01, -1.03343431e+00,  2.29862239e-01,\n",
       "       -7.52545461e-02, -8.05600999e-01, -3.37321540e+00, -8.82907497e-01,\n",
       "        5.62018867e-01,  1.16225757e-02, -1.03257299e+00, -2.08740653e+00,\n",
       "        2.44940139e-01, -2.78539755e+00,  8.20642588e-01,  3.57392975e-01,\n",
       "        1.73260941e-03,  4.20436185e-01,  7.44853310e-01, -1.80180543e+00,\n",
       "       -3.26289024e-01, -2.68728310e+00, -3.26685434e-02, -9.23736259e-02,\n",
       "       -4.09747871e+00, -4.66866693e-01, -5.11334505e+00,  5.24434455e-01,\n",
       "        6.37327883e-01, -1.81957721e+00, -1.24517269e+00, -2.68072468e-01,\n",
       "       -7.23506933e-01, -1.90396176e-01, -1.17394164e+00, -7.86706979e-01,\n",
       "       -1.67234600e+00, -1.35753157e+00, -3.87140991e-01, -2.34322223e+00,\n",
       "        8.97610595e-02, -7.74426865e-01,  5.74484297e-01,  1.12360934e-02,\n",
       "       -4.25693338e-01, -1.33785201e+00, -4.16291825e-01,  3.06484673e-01,\n",
       "       -9.14292398e-01,  1.56215686e-01,  3.07432941e-01, -1.36764663e+00,\n",
       "        1.08121291e-02,  4.60290931e-01,  6.72297668e-01, -2.28195985e-02,\n",
       "        4.90105202e-01,  8.36575847e-02,  5.04080239e-01, -1.58573139e-01,\n",
       "       -2.75615194e-01,  7.97024018e-01,  8.86670939e+00, -2.72183739e-01,\n",
       "       -1.17505414e+00,  1.49674778e-02, -4.96081579e-01,  2.65100630e-01,\n",
       "        1.03162594e-01, -4.09189507e-01,  8.03401245e-01, -1.17944332e+00,\n",
       "       -1.14021972e+00,  4.73039444e-01,  1.91837162e-01, -2.40758143e-02,\n",
       "        4.18963850e-01,  3.51204844e-01,  6.56808112e-01,  5.50074259e-01,\n",
       "       -9.11591469e-01,  2.19550135e-01,  3.80551926e-01,  4.37346929e-01,\n",
       "        3.86137231e-01, -8.48591918e-01,  4.57497771e-01, -9.05239946e-01,\n",
       "        1.05926031e+00,  6.44213208e-01,  4.36985341e-01,  6.57119294e-01,\n",
       "       -2.45614429e-01,  7.84071305e-01, -5.07642369e-01,  1.18228898e+00,\n",
       "       -4.99270890e-01,  8.93369227e-02, -9.07694511e-01,  5.22763827e-01,\n",
       "        1.04947792e+00,  5.42583944e-01,  4.91534235e-01,  3.34761601e-01,\n",
       "       -6.52115017e-01,  6.06979036e-01, -1.27076245e-02,  2.89975682e-01,\n",
       "        5.54529474e-01,  8.03292123e-02, -9.25787494e-01, -1.25795489e+00,\n",
       "       -3.67338320e-01, -5.20090322e-02, -5.47082458e-02,  6.30016514e-01,\n",
       "        1.54669869e-01, -5.37320663e-02,  6.48305614e-01,  3.00780437e-01,\n",
       "        6.99003823e-01,  2.05514071e-03,  6.26048797e-01,  7.61485847e-01,\n",
       "        1.01976525e-01, -3.60206508e-01,  7.59803063e-01, -6.88179497e-01,\n",
       "        3.81367806e-01,  4.39366363e-01,  7.13970383e-01,  6.09856490e-01,\n",
       "       -1.45514168e-01,  5.17435234e-01,  4.27280682e-01,  1.97211463e-01,\n",
       "       -2.61516630e-01,  7.73245444e-01,  8.64342099e-01,  5.11465188e-01,\n",
       "        4.39402055e-01,  6.26214791e-01,  1.37904032e-01,  3.80702439e-01,\n",
       "       -7.24294207e-01,  3.42428266e-01, -2.22508160e-01,  2.27942855e-01,\n",
       "        3.45981630e-01,  1.57165959e+00, -6.31211468e-02,  2.79183151e-01,\n",
       "       -2.67880501e-01,  8.13022986e-02, -3.46172656e-01,  5.68653071e-01,\n",
       "        4.79543377e-01,  1.79508857e-01,  8.00817561e-01, -1.62886594e-01,\n",
       "       -9.60913204e-01, -1.79167520e-01,  1.07748390e-01, -3.41835086e-01,\n",
       "        6.16826374e-01,  5.61456146e-01,  8.99550524e-01,  1.64025652e-01,\n",
       "        5.70083190e-02,  7.66275735e-02,  8.58607527e-01, -5.98191977e-01,\n",
       "       -6.21289738e-02,  1.25948878e-01, -7.99923836e-01,  4.58613024e-01,\n",
       "       -3.79013728e-01,  2.39912912e-01,  4.07374303e-01,  2.56633637e-01,\n",
       "        5.83994272e-01, -1.12831856e+00, -3.08058160e+00,  7.05747717e-01,\n",
       "       -1.79266131e+00,  5.48011954e-01,  1.27232455e+00, -1.53758308e+00,\n",
       "       -1.78223921e+00,  5.65273812e-01, -5.57446832e-01,  3.92850804e-01,\n",
       "        7.32786255e-01,  2.76040180e-01,  7.32709995e-01,  7.91224507e-01,\n",
       "       -5.86876352e-01,  6.37892980e-01,  1.01579199e+00,  7.70224552e-01,\n",
       "        6.10969673e-02,  2.90293801e-01, -9.39500026e-02, -5.88400440e-01,\n",
       "        1.48077921e-01, -9.82603605e-01, -5.57592764e-02,  3.09785933e-01,\n",
       "        8.28809368e-01, -3.82153778e-01,  5.78382077e-01,  8.27063493e-01,\n",
       "        7.32396180e-01, -4.83699576e-01,  8.42346436e-01,  3.32741896e-01,\n",
       "       -3.91670661e-01, -6.44676622e-01,  8.22000110e-02, -2.97752662e-02,\n",
       "        7.03265323e-01, -4.42616291e-02,  6.19113952e-01,  4.18157390e-01,\n",
       "        3.84836642e-01,  2.63804021e-01, -1.49337543e-02,  4.31084248e-01,\n",
       "       -2.45654628e+00,  7.77521859e-01, -4.81341141e-01,  3.12595565e-01,\n",
       "       -4.94923987e-02, -4.44160729e-02,  3.40260677e-01,  7.49631301e-02,\n",
       "        1.15567289e-01,  6.98752981e-01, -7.31198422e-01,  1.83873891e-01,\n",
       "        9.89220270e-02,  4.95465174e-01, -9.08193106e-02, -6.13328635e-01,\n",
       "        8.44173698e-01,  5.50058007e-01,  6.09489943e-01,  5.48328801e-01,\n",
       "        9.03051603e-01,  8.14140306e-01,  9.76187706e-02, -6.33378252e-01,\n",
       "        4.97865472e-01,  3.28299326e-01,  3.31077985e-01, -5.56519162e-01,\n",
       "        4.27263501e-02,  2.49278359e-01, -6.74970468e-02,  3.94219023e-01,\n",
       "       -4.06553821e-01,  7.07293244e-01,  4.74095955e-01, -8.31336894e-02,\n",
       "       -1.02399528e+00, -5.45268966e-02, -9.33036423e-01,  2.97532968e-01,\n",
       "       -8.84530384e-02,  6.01768584e-01,  6.73558542e-01,  3.25030466e+00,\n",
       "        7.17269386e-01,  3.83188253e-01, -5.57296880e-02,  8.02637308e-01,\n",
       "        1.39837677e-01,  4.08651242e-01,  2.36790497e-01, -1.83122063e-01,\n",
       "        1.08880416e-01, -1.22794344e-01,  4.60618694e-02,  3.92390668e-01,\n",
       "        1.38131113e-02, -2.34119774e-01,  7.42707605e-01, -2.36132179e+00,\n",
       "        1.35880238e-01, -1.73220697e-02,  1.04781829e+00,  8.94655820e-01,\n",
       "       -8.40049840e-01,  4.77879832e-01,  2.92467134e-01, -5.95807823e-01,\n",
       "        1.77944955e+00, -7.03293976e-01, -8.99638187e-01, -1.14241542e-01,\n",
       "        1.06238500e+00,  3.77399541e-01,  5.39180633e-01,  5.67096389e-01,\n",
       "        2.45313272e-01, -2.27163666e+00,  6.12251569e-01,  3.89840703e-01,\n",
       "        1.36605425e-01,  4.14951088e-01, -6.61552687e-01,  6.12458829e-01,\n",
       "        3.27512932e-01,  2.25724844e-01, -3.44809320e-01, -4.61235481e-01,\n",
       "       -7.32387926e-01, -5.17028685e-01,  2.12993709e-01,  5.90140167e-01,\n",
       "        2.71852698e-01,  4.51102087e-01,  2.88496696e-01, -1.74236474e-01,\n",
       "        1.68759602e-01, -3.07292007e-01,  3.15114833e-01, -7.82945970e-02,\n",
       "        8.79301146e-01,  4.56245402e-02,  1.26269741e+00,  5.05683284e-01,\n",
       "        6.56482556e-01,  4.67937184e-01,  8.22176986e-01, -2.22903533e-01,\n",
       "       -1.56813380e-01,  4.12775411e-01,  2.55034928e-01, -1.04470973e-01,\n",
       "        3.70964516e-01,  3.05926025e-01,  1.47105409e-01, -2.87103555e-05,\n",
       "        5.22507253e-01,  1.86554906e-01,  3.21988278e-01,  2.85248781e-01,\n",
       "        3.97692476e-01, -5.10876799e-02,  6.17761097e-01, -1.51034602e-01,\n",
       "        2.17795650e-01,  5.67049605e-01,  7.77761757e-01, -2.68919691e-01,\n",
       "        5.59048237e-03, -3.18771343e-01,  6.11084923e-01,  4.25941749e-01,\n",
       "        8.66405794e-01,  5.84690496e-01,  1.94157615e-01,  8.99963085e-01,\n",
       "        5.94079451e-01, -2.09644014e+00,  7.07859779e-01,  4.48810404e-02,\n",
       "        2.67428233e-01,  7.79811868e-02,  8.28018270e-01,  2.19656738e-01,\n",
       "        3.06364167e-01, -4.09456135e-01, -2.28500130e-01,  1.33120293e-01,\n",
       "       -6.45012294e-01, -1.17865721e+00,  1.30564015e-01, -3.59931625e-02,\n",
       "       -2.61644625e-01,  1.40496249e-01, -1.56746871e+00,  2.82746014e-01,\n",
       "       -2.96764043e-01,  4.36358504e-01, -1.52383957e+00,  4.26236523e-01,\n",
       "        7.35203416e-01, -1.78378810e-01, -1.37812700e+00,  2.78620851e-02,\n",
       "       -4.53916994e-01,  5.23593250e-01,  3.77818033e-01,  3.57600756e-01,\n",
       "        3.00895963e-01,  2.30907072e-01, -2.13948891e+00,  3.74790803e-01,\n",
       "        2.51299045e-01, -3.24610108e-01, -2.40309095e+00,  6.49757325e-01,\n",
       "        6.10082531e-01,  5.90496756e-01, -3.45153951e-01, -8.90094619e-01,\n",
       "        4.30350440e-01,  4.24130608e-01,  8.09284850e-01, -1.50274206e-01,\n",
       "        9.17651640e-02, -7.76369786e-02, -4.37717714e-01, -7.34749421e-02,\n",
       "        2.04693591e-01,  6.77012222e-01, -6.11853237e-02,  6.27734240e-02,\n",
       "        6.47813728e-01, -6.36255961e-01,  8.98842725e-02, -8.35077436e-01,\n",
       "        4.17160684e-01, -2.10294531e-01, -2.24732798e-01, -3.44525989e-03,\n",
       "       -5.68384508e-01,  6.34813363e-01,  5.07485559e-01, -2.14843025e-01,\n",
       "        7.14066985e-01,  7.90762704e-01,  7.05105571e-01,  6.05657391e-01,\n",
       "        1.29795343e-01,  3.96175311e-01,  2.99387813e-01,  5.13669543e-01,\n",
       "        6.94879205e-01, -1.87175747e-02,  9.65333323e-03,  2.68055320e-01,\n",
       "       -1.19463200e+00,  5.52178064e-01,  3.43801871e-01,  7.63645445e-01,\n",
       "       -2.31987240e-01, -3.42306754e-01, -8.31783409e-02,  8.16727066e-01,\n",
       "        8.93866902e-01,  6.51202868e-01,  6.75693199e-01, -1.26925802e-01,\n",
       "        4.29248321e-01,  6.33391487e-01,  2.94226017e-01,  1.27954396e+00,\n",
       "        3.90701516e-01,  1.31767218e+00, -2.05723211e-01,  6.08439040e-01,\n",
       "        5.18255613e-01,  9.58887556e-01,  2.12639354e-01, -7.83248374e-01,\n",
       "       -2.15684762e-01,  7.72148883e-01,  8.54908334e-01,  6.53621570e-01,\n",
       "       -3.07095787e-01,  8.93361482e-01,  5.84778306e-01,  3.16877466e-01,\n",
       "       -3.03094373e-03,  8.87107050e-01, -6.88346962e-01,  7.24328126e-01,\n",
       "        4.89782631e-01,  2.10017008e-01, -2.37714887e-01,  5.78214364e-01,\n",
       "        2.59426124e-01,  7.43403266e-01,  5.67628394e-01,  5.73547588e-01,\n",
       "        8.78301717e-01,  6.82262595e-01,  2.45327428e-02, -1.30918862e-01,\n",
       "        8.68144430e-01,  7.12719764e-01,  4.71587695e-01, -5.20682554e-01,\n",
       "        5.44039023e-01,  4.79551012e-01,  1.49041766e+00,  1.35111661e+00,\n",
       "        5.97277075e-01,  5.86022977e-02, -1.03755661e+00, -2.67084783e-01,\n",
       "        8.78170005e-02,  6.30382665e-01,  7.88597092e-01,  8.77177239e-01,\n",
       "        3.17947395e-01,  5.63846249e-01,  3.43778490e-01, -1.48286994e-01,\n",
       "        7.78233381e-01,  4.16924775e-01,  9.04303464e-01, -1.03562348e+00,\n",
       "        4.62420528e-01, -7.09521468e-01,  1.39660286e-01, -1.58329255e-01,\n",
       "        1.35078693e-01,  3.15451012e-01,  1.05594853e-01])"
      ]
     },
     "execution_count": 73,
     "metadata": {},
     "output_type": "execute_result"
    }
   ],
   "source": [
    "C[:,1]"
   ]
  },
  {
   "cell_type": "markdown",
   "metadata": {
    "id": "xSXS0Iwik_ZH"
   },
   "source": [
    "### Variables et cercle des corrélations\n",
    "**Q** Que représent le graphe ci-dessous? Donner en une ligne une interprétation de l'axe 1 puis de l'axe2."
   ]
  },
  {
   "cell_type": "code",
   "execution_count": 190,
   "metadata": {
    "id": "xJgF3mzHk_ZI",
    "outputId": "8d920689-891b-4bca-cbe4-381109896a8d"
   },
   "outputs": [
    {
     "data": {
      "image/png": "[encoded data removed]",
      "text/plain": [
       "<Figure size 576x576 with 1 Axes>"
      ]
     },
     "metadata": {
      "needs_background": "light"
     },
     "output_type": "display_data"
    }
   ],
   "source": [
    "# coordonnées des variables\n",
    "coord1=pca.components_[0]*np.sqrt(pca.explained_variance_[0])\n",
    "coord2=pca.components_[1]*np.sqrt(pca.explained_variance_[1])\n",
    "fig = plt.figure(figsize=(8,8))\n",
    "ax = fig.add_subplot(1, 1, 1)\n",
    "for i, j, nom in zip(coord1,coord2, data.columns):\n",
    "    plt.text(i, j, nom)\n",
    "    plt.arrow(0,0,i,j,color='r')\n",
    "plt.axis((-1.2,1.2,-1.2,1.2))\n",
    "# cercle\n",
    "c=plt.Circle((0,0), radius=1, color='b', fill=False)\n",
    "ax.add_patch(c)\n",
    "plt.show()"
   ]
  },
  {
   "cell_type": "markdown",
   "metadata": {},
   "source": [
    "Les axes permets d'étudier la corrélation entre les variables. Plus l'angle entre deux variable est aigue plus les variable sont positivement corélé. A l'inverse plus l'angle est optu plus les variables sont négativement corélé. Enfin les angles droits représente l'indépendance entre les variables"
   ]
  },
  {
   "cell_type": "markdown",
   "metadata": {
    "id": "C8KoEre-k_ZM"
   },
   "source": [
    "### Classification des variables\n",
    "**QUESTION** Les classes de variables sont-elles cohérentes avec l'interprétataion des axes?"
   ]
  },
  {
   "cell_type": "code",
   "execution_count": 203,
   "metadata": {
    "id": "3rhrBWxFk_ZN",
    "outputId": "a49a9c57-dcf4-47b6-e0f8-e307cfa17a23"
   },
   "outputs": [
    {
     "data": {
      "image/png": "[encoded data removed]",
      "text/plain": [
       "<Figure size 1080x576 with 1 Axes>"
      ]
     },
     "metadata": {
      "needs_background": "light"
     },
     "output_type": "display_data"
    }
   ],
   "source": [
    "# Stratégie utilisée pour aider à l'interprétation du plan principal \n",
    "# lorsque le nombre de variables est important\n",
    "from scipy.cluster.hierarchy import dendrogram, linkage\n",
    "Z = linkage(data.T, 'ward')\n",
    "plt.figure(figsize=(15, 8))\n",
    "plt.title('Hierarchical Clustering Dendrogram')\n",
    "plt.xlabel('Variable')\n",
    "plt.ylabel('Distance')\n",
    "dendrogram(Z,leaf_font_size=8.,labels=data.columns)\n",
    "plt.show()"
   ]
  },
  {
   "cell_type": "markdown",
   "metadata": {},
   "source": [
    "Effectivement les variables associé ensemble sont celle les plus corrélés. "
   ]
  },
  {
   "cell_type": "markdown",
   "metadata": {
    "id": "fj585Zv1k_ZR"
   },
   "source": [
    "## Segmentation ou *clustering* des clients\n",
    "L'objectif principal, lors de cette première étude des données, est de fournir une typologie ou segmentation des clients. C'est-à-dire de définir des classes les plus homogènes au regard des comportements bancaires. Les algorithmes de classification étudiés sont adaptés à des variables {\\em quantitatives} ou des matrices de distances. L'intégration d'informations qualitatives peut se faire par un recodage préalable (scoring) à l'aide d'une analyse des correspondances multiples. Ce scénatio se propose donc de comparer deux approches: classification à partir des seules variables quantitatives ou classification à partir des scores issues d'une afcm. D'autres approches sont envisageables sur des variables qualitatives qui nécessitent la définition d'une distance ou dissimilarité entre individus adaptée aux variables qualitatives. Mais, nécessitant la construction de la matrice *n x n* des distances des individus deux à deux, elles ne sont pas adaptées aux très grands tableaux.\n",
    "\n",
    "### Sur les seules variables quantitatives"
   ]
  },
  {
   "cell_type": "code",
   "execution_count": 117,
   "metadata": {
    "id": "xh8vq2CFk_ZR"
   },
   "outputs": [
    {
     "data": {
      "text/plain": [
       "False    831\n",
       "True     326\n",
       "Name: ZOCNB, dtype: int64"
      ]
     },
     "execution_count": 117,
     "metadata": {},
     "output_type": "execute_result"
    }
   ],
   "source": [
    "# Sélection des variables quantitatives\n",
    "visaprems=visaprem.select_dtypes(include=[\"int32\",\"float\",\"int64\"])\n",
    "# Centrage et réduction\n",
    "#visaprems = scale(visaprems)\n",
    "visaprems.ZOCNB.isnull().value_counts()"
   ]
  },
  {
   "cell_type": "code",
   "execution_count": 119,
   "metadata": {},
   "outputs": [],
   "source": [
    "visaprems.dropna(axis=0,how= \"any\", inplace=True)\n",
    "visaprems = scale(visaprems)"
   ]
  },
  {
   "cell_type": "code",
   "execution_count": 120,
   "metadata": {
    "id": "I66Q2HVTk_ZV",
    "outputId": "94348ab7-a4a3-4459-9f4c-4f7e1478119b"
   },
   "outputs": [
    {
     "data": {
      "text/plain": [
       "0.12033694344163659"
      ]
     },
     "execution_count": 120,
     "metadata": {},
     "output_type": "execute_result"
    }
   ],
   "source": [
    "# Classification d'un grand tableau par k-means puis CAH\n",
    "## k-means avec 100 classes\n",
    "from sklearn.cluster import *\n",
    "T=k_means(visaprems,100)\n",
    "poids=np.zeros((100,))\n",
    "for i in T[1]:\n",
    "    poids[i]=1./np.size(T[1])\n",
    "np.sum(poids)"
   ]
  },
  {
   "cell_type": "code",
   "execution_count": 121,
   "metadata": {
    "id": "Bu9z1kpAk_ZZ",
    "outputId": "e81c3a94-e066-447b-d2a2-8a2333ecee8f"
   },
   "outputs": [
    {
     "name": "stderr",
     "output_type": "stream",
     "text": [
      "C:\\ProgramData\\Anaconda3\\lib\\site-packages\\ipykernel_launcher.py:11: ClusterWarning: scipy.cluster: The symmetric non-negative hollow observation matrix looks suspiciously like an uncondensed distance matrix\n",
      "  # This is added back by InteractiveShellApp.init_path()\n"
     ]
    }
   ],
   "source": [
    "## CAH des barycentres des classes\n",
    "## Calcul de la matrices des distances pondérées\n",
    "def weightedL2(a,b,wa,wb):\n",
    "    q = wa*a-wb*b\n",
    "    return np.sqrt((q*q).sum())\n",
    "dist=np.zeros((100,100))\n",
    "for i in range(dist.shape[0]):\n",
    "    for j in range(dist.shape[1]):\n",
    "        dist[i,j]=weightedL2(T[0][i],T[0][j],poids[i],poids[j])\n",
    "from scipy.cluster.hierarchy import *\n",
    "Q= linkage(dist, 'ward')        \n",
    "        "
   ]
  },
  {
   "cell_type": "code",
   "execution_count": 133,
   "metadata": {},
   "outputs": [
    {
     "data": {
      "text/plain": [
       "array([[3.00000000e+00, 8.80000000e+01, 4.84141216e-03, 2.00000000e+00],\n",
       "       [3.30000000e+01, 6.10000000e+01, 5.61529669e-03, 2.00000000e+00],\n",
       "       [3.70000000e+01, 5.10000000e+01, 5.89013827e-03, 2.00000000e+00],\n",
       "       [2.40000000e+01, 4.70000000e+01, 6.33456018e-03, 2.00000000e+00],\n",
       "       [1.00000000e+00, 3.20000000e+01, 6.63700260e-03, 2.00000000e+00],\n",
       "       [5.80000000e+01, 1.01000000e+02, 6.83378117e-03, 3.00000000e+00],\n",
       "       [1.90000000e+01, 9.90000000e+01, 6.93780877e-03, 2.00000000e+00],\n",
       "       [3.80000000e+01, 1.00000000e+02, 7.40169746e-03, 3.00000000e+00],\n",
       "       [1.60000000e+01, 3.40000000e+01, 7.79907986e-03, 2.00000000e+00],\n",
       "       [2.00000000e+00, 1.06000000e+02, 7.88611821e-03, 3.00000000e+00],\n",
       "       [1.40000000e+01, 7.80000000e+01, 8.21547152e-03, 2.00000000e+00],\n",
       "       [5.20000000e+01, 7.60000000e+01, 8.24734330e-03, 2.00000000e+00],\n",
       "       [5.90000000e+01, 6.30000000e+01, 8.61766377e-03, 2.00000000e+00],\n",
       "       [9.80000000e+01, 1.10000000e+02, 9.01905704e-03, 3.00000000e+00],\n",
       "       [1.10000000e+01, 5.00000000e+01, 9.58891744e-03, 2.00000000e+00],\n",
       "       [1.05000000e+02, 1.08000000e+02, 9.71880109e-03, 5.00000000e+00],\n",
       "       [4.50000000e+01, 8.20000000e+01, 9.99759930e-03, 2.00000000e+00],\n",
       "       [1.03000000e+02, 1.07000000e+02, 1.01215599e-02, 5.00000000e+00],\n",
       "       [6.50000000e+01, 9.30000000e+01, 1.03617640e-02, 2.00000000e+00],\n",
       "       [7.10000000e+01, 1.09000000e+02, 1.04180670e-02, 4.00000000e+00],\n",
       "       [1.12000000e+02, 1.13000000e+02, 1.06311497e-02, 5.00000000e+00],\n",
       "       [2.90000000e+01, 6.40000000e+01, 1.10201173e-02, 2.00000000e+00],\n",
       "       [7.20000000e+01, 9.10000000e+01, 1.10806518e-02, 2.00000000e+00],\n",
       "       [1.70000000e+01, 1.21000000e+02, 1.16582545e-02, 3.00000000e+00],\n",
       "       [1.02000000e+02, 1.17000000e+02, 1.19659470e-02, 7.00000000e+00],\n",
       "       [1.20000000e+01, 1.22000000e+02, 1.23902345e-02, 3.00000000e+00],\n",
       "       [1.04000000e+02, 1.24000000e+02, 1.33634956e-02, 9.00000000e+00],\n",
       "       [7.70000000e+01, 9.70000000e+01, 1.37545449e-02, 2.00000000e+00],\n",
       "       [4.60000000e+01, 8.40000000e+01, 1.43875771e-02, 2.00000000e+00],\n",
       "       [1.11000000e+02, 1.20000000e+02, 1.44196813e-02, 7.00000000e+00],\n",
       "       [3.10000000e+01, 1.19000000e+02, 1.46124152e-02, 5.00000000e+00],\n",
       "       [1.15000000e+02, 1.27000000e+02, 1.55055281e-02, 7.00000000e+00],\n",
       "       [1.14000000e+02, 1.16000000e+02, 1.57744796e-02, 4.00000000e+00],\n",
       "       [8.30000000e+01, 1.32000000e+02, 1.62252114e-02, 5.00000000e+00],\n",
       "       [8.00000000e+01, 8.90000000e+01, 1.65720518e-02, 2.00000000e+00],\n",
       "       [7.40000000e+01, 1.25000000e+02, 1.77340096e-02, 4.00000000e+00],\n",
       "       [2.30000000e+01, 6.60000000e+01, 1.78804696e-02, 2.00000000e+00],\n",
       "       [9.00000000e+01, 1.18000000e+02, 1.84885448e-02, 3.00000000e+00],\n",
       "       [2.50000000e+01, 5.70000000e+01, 1.91373150e-02, 2.00000000e+00],\n",
       "       [6.20000000e+01, 9.60000000e+01, 1.92189680e-02, 2.00000000e+00],\n",
       "       [4.00000000e+01, 4.40000000e+01, 1.93331212e-02, 2.00000000e+00],\n",
       "       [1.30000000e+01, 8.70000000e+01, 1.94567716e-02, 2.00000000e+00],\n",
       "       [7.50000000e+01, 1.28000000e+02, 1.95165946e-02, 3.00000000e+00],\n",
       "       [7.90000000e+01, 8.60000000e+01, 1.96189989e-02, 2.00000000e+00],\n",
       "       [1.50000000e+01, 9.20000000e+01, 1.98100166e-02, 2.00000000e+00],\n",
       "       [1.00000000e+01, 5.60000000e+01, 2.01363677e-02, 2.00000000e+00],\n",
       "       [9.50000000e+01, 1.34000000e+02, 2.01460548e-02, 3.00000000e+00],\n",
       "       [4.10000000e+01, 1.23000000e+02, 2.11596844e-02, 4.00000000e+00],\n",
       "       [8.50000000e+01, 1.45000000e+02, 2.21239795e-02, 3.00000000e+00],\n",
       "       [1.29000000e+02, 1.30000000e+02, 2.21955334e-02, 1.20000000e+01],\n",
       "       [1.26000000e+02, 1.31000000e+02, 2.22570772e-02, 1.60000000e+01],\n",
       "       [1.37000000e+02, 1.42000000e+02, 2.36990455e-02, 6.00000000e+00],\n",
       "       [3.90000000e+01, 9.40000000e+01, 2.41060264e-02, 2.00000000e+00],\n",
       "       [2.60000000e+01, 7.00000000e+01, 2.42763793e-02, 2.00000000e+00],\n",
       "       [4.90000000e+01, 8.10000000e+01, 2.60003298e-02, 2.00000000e+00],\n",
       "       [1.43000000e+02, 1.53000000e+02, 2.63634791e-02, 4.00000000e+00],\n",
       "       [1.39000000e+02, 1.46000000e+02, 2.68647753e-02, 5.00000000e+00],\n",
       "       [1.35000000e+02, 1.47000000e+02, 2.82908423e-02, 8.00000000e+00],\n",
       "       [0.00000000e+00, 7.30000000e+01, 2.88293808e-02, 2.00000000e+00],\n",
       "       [1.38000000e+02, 1.55000000e+02, 2.90174522e-02, 6.00000000e+00],\n",
       "       [3.60000000e+01, 1.52000000e+02, 2.90412811e-02, 3.00000000e+00],\n",
       "       [6.80000000e+01, 6.90000000e+01, 3.04121799e-02, 2.00000000e+00],\n",
       "       [1.36000000e+02, 1.48000000e+02, 3.16553587e-02, 5.00000000e+00],\n",
       "       [5.30000000e+01, 1.44000000e+02, 3.21220488e-02, 3.00000000e+00],\n",
       "       [5.00000000e+00, 3.50000000e+01, 3.28469944e-02, 2.00000000e+00],\n",
       "       [1.80000000e+01, 2.70000000e+01, 3.35208097e-02, 2.00000000e+00],\n",
       "       [1.49000000e+02, 1.50000000e+02, 3.35588411e-02, 2.80000000e+01],\n",
       "       [4.80000000e+01, 5.50000000e+01, 3.44257899e-02, 2.00000000e+00],\n",
       "       [7.00000000e+00, 3.00000000e+01, 3.65957139e-02, 2.00000000e+00],\n",
       "       [1.33000000e+02, 1.51000000e+02, 3.66600936e-02, 1.10000000e+01],\n",
       "       [1.58000000e+02, 1.60000000e+02, 3.72645280e-02, 5.00000000e+00],\n",
       "       [2.10000000e+01, 5.40000000e+01, 3.76949355e-02, 2.00000000e+00],\n",
       "       [1.54000000e+02, 1.67000000e+02, 4.02482430e-02, 4.00000000e+00],\n",
       "       [1.40000000e+02, 1.63000000e+02, 4.04627223e-02, 5.00000000e+00],\n",
       "       [1.57000000e+02, 1.69000000e+02, 4.09590034e-02, 1.90000000e+01],\n",
       "       [1.56000000e+02, 1.59000000e+02, 4.35405638e-02, 1.10000000e+01],\n",
       "       [4.20000000e+01, 6.70000000e+01, 4.73261895e-02, 2.00000000e+00],\n",
       "       [1.70000000e+02, 1.75000000e+02, 4.74896565e-02, 1.60000000e+01],\n",
       "       [1.61000000e+02, 1.71000000e+02, 5.24657656e-02, 4.00000000e+00],\n",
       "       [1.62000000e+02, 1.77000000e+02, 5.27051949e-02, 2.10000000e+01],\n",
       "       [1.72000000e+02, 1.78000000e+02, 5.45428566e-02, 8.00000000e+00],\n",
       "       [2.00000000e+01, 1.76000000e+02, 5.47267947e-02, 3.00000000e+00],\n",
       "       [6.00000000e+01, 1.68000000e+02, 5.85731894e-02, 3.00000000e+00],\n",
       "       [2.80000000e+01, 1.65000000e+02, 6.37906478e-02, 3.00000000e+00],\n",
       "       [8.00000000e+00, 9.00000000e+00, 6.59208732e-02, 2.00000000e+00],\n",
       "       [1.41000000e+02, 1.81000000e+02, 6.83121219e-02, 5.00000000e+00],\n",
       "       [1.66000000e+02, 1.74000000e+02, 6.87890809e-02, 4.70000000e+01],\n",
       "       [2.20000000e+01, 4.30000000e+01, 6.91369767e-02, 2.00000000e+00],\n",
       "       [1.82000000e+02, 1.83000000e+02, 7.33960451e-02, 6.00000000e+00],\n",
       "       [1.73000000e+02, 1.80000000e+02, 7.89441109e-02, 1.30000000e+01],\n",
       "       [6.00000000e+00, 1.84000000e+02, 9.91413804e-02, 3.00000000e+00],\n",
       "       [1.64000000e+02, 1.87000000e+02, 1.01696964e-01, 4.00000000e+00],\n",
       "       [1.85000000e+02, 1.88000000e+02, 1.02100174e-01, 1.10000000e+01],\n",
       "       [1.79000000e+02, 1.89000000e+02, 1.27249448e-01, 3.40000000e+01],\n",
       "       [1.90000000e+02, 1.91000000e+02, 1.35401842e-01, 7.00000000e+00],\n",
       "       [1.86000000e+02, 1.93000000e+02, 2.75800186e-01, 8.10000000e+01],\n",
       "       [1.92000000e+02, 1.94000000e+02, 3.24035948e-01, 1.80000000e+01],\n",
       "       [4.00000000e+00, 1.96000000e+02, 7.40786966e-01, 1.90000000e+01],\n",
       "       [1.95000000e+02, 1.97000000e+02, 1.03511096e+00, 1.00000000e+02]])"
      ]
     },
     "execution_count": 133,
     "metadata": {},
     "output_type": "execute_result"
    }
   ],
   "source": [
    "np.zeros((100,100)).shape[0]\n",
    "dist[2,4]\n",
    "Q"
   ]
  },
  {
   "cell_type": "code",
   "execution_count": 132,
   "metadata": {
    "id": "-NXg0g8mk_Zd",
    "outputId": "c77797cd-34c4-4d65-d67b-e67a0485f963"
   },
   "outputs": [
    {
     "data": {
      "image/png": "[encoded data removed]",
      "text/plain": [
       "<Figure size 1440x720 with 1 Axes>"
      ]
     },
     "metadata": {
      "needs_background": "light"
     },
     "output_type": "display_data"
    }
   ],
   "source": [
    "## Dendrogramme des barycentres des classes\n",
    "plt.figure(figsize=(20, 10))\n",
    "plt.title('Hierarchical Clustering Dendrogram')\n",
    "plt.xlabel('sample index')\n",
    "plt.ylabel('distance')\n",
    "dendrogram(Q,leaf_font_size=8.)\n",
    "plt.show()"
   ]
  },
  {
   "cell_type": "markdown",
   "metadata": {
    "id": "fsYnopavk_Zh"
   },
   "source": [
    "**QUESTION** Interpréter le graphique ci dessus"
   ]
  },
  {
   "cell_type": "markdown",
   "metadata": {
    "id": "TFUXQGf_k_Zh"
   },
   "source": [
    "### Choix du nombre de classes"
   ]
  },
  {
   "cell_type": "code",
   "execution_count": 214,
   "metadata": {
    "id": "2I3daiXEk_Zi",
    "outputId": "472c9ef9-805c-4157-f0c5-7e61b5fffb94"
   },
   "outputs": [
    {
     "data": {
      "image/png": "[encoded data removed]",
      "text/plain": [
       "<Figure size 1440x720 with 1 Axes>"
      ]
     },
     "metadata": {
      "needs_background": "light"
     },
     "output_type": "display_data"
    }
   ],
   "source": [
    "plt.figure(figsize=(20, 10))\n",
    "plt.plot(maxdists(Q)[::-1][0:10])\n",
    "plt.show()"
   ]
  },
  {
   "cell_type": "code",
   "execution_count": 204,
   "metadata": {
    "id": "uWbJRN2kk_Zm",
    "outputId": "ecb47dec-5c8e-44e7-e5ee-02a6dbda38c6"
   },
   "outputs": [
    {
     "data": {
      "text/html": [
       "<div>\n",
       "<style scoped>\n",
       "    .dataframe tbody tr th:only-of-type {\n",
       "        vertical-align: middle;\n",
       "    }\n",
       "\n",
       "    .dataframe tbody tr th {\n",
       "        vertical-align: top;\n",
       "    }\n",
       "\n",
       "    .dataframe thead th {\n",
       "        text-align: right;\n",
       "    }\n",
       "</style>\n",
       "<table border=\"1\" class=\"dataframe\">\n",
       "  <thead>\n",
       "    <tr style=\"text-align: right;\">\n",
       "      <th></th>\n",
       "      <th>Classe</th>\n",
       "    </tr>\n",
       "  </thead>\n",
       "  <tbody>\n",
       "    <tr>\n",
       "      <th>0</th>\n",
       "      <td>7.000000</td>\n",
       "    </tr>\n",
       "    <tr>\n",
       "      <th>1</th>\n",
       "      <td>14.000000</td>\n",
       "    </tr>\n",
       "    <tr>\n",
       "      <th>2</th>\n",
       "      <td>10.755369</td>\n",
       "    </tr>\n",
       "    <tr>\n",
       "      <th>3</th>\n",
       "      <td>2.000000</td>\n",
       "    </tr>\n",
       "  </tbody>\n",
       "</table>\n",
       "</div>"
      ],
      "text/plain": [
       "      Classe\n",
       "0   7.000000\n",
       "1  14.000000\n",
       "2  10.755369\n",
       "3   2.000000"
      ]
     },
     "execution_count": 204,
     "metadata": {},
     "output_type": "execute_result"
    }
   ],
   "source": [
    "#Z=k_means(visaprems,5)\n",
    "pd.DataFrame(Z[1],columns=[\"Classe\"])"
   ]
  },
  {
   "cell_type": "code",
   "execution_count": 205,
   "metadata": {},
   "outputs": [
    {
     "data": {
      "text/plain": [
       "array([ 7.        , 14.        , 10.75536876,  2.        ])"
      ]
     },
     "execution_count": 205,
     "metadata": {},
     "output_type": "execute_result"
    }
   ],
   "source": [
    "Z[1]"
   ]
  },
  {
   "cell_type": "code",
   "execution_count": 215,
   "metadata": {
    "id": "-c47GFWlk_Zp"
   },
   "outputs": [],
   "source": [
    "## k-means avec le nombre choisi de classes \n",
    "Z=k_means(visaprems,5)\n",
    "pca=PCA()\n",
    "C = pca.fit(visaprems).transform(visaprems)"
   ]
  },
  {
   "cell_type": "code",
   "execution_count": 216,
   "metadata": {
    "id": "3Ieiwphjk_Zu",
    "outputId": "dabb6490-7321-49bc-fe22-caec7f8c3675"
   },
   "outputs": [
    {
     "data": {
      "image/png": "[encoded data removed]",
      "text/plain": [
       "<Figure size 1440x720 with 1 Axes>"
      ]
     },
     "metadata": {
      "needs_background": "light"
     },
     "output_type": "display_data"
    }
   ],
   "source": [
    "## représentation des classes dans l'ACP\n",
    "plt.figure(figsize=(20, 10))\n",
    "plt.scatter(C[:,0], C[:,1],marker='1',c=Z[1],cmap=plt.cm.Set1)\n",
    "plt.axis((-6,7.5,-5,6))  \n",
    "plt.show()"
   ]
  },
  {
   "cell_type": "markdown",
   "metadata": {
    "id": "j7Yx4ALPk_Zx"
   },
   "source": [
    "**QUESTION** Interpréter les profils clients"
   ]
  }
 ],
 "metadata": {
  "colab": {
   "name": "ACP Visa -  Imiter.ipynb",
   "provenance": []
  },
  "kernelspec": {
   "display_name": "Python 3",
   "language": "python",
   "name": "python3"
  },
  "language_info": {
   "codemirror_mode": {
    "name": "ipython",
    "version": 3
   },
   "file_extension": ".py",
   "mimetype": "text/x-python",
   "name": "python",
   "nbconvert_exporter": "python",
   "pygments_lexer": "ipython3",
   "version": "3.7.6"
  }
 },
 "nbformat": 4,
 "nbformat_minor": 1
}
