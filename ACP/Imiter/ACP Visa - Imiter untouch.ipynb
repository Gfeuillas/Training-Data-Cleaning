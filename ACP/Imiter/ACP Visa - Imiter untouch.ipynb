{
 "cells": [
  {
   "cell_type": "markdown",
   "metadata": {
    "id": "A5p5p2HTk_XP"
   },
   "source": [
    "# Exploration Statistique - Imiter"
   ]
  },
  {
   "cell_type": "markdown",
   "metadata": {
    "id": "l_q9TuMAk_XQ"
   },
   "source": [
    "# GRC: Segmentation d'une clientèle bancaire en Python"
   ]
  },
  {
   "cell_type": "markdown",
   "metadata": {
    "id": "PkIEiqjxk_XS"
   },
   "source": [
    "## Introduction\n",
    "### Objectif\n",
    "Ce scénatio propose  de décrire un jeu de données bancaires  en utilisant les principales méthodes de statistique exploratoire multidimensionnelle: analyse en composantes principales, analyse des correspondances simple et multiple, classification non supervisée. L'objectif principal, classqiue en marketing, est de produire une *segmentation* de clientèle, c'est-à-dire une répartition en classes homogènes des clients en fonction de leur comportement bancaire. C'est aussi la mise en oeuvre d'une démarche classique permettant d'affiner sa compréhension des données dans l'idée de construire un [score d'appétence](http://www.math.univ-toulouse.fr/~besse/Wikistat/pdf/st-scenar-app-visa.pdf) pour la carte visa premier.\n",
    "\n",
    "### Présentation des données\n",
    "#### Les variables\n",
    "La liste des variables est issue d'une base de données retraçant l'historique mensuel bancaire et les caractéristiques de tous les clients. Un sondage a été réalisé afin d'alléger les traitements ainsi qu'une première sélection de variables. Les variables contenues dans le fichier initial sont décrites dans le tableau ci-dessous. Elles sont observées sur 1425 clients.\n",
    "\n",
    "*Tableau: Liste des variables et de leur libellé* Attention, ils sont finalement écrits en majuscules dans les programmes.\n",
    "\n",
    "**Identifiant** | **Libellé**\n",
    "           --|--\n",
    "`matric` | Matricule (identifiant client)\n",
    "`depts` | Département de résidence\n",
    "`pvs` | Point de vente\n",
    "`sexeq` | Sexe (qualitatif) \n",
    "`ager` | Age en années\n",
    "`famiq` | Situation familiale: `Fmar Fcel Fdiv Fuli Fsep Fveu`\n",
    "`relat` | Ancienneté de relation en mois\n",
    "`pcspq` | Catégorie socio-professionnelle (code num)\n",
    "`quals` | Code \"qualité\" client évalué par la banque\n",
    "`GxxGxxS` | plusieurs variables caractérisant les interdits bancaires\n",
    "`impnbs` | Nombre d'impayés en cours\n",
    "`rejets` | Montant total des rejets en francs\n",
    "`opgnb` | Nombre d'opérations par guichet dans le mois\n",
    "`moyrv` | Moyenne des mouvements nets créditeurs des 3 mois en Kf\n",
    "`tavep` | Total des avoirs épargne monétaire en francs\n",
    "`endet` | Taux d'endettement\n",
    "`gaget` | Total des engagements en francs\n",
    "`gagec` | Total des engagements court terme en francs\n",
    "`gagem` | Total des engagements moyen terme en francs\n",
    "`kvunb` | Nombre de comptes à vue\n",
    "`qsmoy` | Moyenne des soldes moyens sur 3 mois\n",
    "`qcred` | Moyenne des mouvements créditeurs en Kf\n",
    "`dmvtp` | Age du dernier mouvement (en jours)\\hline\n",
    "`boppn` | Nombre d'opérations à M-1\n",
    "`facan` | Montant facturé dans l'année en francs\n",
    "`lgagt` | Engagement long terme\n",
    "`vienb` | Nombre de produits contrats vie\n",
    "`viemt` | Montant des produits contrats vie en francs\n",
    "`uemnb` | Nombre de produits épargne monétaire\n",
    "`uemmts` | Montant des produits d'épargne monétaire en francs\n",
    "`xlgnb` | Nombre de produits d'épargne logement\n",
    "`xlgmt` | Montant des produits d'épargne logement en francs\n",
    "`ylvnb` | Nombre de comptes sur livret\n",
    "`ylvmt` | Montant des comptes sur livret en francs\n",
    "`nbelts` | Nombre de produits d'épargne long terme\n",
    "`mtelts` | Montant des produits d'épargne long terme en francs\n",
    "`nbcats` | Nombre de produits épargne à terme\n",
    "`mtcats` | Montant des produits épargne à terme\n",
    "`nbbecs` | Nombre de produits bons et certificats\n",
    "`mtbecs` | Montant des produits bons et certificats en francs\n",
    "`rocnb` | Nombre de paiements par carte bancaire à M-1\n",
    "`ntcas` | Nombre total de cartes\n",
    "`nptag` | Nombre de cartes point argent\n",
    "`segv2s` | Segmentation version 2\n",
    "`itavc` | Total des avoirs sur tous les comptes\n",
    "`havef` | Total des avoirs épargne financière en francs\n",
    "`jnbjd1s` | Nombre de jours à débit à M\n",
    "`jnbjd2s` | Nombre de jours à débit à M-1\n",
    "`jnbjd3s` | Nombre de jours à débit à M-2\n",
    "**`carvp`** | **Possession de la carte VISA Premier}**\n"
   ]
  },
  {
   "cell_type": "markdown",
   "metadata": {
    "id": "E4ZHRGOQk_XT"
   },
   "source": [
    "# Data Munging\n",
    "## Lecture et prétraitement  des données\n",
    "Les données sont disponibles dans le répertoire Drive.\n",
    "\n",
    "Même si les données sont déjà extraites par échantillonnage d'une très grande base, elles nécessitent un travail prémiminaire (*data munging*) pour détecter, corriger les erreurs et incohérences, éliminer des redondances, traiter les données manquantes, transformer certaines variables.  Ce travail préliminaire, souvent long et fastidieux, nécessite d'y consacer beaucoup de temps et de rigueur afin de s'assurer de la qualité finale des résultats. \n",
    "\n",
    "\n",
    "### Lecture des données"
   ]
  },
  {
   "cell_type": "code",
   "execution_count": 4,
   "metadata": {
    "id": "meURmDYqk_XU"
   },
   "outputs": [],
   "source": [
    "%matplotlib inline\n",
    "import pandas as pd\n",
    "import numpy as np\n",
    "import matplotlib.pyplot as plt\n",
    "pd.options.mode.chained_assignment = None  # default='warn'"
   ]
  },
  {
   "cell_type": "code",
   "execution_count": 5,
   "metadata": {
    "id": "Te1QxV_6k_Xa",
    "outputId": "dde75648-f61f-40cf-f5a3-75d091554b62"
   },
   "outputs": [
    {
     "data": {
      "text/html": [
       "<div>\n",
       "<style scoped>\n",
       "    .dataframe tbody tr th:only-of-type {\n",
       "        vertical-align: middle;\n",
       "    }\n",
       "\n",
       "    .dataframe tbody tr th {\n",
       "        vertical-align: top;\n",
       "    }\n",
       "\n",
       "    .dataframe thead th {\n",
       "        text-align: right;\n",
       "    }\n",
       "</style>\n",
       "<table border=\"1\" class=\"dataframe\">\n",
       "  <thead>\n",
       "    <tr style=\"text-align: right;\">\n",
       "      <th></th>\n",
       "      <th>DEPTS</th>\n",
       "      <th>PVS</th>\n",
       "      <th>SEXEQ</th>\n",
       "      <th>AGER</th>\n",
       "      <th>FAMIQ</th>\n",
       "      <th>RELAT</th>\n",
       "      <th>PCSPQ</th>\n",
       "      <th>QUALS</th>\n",
       "      <th>G03G04S</th>\n",
       "      <th>G25G26S</th>\n",
       "      <th>...</th>\n",
       "      <th>ZOCNB</th>\n",
       "      <th>NTCAS</th>\n",
       "      <th>NPTAG</th>\n",
       "      <th>SEGV2S</th>\n",
       "      <th>ITAVC</th>\n",
       "      <th>HAVEF</th>\n",
       "      <th>JNBJD1S</th>\n",
       "      <th>JNBJD2S</th>\n",
       "      <th>JNBJD3S</th>\n",
       "      <th>CARVP</th>\n",
       "    </tr>\n",
       "    <tr>\n",
       "      <th>MATRIC</th>\n",
       "      <th></th>\n",
       "      <th></th>\n",
       "      <th></th>\n",
       "      <th></th>\n",
       "      <th></th>\n",
       "      <th></th>\n",
       "      <th></th>\n",
       "      <th></th>\n",
       "      <th></th>\n",
       "      <th></th>\n",
       "      <th></th>\n",
       "      <th></th>\n",
       "      <th></th>\n",
       "      <th></th>\n",
       "      <th></th>\n",
       "      <th></th>\n",
       "      <th></th>\n",
       "      <th></th>\n",
       "      <th></th>\n",
       "      <th></th>\n",
       "      <th></th>\n",
       "    </tr>\n",
       "  </thead>\n",
       "  <tbody>\n",
       "    <tr>\n",
       "      <th>131842</th>\n",
       "      <td>31</td>\n",
       "      <td>03</td>\n",
       "      <td>1</td>\n",
       "      <td>67</td>\n",
       "      <td>M</td>\n",
       "      <td>406</td>\n",
       "      <td>755</td>\n",
       "      <td>A</td>\n",
       "      <td>inc</td>\n",
       "      <td>inc</td>\n",
       "      <td>...</td>\n",
       "      <td>0</td>\n",
       "      <td>2</td>\n",
       "      <td>0</td>\n",
       "      <td>5</td>\n",
       "      <td>947984</td>\n",
       "      <td>614107</td>\n",
       "      <td>0</td>\n",
       "      <td>0</td>\n",
       "      <td>1</td>\n",
       "      <td>oui</td>\n",
       "    </tr>\n",
       "    <tr>\n",
       "      <th>140210</th>\n",
       "      <td>31</td>\n",
       "      <td>01</td>\n",
       "      <td>1</td>\n",
       "      <td>82</td>\n",
       "      <td>M</td>\n",
       "      <td>445</td>\n",
       "      <td>770</td>\n",
       "      <td>A</td>\n",
       "      <td>inc</td>\n",
       "      <td>inc</td>\n",
       "      <td>...</td>\n",
       "      <td>33</td>\n",
       "      <td>2</td>\n",
       "      <td>0</td>\n",
       "      <td>5</td>\n",
       "      <td>3368558</td>\n",
       "      <td>2569775</td>\n",
       "      <td>3</td>\n",
       "      <td>3</td>\n",
       "      <td>5</td>\n",
       "      <td>oui</td>\n",
       "    </tr>\n",
       "    <tr>\n",
       "      <th>148009</th>\n",
       "      <td>31</td>\n",
       "      <td>01</td>\n",
       "      <td>1</td>\n",
       "      <td>51</td>\n",
       "      <td>M</td>\n",
       "      <td>238</td>\n",
       "      <td>311</td>\n",
       "      <td>A</td>\n",
       "      <td>inc</td>\n",
       "      <td>inc</td>\n",
       "      <td>...</td>\n",
       "      <td>14</td>\n",
       "      <td>2</td>\n",
       "      <td>0</td>\n",
       "      <td>inc</td>\n",
       "      <td>1303700</td>\n",
       "      <td>556967</td>\n",
       "      <td>0</td>\n",
       "      <td>0</td>\n",
       "      <td>1</td>\n",
       "      <td>oui</td>\n",
       "    </tr>\n",
       "    <tr>\n",
       "      <th>442153</th>\n",
       "      <td>82</td>\n",
       "      <td>06</td>\n",
       "      <td>1</td>\n",
       "      <td>52</td>\n",
       "      <td>M</td>\n",
       "      <td>270</td>\n",
       "      <td>465</td>\n",
       "      <td>A</td>\n",
       "      <td>inc</td>\n",
       "      <td>inc</td>\n",
       "      <td>...</td>\n",
       "      <td>5</td>\n",
       "      <td>2</td>\n",
       "      <td>0</td>\n",
       "      <td>5</td>\n",
       "      <td>19856243</td>\n",
       "      <td>133896</td>\n",
       "      <td>0</td>\n",
       "      <td>0</td>\n",
       "      <td>0</td>\n",
       "      <td>oui</td>\n",
       "    </tr>\n",
       "    <tr>\n",
       "      <th>552427</th>\n",
       "      <td>97</td>\n",
       "      <td>01</td>\n",
       "      <td>1</td>\n",
       "      <td>58</td>\n",
       "      <td>M</td>\n",
       "      <td>139</td>\n",
       "      <td>345</td>\n",
       "      <td>C</td>\n",
       "      <td>inc</td>\n",
       "      <td>inc</td>\n",
       "      <td>...</td>\n",
       "      <td>0</td>\n",
       "      <td>1</td>\n",
       "      <td>0</td>\n",
       "      <td>1</td>\n",
       "      <td>122745</td>\n",
       "      <td>0</td>\n",
       "      <td>0</td>\n",
       "      <td>0</td>\n",
       "      <td>0</td>\n",
       "      <td>oui</td>\n",
       "    </tr>\n",
       "  </tbody>\n",
       "</table>\n",
       "<p>5 rows × 55 columns</p>\n",
       "</div>"
      ],
      "text/plain": [
       "       DEPTS PVS SEXEQ AGER FAMIQ RELAT PCSPQ QUALS G03G04S G25G26S  ...  \\\n",
       "MATRIC                                                               ...   \n",
       "131842    31  03     1   67     M   406   755     A     inc     inc  ...   \n",
       "140210    31  01     1   82     M   445   770     A     inc     inc  ...   \n",
       "148009    31  01     1   51     M   238   311     A     inc     inc  ...   \n",
       "442153    82  06     1   52     M   270   465     A     inc     inc  ...   \n",
       "552427    97  01     1   58     M   139   345     C     inc     inc  ...   \n",
       "\n",
       "       ZOCNB NTCAS NPTAG SEGV2S     ITAVC    HAVEF JNBJD1S JNBJD2S JNBJD3S  \\\n",
       "MATRIC                                                                       \n",
       "131842     0     2     0      5    947984   614107       0       0       1   \n",
       "140210    33     2     0      5   3368558  2569775       3       3       5   \n",
       "148009    14     2     0    inc   1303700   556967       0       0       1   \n",
       "442153     5     2     0      5  19856243   133896       0       0       0   \n",
       "552427     0     1     0      1    122745        0       0       0       0   \n",
       "\n",
       "       CARVP  \n",
       "MATRIC        \n",
       "131842   oui  \n",
       "140210   oui  \n",
       "148009   oui  \n",
       "442153   oui  \n",
       "552427   oui  \n",
       "\n",
       "[5 rows x 55 columns]"
      ]
     },
     "execution_count": 5,
     "metadata": {},
     "output_type": "execute_result"
    }
   ],
   "source": [
    "#Lecture\n",
    "listeVar=['MATRIC','DEPTS','PVS','SEXEQ','AGER','FAMIQ', \n",
    " 'RELAT','PCSPQ','QUALS','G03G04S','G25G26S', \n",
    " 'G29G30S','G35G36S','G37G38S','G45G46S','G47G48S',\n",
    " 'IMPNBS','REJETS','OPGNB','MOYRV','TAVEP','ENDET','GAGET',\n",
    " 'GAGEC','GAGEM','KVUNB','QSMOY','QCRED','DMVTP','BOPPN',\n",
    " 'FACAN','LGAGT','VIENB','VIEMT','UEMNB','UEMMTS','XLGNB',\n",
    " 'XLGMT','YLVNB','YLVMT','NBELTS','MTELTS','NBCATS','MTCATS',\n",
    " 'NBBECS','MTBECS','ZOCNB','NTCAS','NPTAG','SEGV2S','ITAVC',\n",
    " 'HAVEF','JNBJD1S','JNBJD2S','JNBJD3S','CARVP']\n",
    "path=\"\"\n",
    "visaraw = pd.read_table(path+'visa_raw.dat',\n",
    "                        sep=';',header=None, index_col=0, names=listeVar)\n",
    "visaraw.head()"
   ]
  },
  {
   "cell_type": "markdown",
   "metadata": {
    "id": "fv_lsjMck_Xh"
   },
   "source": [
    "Une fonction permet de définir le bon type \"categorical\" des variables qualitatives  en utilisant un dictionnaire des modalités pour le recodage."
   ]
  },
  {
   "cell_type": "code",
   "execution_count": 6,
   "metadata": {
    "id": "q_MBStb0k_Xi"
   },
   "outputs": [],
   "source": [
    "def create_categorical_data(df,column_name, cat_name_dic):\n",
    "    cat_columns = pd.Categorical(df[column_name],ordered=False)\n",
    "    new_categorie = [cat_name_dic[old_name] for old_name in cat_columns.categories]\n",
    "    return cat_columns.rename_categories(new_categorie)"
   ]
  },
  {
   "cell_type": "code",
   "execution_count": 7,
   "metadata": {
    "id": "RuK_P9ZOk_Xn"
   },
   "outputs": [],
   "source": [
    "#FAMIQ\n",
    "cat_name_dic = {'C':'Fcel','D':'Fdiv','M':'Fmar','S':'Fsep','U':'Fuli','V':'Fveu','inc':'Finc'}\n",
    "visaraw[\"FAMIQ\"]=create_categorical_data(visaraw,\"FAMIQ\", cat_name_dic)\n",
    "#SEXEQ\n",
    "cat_name_dic = {'1':'Shom','2':'Sfem','inc':'Sinc'}\n",
    "visaraw[\"SEXEQ\"]=create_categorical_data(visaraw,\"SEXEQ\", cat_name_dic)\n",
    "#CARVP\n",
    "cat_name_dic = {'non':'Cnon','oui':'Coui'}\n",
    "visaraw[\"CARVP\"]=create_categorical_data(visaraw,\"CARVP\", cat_name_dic)\n",
    "#PCSPQ\n",
    "visaraw[\"PCSPQ\"] = visaraw[\"PCSPQ\"].str.get(0).replace(\"0\",\"i\")\n",
    "cat_name_dic = {'1':'Pagr', '2':'Part', '3':'Pcad', '4':'Pint', '5':'Pemp','6':'Pouv',\n",
    "                '7':'Pret', '8':'Psan', 'i':'Pinc'}\n",
    "visaraw[\"PCSPQ\"]=create_categorical_data(visaraw,\"PCSPQ\", cat_name_dic)"
   ]
  },
  {
   "cell_type": "markdown",
   "metadata": {
    "id": "6qwBwXfOk_Xs"
   },
   "source": [
    "####  Premiers nettoyages\n",
    "Suppression d'observations non pertinentes:interdits bancaires et comptes professionnels."
   ]
  },
  {
   "cell_type": "code",
   "execution_count": 8,
   "metadata": {
    "id": "2JanmGkak_Xt",
    "outputId": "487595be-24f4-4ee6-897c-849029ad45b0"
   },
   "outputs": [
    {
     "data": {
      "text/html": [
       "<div>\n",
       "<style scoped>\n",
       "    .dataframe tbody tr th:only-of-type {\n",
       "        vertical-align: middle;\n",
       "    }\n",
       "\n",
       "    .dataframe tbody tr th {\n",
       "        vertical-align: top;\n",
       "    }\n",
       "\n",
       "    .dataframe thead th {\n",
       "        text-align: right;\n",
       "    }\n",
       "</style>\n",
       "<table border=\"1\" class=\"dataframe\">\n",
       "  <thead>\n",
       "    <tr style=\"text-align: right;\">\n",
       "      <th></th>\n",
       "      <th>DEPTS</th>\n",
       "      <th>PVS</th>\n",
       "      <th>SEXEQ</th>\n",
       "      <th>AGER</th>\n",
       "      <th>FAMIQ</th>\n",
       "      <th>RELAT</th>\n",
       "      <th>PCSPQ</th>\n",
       "      <th>QUALS</th>\n",
       "      <th>G03G04S</th>\n",
       "      <th>G25G26S</th>\n",
       "      <th>...</th>\n",
       "      <th>ZOCNB</th>\n",
       "      <th>NTCAS</th>\n",
       "      <th>NPTAG</th>\n",
       "      <th>SEGV2S</th>\n",
       "      <th>ITAVC</th>\n",
       "      <th>HAVEF</th>\n",
       "      <th>JNBJD1S</th>\n",
       "      <th>JNBJD2S</th>\n",
       "      <th>JNBJD3S</th>\n",
       "      <th>CARVP</th>\n",
       "    </tr>\n",
       "    <tr>\n",
       "      <th>MATRIC</th>\n",
       "      <th></th>\n",
       "      <th></th>\n",
       "      <th></th>\n",
       "      <th></th>\n",
       "      <th></th>\n",
       "      <th></th>\n",
       "      <th></th>\n",
       "      <th></th>\n",
       "      <th></th>\n",
       "      <th></th>\n",
       "      <th></th>\n",
       "      <th></th>\n",
       "      <th></th>\n",
       "      <th></th>\n",
       "      <th></th>\n",
       "      <th></th>\n",
       "      <th></th>\n",
       "      <th></th>\n",
       "      <th></th>\n",
       "      <th></th>\n",
       "      <th></th>\n",
       "    </tr>\n",
       "  </thead>\n",
       "  <tbody>\n",
       "    <tr>\n",
       "      <th>131842</th>\n",
       "      <td>31</td>\n",
       "      <td>03</td>\n",
       "      <td>Shom</td>\n",
       "      <td>67</td>\n",
       "      <td>Fmar</td>\n",
       "      <td>406</td>\n",
       "      <td>Pret</td>\n",
       "      <td>A</td>\n",
       "      <td>inc</td>\n",
       "      <td>inc</td>\n",
       "      <td>...</td>\n",
       "      <td>0</td>\n",
       "      <td>2</td>\n",
       "      <td>0</td>\n",
       "      <td>5</td>\n",
       "      <td>947984</td>\n",
       "      <td>614107</td>\n",
       "      <td>0</td>\n",
       "      <td>0</td>\n",
       "      <td>1</td>\n",
       "      <td>Coui</td>\n",
       "    </tr>\n",
       "    <tr>\n",
       "      <th>140210</th>\n",
       "      <td>31</td>\n",
       "      <td>01</td>\n",
       "      <td>Shom</td>\n",
       "      <td>82</td>\n",
       "      <td>Fmar</td>\n",
       "      <td>445</td>\n",
       "      <td>Pret</td>\n",
       "      <td>A</td>\n",
       "      <td>inc</td>\n",
       "      <td>inc</td>\n",
       "      <td>...</td>\n",
       "      <td>33</td>\n",
       "      <td>2</td>\n",
       "      <td>0</td>\n",
       "      <td>5</td>\n",
       "      <td>3368558</td>\n",
       "      <td>2569775</td>\n",
       "      <td>3</td>\n",
       "      <td>3</td>\n",
       "      <td>5</td>\n",
       "      <td>Coui</td>\n",
       "    </tr>\n",
       "    <tr>\n",
       "      <th>148009</th>\n",
       "      <td>31</td>\n",
       "      <td>01</td>\n",
       "      <td>Shom</td>\n",
       "      <td>51</td>\n",
       "      <td>Fmar</td>\n",
       "      <td>238</td>\n",
       "      <td>Pcad</td>\n",
       "      <td>A</td>\n",
       "      <td>inc</td>\n",
       "      <td>inc</td>\n",
       "      <td>...</td>\n",
       "      <td>14</td>\n",
       "      <td>2</td>\n",
       "      <td>0</td>\n",
       "      <td>inc</td>\n",
       "      <td>1303700</td>\n",
       "      <td>556967</td>\n",
       "      <td>0</td>\n",
       "      <td>0</td>\n",
       "      <td>1</td>\n",
       "      <td>Coui</td>\n",
       "    </tr>\n",
       "    <tr>\n",
       "      <th>552427</th>\n",
       "      <td>97</td>\n",
       "      <td>01</td>\n",
       "      <td>Shom</td>\n",
       "      <td>58</td>\n",
       "      <td>Fmar</td>\n",
       "      <td>139</td>\n",
       "      <td>Pcad</td>\n",
       "      <td>C</td>\n",
       "      <td>inc</td>\n",
       "      <td>inc</td>\n",
       "      <td>...</td>\n",
       "      <td>0</td>\n",
       "      <td>1</td>\n",
       "      <td>0</td>\n",
       "      <td>1</td>\n",
       "      <td>122745</td>\n",
       "      <td>0</td>\n",
       "      <td>0</td>\n",
       "      <td>0</td>\n",
       "      <td>0</td>\n",
       "      <td>Coui</td>\n",
       "    </tr>\n",
       "    <tr>\n",
       "      <th>556005</th>\n",
       "      <td>40</td>\n",
       "      <td>01</td>\n",
       "      <td>Shom</td>\n",
       "      <td>27</td>\n",
       "      <td>Fcel</td>\n",
       "      <td>99</td>\n",
       "      <td>Psan</td>\n",
       "      <td>B</td>\n",
       "      <td>inc</td>\n",
       "      <td>inc</td>\n",
       "      <td>...</td>\n",
       "      <td>14</td>\n",
       "      <td>2</td>\n",
       "      <td>0</td>\n",
       "      <td>5</td>\n",
       "      <td>83224</td>\n",
       "      <td>0</td>\n",
       "      <td>0</td>\n",
       "      <td>0</td>\n",
       "      <td>0</td>\n",
       "      <td>Coui</td>\n",
       "    </tr>\n",
       "  </tbody>\n",
       "</table>\n",
       "<p>5 rows × 55 columns</p>\n",
       "</div>"
      ],
      "text/plain": [
       "       DEPTS PVS SEXEQ AGER FAMIQ RELAT PCSPQ QUALS G03G04S G25G26S  ...  \\\n",
       "MATRIC                                                               ...   \n",
       "131842    31  03  Shom   67  Fmar   406  Pret     A     inc     inc  ...   \n",
       "140210    31  01  Shom   82  Fmar   445  Pret     A     inc     inc  ...   \n",
       "148009    31  01  Shom   51  Fmar   238  Pcad     A     inc     inc  ...   \n",
       "552427    97  01  Shom   58  Fmar   139  Pcad     C     inc     inc  ...   \n",
       "556005    40  01  Shom   27  Fcel    99  Psan     B     inc     inc  ...   \n",
       "\n",
       "       ZOCNB NTCAS NPTAG SEGV2S    ITAVC    HAVEF JNBJD1S JNBJD2S JNBJD3S  \\\n",
       "MATRIC                                                                      \n",
       "131842     0     2     0      5   947984   614107       0       0       1   \n",
       "140210    33     2     0      5  3368558  2569775       3       3       5   \n",
       "148009    14     2     0    inc  1303700   556967       0       0       1   \n",
       "552427     0     1     0      1   122745        0       0       0       0   \n",
       "556005    14     2     0      5    83224        0       0       0       0   \n",
       "\n",
       "       CARVP  \n",
       "MATRIC        \n",
       "131842  Coui  \n",
       "140210  Coui  \n",
       "148009  Coui  \n",
       "552427  Coui  \n",
       "556005  Coui  \n",
       "\n",
       "[5 rows x 55 columns]"
      ]
     },
     "execution_count": 8,
     "metadata": {},
     "output_type": "execute_result"
    }
   ],
   "source": [
    "visaraw = visaraw[visaraw.NBCATS!= \"1\"]\n",
    "visaraw = visaraw[visaraw.NBBECS!= \"1\"]\n",
    "\n",
    "visaraw= visaraw[np.logical_not(visaraw.G29G30S.isin(['B','X']))] \n",
    "visaraw= visaraw[np.logical_not(visaraw.G03G04S.isin(['B','X']))] \n",
    "visaraw= visaraw[np.logical_not(visaraw.G45G46S.isin(['A','B','X']))] \n",
    "visaraw= visaraw[np.logical_not(visaraw.G37G38S.isin(['A']))] \n",
    "visaraw= visaraw[np.logical_not(visaraw.G25G26S.isin(['A','B','X']))] \n",
    "visaraw= visaraw[np.logical_not(visaraw.G47G48S.isin(['B']))] \n",
    "visaraw.head()"
   ]
  },
  {
   "cell_type": "code",
   "execution_count": 9,
   "metadata": {
    "id": "HeE2m8oZk_Xy",
    "outputId": "1e37056e-3f22-4d0f-e37f-37ba1315b6c7"
   },
   "outputs": [
    {
     "data": {
      "text/html": [
       "<div>\n",
       "<style scoped>\n",
       "    .dataframe tbody tr th:only-of-type {\n",
       "        vertical-align: middle;\n",
       "    }\n",
       "\n",
       "    .dataframe tbody tr th {\n",
       "        vertical-align: top;\n",
       "    }\n",
       "\n",
       "    .dataframe thead th {\n",
       "        text-align: right;\n",
       "    }\n",
       "</style>\n",
       "<table border=\"1\" class=\"dataframe\">\n",
       "  <thead>\n",
       "    <tr style=\"text-align: right;\">\n",
       "      <th></th>\n",
       "      <th>DEPTS</th>\n",
       "      <th>PVS</th>\n",
       "      <th>SEXEQ</th>\n",
       "      <th>AGER</th>\n",
       "      <th>FAMIQ</th>\n",
       "      <th>RELAT</th>\n",
       "      <th>PCSPQ</th>\n",
       "      <th>QUALS</th>\n",
       "      <th>G03G04S</th>\n",
       "      <th>G25G26S</th>\n",
       "      <th>...</th>\n",
       "      <th>ZOCNB</th>\n",
       "      <th>NTCAS</th>\n",
       "      <th>NPTAG</th>\n",
       "      <th>SEGV2S</th>\n",
       "      <th>ITAVC</th>\n",
       "      <th>HAVEF</th>\n",
       "      <th>JNBJD1S</th>\n",
       "      <th>JNBJD2S</th>\n",
       "      <th>JNBJD3S</th>\n",
       "      <th>CARVP</th>\n",
       "    </tr>\n",
       "  </thead>\n",
       "  <tbody>\n",
       "    <tr>\n",
       "      <th>count</th>\n",
       "      <td>1290</td>\n",
       "      <td>1290</td>\n",
       "      <td>1290</td>\n",
       "      <td>1290</td>\n",
       "      <td>1290</td>\n",
       "      <td>1290</td>\n",
       "      <td>1290</td>\n",
       "      <td>1290</td>\n",
       "      <td>1290</td>\n",
       "      <td>1290</td>\n",
       "      <td>...</td>\n",
       "      <td>1290</td>\n",
       "      <td>1290</td>\n",
       "      <td>1290</td>\n",
       "      <td>1290</td>\n",
       "      <td>1290</td>\n",
       "      <td>1290</td>\n",
       "      <td>1290</td>\n",
       "      <td>1290</td>\n",
       "      <td>1290</td>\n",
       "      <td>1290</td>\n",
       "    </tr>\n",
       "    <tr>\n",
       "      <th>unique</th>\n",
       "      <td>36</td>\n",
       "      <td>8</td>\n",
       "      <td>3</td>\n",
       "      <td>90</td>\n",
       "      <td>7</td>\n",
       "      <td>377</td>\n",
       "      <td>9</td>\n",
       "      <td>7</td>\n",
       "      <td>2</td>\n",
       "      <td>1</td>\n",
       "      <td>...</td>\n",
       "      <td>57</td>\n",
       "      <td>7</td>\n",
       "      <td>5</td>\n",
       "      <td>8</td>\n",
       "      <td>1172</td>\n",
       "      <td>346</td>\n",
       "      <td>41</td>\n",
       "      <td>36</td>\n",
       "      <td>38</td>\n",
       "      <td>2</td>\n",
       "    </tr>\n",
       "    <tr>\n",
       "      <th>top</th>\n",
       "      <td>31</td>\n",
       "      <td>01</td>\n",
       "      <td>Shom</td>\n",
       "      <td>42</td>\n",
       "      <td>Fmar</td>\n",
       "      <td>.</td>\n",
       "      <td>Pemp</td>\n",
       "      <td>B</td>\n",
       "      <td>inc</td>\n",
       "      <td>inc</td>\n",
       "      <td>...</td>\n",
       "      <td>.</td>\n",
       "      <td>1</td>\n",
       "      <td>0</td>\n",
       "      <td>6</td>\n",
       "      <td>0</td>\n",
       "      <td>0</td>\n",
       "      <td>0</td>\n",
       "      <td>0</td>\n",
       "      <td>0</td>\n",
       "      <td>Cnon</td>\n",
       "    </tr>\n",
       "    <tr>\n",
       "      <th>freq</th>\n",
       "      <td>806</td>\n",
       "      <td>821</td>\n",
       "      <td>772</td>\n",
       "      <td>36</td>\n",
       "      <td>662</td>\n",
       "      <td>29</td>\n",
       "      <td>286</td>\n",
       "      <td>348</td>\n",
       "      <td>1285</td>\n",
       "      <td>1290</td>\n",
       "      <td>...</td>\n",
       "      <td>422</td>\n",
       "      <td>576</td>\n",
       "      <td>1115</td>\n",
       "      <td>313</td>\n",
       "      <td>70</td>\n",
       "      <td>825</td>\n",
       "      <td>916</td>\n",
       "      <td>897</td>\n",
       "      <td>898</td>\n",
       "      <td>879</td>\n",
       "    </tr>\n",
       "  </tbody>\n",
       "</table>\n",
       "<p>4 rows × 55 columns</p>\n",
       "</div>"
      ],
      "text/plain": [
       "       DEPTS   PVS SEXEQ  AGER FAMIQ RELAT PCSPQ QUALS G03G04S G25G26S  ...  \\\n",
       "count   1290  1290  1290  1290  1290  1290  1290  1290    1290    1290  ...   \n",
       "unique    36     8     3    90     7   377     9     7       2       1  ...   \n",
       "top       31    01  Shom    42  Fmar     .  Pemp     B     inc     inc  ...   \n",
       "freq     806   821   772    36   662    29   286   348    1285    1290  ...   \n",
       "\n",
       "       ZOCNB NTCAS NPTAG SEGV2S ITAVC HAVEF JNBJD1S JNBJD2S JNBJD3S CARVP  \n",
       "count   1290  1290  1290   1290  1290  1290    1290    1290    1290  1290  \n",
       "unique    57     7     5      8  1172   346      41      36      38     2  \n",
       "top        .     1     0      6     0     0       0       0       0  Cnon  \n",
       "freq     422   576  1115    313    70   825     916     897     898   879  \n",
       "\n",
       "[4 rows x 55 columns]"
      ]
     },
     "execution_count": 9,
     "metadata": {},
     "output_type": "execute_result"
    }
   ],
   "source": [
    "visaraw.describe(include='all')"
   ]
  },
  {
   "cell_type": "code",
   "execution_count": 10,
   "metadata": {
    "id": "4aEcMUWMk_X4",
    "outputId": "ba67d69f-1998-4724-d77a-db9ab43a32d1"
   },
   "outputs": [
    {
     "name": "stdout",
     "output_type": "stream",
     "text": [
      "<class 'pandas.core.frame.DataFrame'>\n",
      "Int64Index: 1290 entries, 131842 to 7589439\n",
      "Data columns (total 55 columns):\n",
      " #   Column   Non-Null Count  Dtype   \n",
      "---  ------   --------------  -----   \n",
      " 0   DEPTS    1290 non-null   object  \n",
      " 1   PVS      1290 non-null   object  \n",
      " 2   SEXEQ    1290 non-null   category\n",
      " 3   AGER     1290 non-null   object  \n",
      " 4   FAMIQ    1290 non-null   category\n",
      " 5   RELAT    1290 non-null   object  \n",
      " 6   PCSPQ    1290 non-null   category\n",
      " 7   QUALS    1290 non-null   object  \n",
      " 8   G03G04S  1290 non-null   object  \n",
      " 9   G25G26S  1290 non-null   object  \n",
      " 10  G29G30S  1290 non-null   object  \n",
      " 11  G35G36S  1290 non-null   object  \n",
      " 12  G37G38S  1290 non-null   object  \n",
      " 13  G45G46S  1290 non-null   object  \n",
      " 14  G47G48S  1290 non-null   object  \n",
      " 15  IMPNBS   1290 non-null   object  \n",
      " 16  REJETS   1290 non-null   object  \n",
      " 17  OPGNB    1290 non-null   object  \n",
      " 18  MOYRV    1290 non-null   object  \n",
      " 19  TAVEP    1290 non-null   object  \n",
      " 20  ENDET    1290 non-null   object  \n",
      " 21  GAGET    1290 non-null   object  \n",
      " 22  GAGEC    1290 non-null   object  \n",
      " 23  GAGEM    1290 non-null   object  \n",
      " 24  KVUNB    1290 non-null   object  \n",
      " 25  QSMOY    1290 non-null   object  \n",
      " 26  QCRED    1290 non-null   object  \n",
      " 27  DMVTP    1290 non-null   object  \n",
      " 28  BOPPN    1290 non-null   object  \n",
      " 29  FACAN    1290 non-null   object  \n",
      " 30  LGAGT    1290 non-null   object  \n",
      " 31  VIENB    1290 non-null   object  \n",
      " 32  VIEMT    1290 non-null   object  \n",
      " 33  UEMNB    1290 non-null   object  \n",
      " 34  UEMMTS   1290 non-null   object  \n",
      " 35  XLGNB    1290 non-null   object  \n",
      " 36  XLGMT    1290 non-null   object  \n",
      " 37  YLVNB    1290 non-null   object  \n",
      " 38  YLVMT    1290 non-null   object  \n",
      " 39  NBELTS   1290 non-null   object  \n",
      " 40  MTELTS   1290 non-null   object  \n",
      " 41  NBCATS   1290 non-null   object  \n",
      " 42  MTCATS   1290 non-null   object  \n",
      " 43  NBBECS   1290 non-null   object  \n",
      " 44  MTBECS   1290 non-null   object  \n",
      " 45  ZOCNB    1290 non-null   object  \n",
      " 46  NTCAS    1290 non-null   object  \n",
      " 47  NPTAG    1290 non-null   object  \n",
      " 48  SEGV2S   1290 non-null   object  \n",
      " 49  ITAVC    1290 non-null   object  \n",
      " 50  HAVEF    1290 non-null   object  \n",
      " 51  JNBJD1S  1290 non-null   object  \n",
      " 52  JNBJD2S  1290 non-null   object  \n",
      " 53  JNBJD3S  1290 non-null   object  \n",
      " 54  CARVP    1290 non-null   category\n",
      "dtypes: category(4), object(51)\n",
      "memory usage: 530.0+ KB\n"
     ]
    }
   ],
   "source": [
    "visaraw.info()"
   ]
  },
  {
   "cell_type": "code",
   "execution_count": 11,
   "metadata": {
    "id": "iCpE0pQbk_X9",
    "outputId": "a9d8df92-36cf-4f7a-fdde-9e397f35a277"
   },
   "outputs": [
    {
     "data": {
      "text/plain": [
       "array(['67', '82', '51', '58', '27', '49', '76', '64', '38', '46', '45',\n",
       "       '60', '34', '56', '70', '61', '41', '50', '43', '26', '75', '52',\n",
       "       '32', '33', '28', '.', '48', '53', '37', '63', '65', '62', '35',\n",
       "       '44', '40', '54', '68', '30', '78', '39', '31', '66', '47', '42',\n",
       "       '59', '25', '24', '57', '36', '55', '74', '69', '29', '71', '73',\n",
       "       '77', '80', '13', '16', '93', '83', '22', '20', '19', '92', '87',\n",
       "       '95', '89', '23', '72', '11', '88', '84', '17', '21', '91', '81',\n",
       "       '98', '86', '79', '85', '12', '7', '14', '18', '90', '15', '8',\n",
       "       '97', '9'], dtype=object)"
      ]
     },
     "execution_count": 11,
     "metadata": {},
     "output_type": "execute_result"
    }
   ],
   "source": [
    "visaraw.AGER.unique()"
   ]
  },
  {
   "cell_type": "markdown",
   "metadata": {
    "id": "7rXJmqvkk_YC"
   },
   "source": [
    "Suppression d'observations avec données manquantes de la variable `AGER`"
   ]
  },
  {
   "cell_type": "code",
   "execution_count": 12,
   "metadata": {
    "id": "EtdVh47mk_YD"
   },
   "outputs": [
    {
     "ename": "ValueError",
     "evalue": "could not convert string to float: '.'",
     "output_type": "error",
     "traceback": [
      "\u001b[1;31m---------------------------------------------------------------------------\u001b[0m",
      "\u001b[1;31mValueError\u001b[0m                                Traceback (most recent call last)",
      "\u001b[1;32m<ipython-input-12-177e0692398d>\u001b[0m in \u001b[0;36m<module>\u001b[1;34m\u001b[0m\n\u001b[1;32m----> 1\u001b[1;33m \u001b[0mvisaraw\u001b[0m\u001b[1;33m.\u001b[0m\u001b[0mAGER\u001b[0m\u001b[1;33m=\u001b[0m\u001b[0mvisaraw\u001b[0m\u001b[1;33m.\u001b[0m\u001b[0mAGER\u001b[0m\u001b[1;33m.\u001b[0m\u001b[0mastype\u001b[0m\u001b[1;33m(\u001b[0m\u001b[0mfloat\u001b[0m\u001b[1;33m)\u001b[0m\u001b[1;33m\u001b[0m\u001b[1;33m\u001b[0m\u001b[0m\n\u001b[0m",
      "\u001b[1;32mC:\\ProgramData\\Anaconda3\\lib\\site-packages\\pandas\\core\\generic.py\u001b[0m in \u001b[0;36mastype\u001b[1;34m(self, dtype, copy, errors)\u001b[0m\n\u001b[0;32m   5696\u001b[0m         \u001b[1;32melse\u001b[0m\u001b[1;33m:\u001b[0m\u001b[1;33m\u001b[0m\u001b[1;33m\u001b[0m\u001b[0m\n\u001b[0;32m   5697\u001b[0m             \u001b[1;31m# else, only a single dtype is given\u001b[0m\u001b[1;33m\u001b[0m\u001b[1;33m\u001b[0m\u001b[1;33m\u001b[0m\u001b[0m\n\u001b[1;32m-> 5698\u001b[1;33m             \u001b[0mnew_data\u001b[0m \u001b[1;33m=\u001b[0m \u001b[0mself\u001b[0m\u001b[1;33m.\u001b[0m\u001b[0m_data\u001b[0m\u001b[1;33m.\u001b[0m\u001b[0mastype\u001b[0m\u001b[1;33m(\u001b[0m\u001b[0mdtype\u001b[0m\u001b[1;33m=\u001b[0m\u001b[0mdtype\u001b[0m\u001b[1;33m,\u001b[0m \u001b[0mcopy\u001b[0m\u001b[1;33m=\u001b[0m\u001b[0mcopy\u001b[0m\u001b[1;33m,\u001b[0m \u001b[0merrors\u001b[0m\u001b[1;33m=\u001b[0m\u001b[0merrors\u001b[0m\u001b[1;33m)\u001b[0m\u001b[1;33m\u001b[0m\u001b[1;33m\u001b[0m\u001b[0m\n\u001b[0m\u001b[0;32m   5699\u001b[0m             \u001b[1;32mreturn\u001b[0m \u001b[0mself\u001b[0m\u001b[1;33m.\u001b[0m\u001b[0m_constructor\u001b[0m\u001b[1;33m(\u001b[0m\u001b[0mnew_data\u001b[0m\u001b[1;33m)\u001b[0m\u001b[1;33m.\u001b[0m\u001b[0m__finalize__\u001b[0m\u001b[1;33m(\u001b[0m\u001b[0mself\u001b[0m\u001b[1;33m)\u001b[0m\u001b[1;33m\u001b[0m\u001b[1;33m\u001b[0m\u001b[0m\n\u001b[0;32m   5700\u001b[0m \u001b[1;33m\u001b[0m\u001b[0m\n",
      "\u001b[1;32mC:\\ProgramData\\Anaconda3\\lib\\site-packages\\pandas\\core\\internals\\managers.py\u001b[0m in \u001b[0;36mastype\u001b[1;34m(self, dtype, copy, errors)\u001b[0m\n\u001b[0;32m    580\u001b[0m \u001b[1;33m\u001b[0m\u001b[0m\n\u001b[0;32m    581\u001b[0m     \u001b[1;32mdef\u001b[0m \u001b[0mastype\u001b[0m\u001b[1;33m(\u001b[0m\u001b[0mself\u001b[0m\u001b[1;33m,\u001b[0m \u001b[0mdtype\u001b[0m\u001b[1;33m,\u001b[0m \u001b[0mcopy\u001b[0m\u001b[1;33m:\u001b[0m \u001b[0mbool\u001b[0m \u001b[1;33m=\u001b[0m \u001b[1;32mFalse\u001b[0m\u001b[1;33m,\u001b[0m \u001b[0merrors\u001b[0m\u001b[1;33m:\u001b[0m \u001b[0mstr\u001b[0m \u001b[1;33m=\u001b[0m \u001b[1;34m\"raise\"\u001b[0m\u001b[1;33m)\u001b[0m\u001b[1;33m:\u001b[0m\u001b[1;33m\u001b[0m\u001b[1;33m\u001b[0m\u001b[0m\n\u001b[1;32m--> 582\u001b[1;33m         \u001b[1;32mreturn\u001b[0m \u001b[0mself\u001b[0m\u001b[1;33m.\u001b[0m\u001b[0mapply\u001b[0m\u001b[1;33m(\u001b[0m\u001b[1;34m\"astype\"\u001b[0m\u001b[1;33m,\u001b[0m \u001b[0mdtype\u001b[0m\u001b[1;33m=\u001b[0m\u001b[0mdtype\u001b[0m\u001b[1;33m,\u001b[0m \u001b[0mcopy\u001b[0m\u001b[1;33m=\u001b[0m\u001b[0mcopy\u001b[0m\u001b[1;33m,\u001b[0m \u001b[0merrors\u001b[0m\u001b[1;33m=\u001b[0m\u001b[0merrors\u001b[0m\u001b[1;33m)\u001b[0m\u001b[1;33m\u001b[0m\u001b[1;33m\u001b[0m\u001b[0m\n\u001b[0m\u001b[0;32m    583\u001b[0m \u001b[1;33m\u001b[0m\u001b[0m\n\u001b[0;32m    584\u001b[0m     \u001b[1;32mdef\u001b[0m \u001b[0mconvert\u001b[0m\u001b[1;33m(\u001b[0m\u001b[0mself\u001b[0m\u001b[1;33m,\u001b[0m \u001b[1;33m**\u001b[0m\u001b[0mkwargs\u001b[0m\u001b[1;33m)\u001b[0m\u001b[1;33m:\u001b[0m\u001b[1;33m\u001b[0m\u001b[1;33m\u001b[0m\u001b[0m\n",
      "\u001b[1;32mC:\\ProgramData\\Anaconda3\\lib\\site-packages\\pandas\\core\\internals\\managers.py\u001b[0m in \u001b[0;36mapply\u001b[1;34m(self, f, filter, **kwargs)\u001b[0m\n\u001b[0;32m    440\u001b[0m                 \u001b[0mapplied\u001b[0m \u001b[1;33m=\u001b[0m \u001b[0mb\u001b[0m\u001b[1;33m.\u001b[0m\u001b[0mapply\u001b[0m\u001b[1;33m(\u001b[0m\u001b[0mf\u001b[0m\u001b[1;33m,\u001b[0m \u001b[1;33m**\u001b[0m\u001b[0mkwargs\u001b[0m\u001b[1;33m)\u001b[0m\u001b[1;33m\u001b[0m\u001b[1;33m\u001b[0m\u001b[0m\n\u001b[0;32m    441\u001b[0m             \u001b[1;32melse\u001b[0m\u001b[1;33m:\u001b[0m\u001b[1;33m\u001b[0m\u001b[1;33m\u001b[0m\u001b[0m\n\u001b[1;32m--> 442\u001b[1;33m                 \u001b[0mapplied\u001b[0m \u001b[1;33m=\u001b[0m \u001b[0mgetattr\u001b[0m\u001b[1;33m(\u001b[0m\u001b[0mb\u001b[0m\u001b[1;33m,\u001b[0m \u001b[0mf\u001b[0m\u001b[1;33m)\u001b[0m\u001b[1;33m(\u001b[0m\u001b[1;33m**\u001b[0m\u001b[0mkwargs\u001b[0m\u001b[1;33m)\u001b[0m\u001b[1;33m\u001b[0m\u001b[1;33m\u001b[0m\u001b[0m\n\u001b[0m\u001b[0;32m    443\u001b[0m             \u001b[0mresult_blocks\u001b[0m \u001b[1;33m=\u001b[0m \u001b[0m_extend_blocks\u001b[0m\u001b[1;33m(\u001b[0m\u001b[0mapplied\u001b[0m\u001b[1;33m,\u001b[0m \u001b[0mresult_blocks\u001b[0m\u001b[1;33m)\u001b[0m\u001b[1;33m\u001b[0m\u001b[1;33m\u001b[0m\u001b[0m\n\u001b[0;32m    444\u001b[0m \u001b[1;33m\u001b[0m\u001b[0m\n",
      "\u001b[1;32mC:\\ProgramData\\Anaconda3\\lib\\site-packages\\pandas\\core\\internals\\blocks.py\u001b[0m in \u001b[0;36mastype\u001b[1;34m(self, dtype, copy, errors)\u001b[0m\n\u001b[0;32m    623\u001b[0m             \u001b[0mvals1d\u001b[0m \u001b[1;33m=\u001b[0m \u001b[0mvalues\u001b[0m\u001b[1;33m.\u001b[0m\u001b[0mravel\u001b[0m\u001b[1;33m(\u001b[0m\u001b[1;33m)\u001b[0m\u001b[1;33m\u001b[0m\u001b[1;33m\u001b[0m\u001b[0m\n\u001b[0;32m    624\u001b[0m             \u001b[1;32mtry\u001b[0m\u001b[1;33m:\u001b[0m\u001b[1;33m\u001b[0m\u001b[1;33m\u001b[0m\u001b[0m\n\u001b[1;32m--> 625\u001b[1;33m                 \u001b[0mvalues\u001b[0m \u001b[1;33m=\u001b[0m \u001b[0mastype_nansafe\u001b[0m\u001b[1;33m(\u001b[0m\u001b[0mvals1d\u001b[0m\u001b[1;33m,\u001b[0m \u001b[0mdtype\u001b[0m\u001b[1;33m,\u001b[0m \u001b[0mcopy\u001b[0m\u001b[1;33m=\u001b[0m\u001b[1;32mTrue\u001b[0m\u001b[1;33m)\u001b[0m\u001b[1;33m\u001b[0m\u001b[1;33m\u001b[0m\u001b[0m\n\u001b[0m\u001b[0;32m    626\u001b[0m             \u001b[1;32mexcept\u001b[0m \u001b[1;33m(\u001b[0m\u001b[0mValueError\u001b[0m\u001b[1;33m,\u001b[0m \u001b[0mTypeError\u001b[0m\u001b[1;33m)\u001b[0m\u001b[1;33m:\u001b[0m\u001b[1;33m\u001b[0m\u001b[1;33m\u001b[0m\u001b[0m\n\u001b[0;32m    627\u001b[0m                 \u001b[1;31m# e.g. astype_nansafe can fail on object-dtype of strings\u001b[0m\u001b[1;33m\u001b[0m\u001b[1;33m\u001b[0m\u001b[1;33m\u001b[0m\u001b[0m\n",
      "\u001b[1;32mC:\\ProgramData\\Anaconda3\\lib\\site-packages\\pandas\\core\\dtypes\\cast.py\u001b[0m in \u001b[0;36mastype_nansafe\u001b[1;34m(arr, dtype, copy, skipna)\u001b[0m\n\u001b[0;32m    895\u001b[0m     \u001b[1;32mif\u001b[0m \u001b[0mcopy\u001b[0m \u001b[1;32mor\u001b[0m \u001b[0mis_object_dtype\u001b[0m\u001b[1;33m(\u001b[0m\u001b[0marr\u001b[0m\u001b[1;33m)\u001b[0m \u001b[1;32mor\u001b[0m \u001b[0mis_object_dtype\u001b[0m\u001b[1;33m(\u001b[0m\u001b[0mdtype\u001b[0m\u001b[1;33m)\u001b[0m\u001b[1;33m:\u001b[0m\u001b[1;33m\u001b[0m\u001b[1;33m\u001b[0m\u001b[0m\n\u001b[0;32m    896\u001b[0m         \u001b[1;31m# Explicit copy, or required since NumPy can't view from / to object.\u001b[0m\u001b[1;33m\u001b[0m\u001b[1;33m\u001b[0m\u001b[1;33m\u001b[0m\u001b[0m\n\u001b[1;32m--> 897\u001b[1;33m         \u001b[1;32mreturn\u001b[0m \u001b[0marr\u001b[0m\u001b[1;33m.\u001b[0m\u001b[0mastype\u001b[0m\u001b[1;33m(\u001b[0m\u001b[0mdtype\u001b[0m\u001b[1;33m,\u001b[0m \u001b[0mcopy\u001b[0m\u001b[1;33m=\u001b[0m\u001b[1;32mTrue\u001b[0m\u001b[1;33m)\u001b[0m\u001b[1;33m\u001b[0m\u001b[1;33m\u001b[0m\u001b[0m\n\u001b[0m\u001b[0;32m    898\u001b[0m \u001b[1;33m\u001b[0m\u001b[0m\n\u001b[0;32m    899\u001b[0m     \u001b[1;32mreturn\u001b[0m \u001b[0marr\u001b[0m\u001b[1;33m.\u001b[0m\u001b[0mview\u001b[0m\u001b[1;33m(\u001b[0m\u001b[0mdtype\u001b[0m\u001b[1;33m)\u001b[0m\u001b[1;33m\u001b[0m\u001b[1;33m\u001b[0m\u001b[0m\n",
      "\u001b[1;31mValueError\u001b[0m: could not convert string to float: '.'"
     ]
    }
   ],
   "source": [
    "visaraw.AGER=visaraw.AGER.astype(float)"
   ]
  },
  {
   "cell_type": "code",
   "execution_count": null,
   "metadata": {
    "id": "YI0YrshNk_YH",
    "outputId": "a23c8bf4-b03c-479e-9308-d42ab2709dcd"
   },
   "outputs": [],
   "source": [
    "visaraw = visaraw[visaraw.AGER.astype(float)!='.']\n",
    "visaraw.AGER.unique()"
   ]
  },
  {
   "cell_type": "markdown",
   "metadata": {
    "id": "rMXDlBb2k_YM"
   },
   "source": [
    "Sélection des clients agés de 18 à 65 ans"
   ]
  },
  {
   "cell_type": "code",
   "execution_count": null,
   "metadata": {
    "id": "1pvEfl8Ek_YN",
    "outputId": "5ac56f23-7c58-47cc-e261-c593921aa839"
   },
   "outputs": [],
   "source": [
    "visaraw = visaraw[visaraw.AGER>=18]\n",
    "visaraw = visaraw[visaraw.AGER<=65]\n",
    "visaraw.AGER.unique()"
   ]
  },
  {
   "cell_type": "markdown",
   "metadata": {
    "id": "tkacWMVqk_YS"
   },
   "source": [
    "Recodage des données manquantes (.) dans les variables ZOCNB et DMVTP"
   ]
  },
  {
   "cell_type": "code",
   "execution_count": null,
   "metadata": {
    "id": "SgFVnz_vk_YS"
   },
   "outputs": [],
   "source": [
    "visaraw[\"ZOCNB\"]=visaraw[\"ZOCNB\"].replace(\".\",np.nan)\n",
    "visaraw[\"DMVTP\"]=visaraw[\"DMVTP\"].replace(\".\",np.nan)"
   ]
  },
  {
   "cell_type": "markdown",
   "metadata": {
    "id": "ajQ2TUCXk_YX"
   },
   "source": [
    "Correction des types des variables "
   ]
  },
  {
   "cell_type": "code",
   "execution_count": null,
   "metadata": {
    "id": "Fr423ILNk_YX"
   },
   "outputs": [],
   "source": [
    "listeVarFl=['RELAT','IMPNBS','REJETS','OPGNB','MOYRV',\n",
    "'TAVEP','ENDET','GAGET','GAGEC','GAGEM','KVUNB','QSMOY','QCRED',\n",
    "'DMVTP','BOPPN','FACAN','LGAGT','VIENB','VIEMT','UEMNB','UEMMTS','XLGNB',\n",
    " 'XLGMT','YLVNB','YLVMT','NBELTS','MTELTS','NBCATS','MTCATS',\n",
    " 'NBBECS','MTBECS','ZOCNB','NTCAS','NPTAG','ITAVC',\n",
    " 'HAVEF','JNBJD1S','JNBJD2S','JNBJD3S']\n",
    "visaraw[listeVarFl]=visaraw[listeVarFl].astype(float)"
   ]
  },
  {
   "cell_type": "markdown",
   "metadata": {
    "id": "l_bdLyerk_Yc"
   },
   "source": [
    "Un seule variable nombre de jours de débit cumulé"
   ]
  },
  {
   "cell_type": "code",
   "execution_count": null,
   "metadata": {
    "id": "v4c6qXXXk_Yd"
   },
   "outputs": [],
   "source": [
    "visaraw[\"JNBJD\"]=visaraw[\"JNBJD1S\"]+visaraw[\"JNBJD2S\"]+visaraw[\"JNBJD3S\"] "
   ]
  },
  {
   "cell_type": "markdown",
   "metadata": {
    "id": "tmBly_rDk_Yg"
   },
   "source": [
    "Suppression des variables devenues inutiles"
   ]
  },
  {
   "cell_type": "code",
   "execution_count": null,
   "metadata": {
    "id": "H5Sxpe4Nk_Yh"
   },
   "outputs": [],
   "source": [
    "listeVarSup=[\"DEPTS\",\"QUALS\",\"G03G04S\",\"G25G26S\",\"G29G30S\",\"G35G36S\",\n",
    "            \"G37G38S\",\"G45G46S\",\"G47G48S\",\"SEGV2S\",\"PVS\",\"JNBJD1S\",\"JNBJD2S\",\"JNBJD3S\"]\n",
    "visaraw.drop(listeVarSup,inplace=True,axis=1)"
   ]
  },
  {
   "cell_type": "markdown",
   "metadata": {
    "id": "4jNbH0pXk_Ym"
   },
   "source": [
    "Mise à jour de la liste des variables"
   ]
  },
  {
   "cell_type": "code",
   "execution_count": null,
   "metadata": {
    "id": "XXZA2nivk_Yn"
   },
   "outputs": [],
   "source": [
    "listeVar = [x for x in listeVar if x not in listeVarSup]"
   ]
  },
  {
   "cell_type": "markdown",
   "metadata": {
    "id": "Vio6U-Fwk_Ys"
   },
   "source": [
    "### Desciption univariée et bivariée"
   ]
  },
  {
   "cell_type": "code",
   "execution_count": null,
   "metadata": {
    "id": "_vJu6emLk_Ys",
    "outputId": "55e189ec-c7ae-4c30-bffd-0ce9210626b0"
   },
   "outputs": [],
   "source": [
    "# Moyennes\n",
    "visaprem=visaraw\n",
    "visaprem.mean()"
   ]
  },
  {
   "cell_type": "markdown",
   "metadata": {
    "id": "yy1DAt8pk_Yx"
   },
   "source": [
    "## Analyse en composantes principales\n",
    "Cette phase de l'analyse permet de mieux comprendre la structure de corrélation des variables afin de d'appréhender ce que seront les grandes classes de comportement des clients."
   ]
  },
  {
   "cell_type": "markdown",
   "metadata": {
    "id": "1mYqOS-qk_Yx"
   },
   "source": [
    "**Q** L'ACP calculée ci-dessous est-elle réduite ? Pourquoi?"
   ]
  },
  {
   "cell_type": "code",
   "execution_count": null,
   "metadata": {
    "id": "x9igIfmDk_Yy",
    "outputId": "7f49a3ac-27c1-4629-d649-d6d84b7f6874"
   },
   "outputs": [],
   "source": [
    "from sklearn.decomposition import PCA\n",
    "from sklearn.preprocessing import scale\n",
    "# définition de la commande\n",
    "pca = PCA()\n",
    "# Sélection des variables quantitatives\n",
    "dat=visatrans[[\"AGER\",\"RELAT\",\"KVUNB\", \"OPGNB\", \"MOYRV\",\"TAVEP\",\"ENDET\",\"GAGET\",\"GAGEC\",\"GAGEM\",\"QCRED\",\"DMVTP\",\"BOPPN\",\"FACAN\",\"LGAGT\",\"VIEMT\",\"XLGMT\",\"YLVMT\",\"ITAVC\",\"HAVEF\",\"JNBJD\",\"ZOCNB\"]]\n",
    "# réduction\n",
    "data = pd.DataFrame(scale(dat),columns=dat.columns)\n",
    "# composantes principales\n",
    "C = pca.fit(data).transform(data)\n",
    "C"
   ]
  },
  {
   "cell_type": "markdown",
   "metadata": {
    "id": "Q4W8dc0ek_Y2"
   },
   "source": [
    "### Choix de dimension"
   ]
  },
  {
   "cell_type": "code",
   "execution_count": null,
   "metadata": {
    "id": "pwOVeuW9k_Y2",
    "outputId": "d7235112-7bb8-4277-9438-d91374ba1cd0"
   },
   "outputs": [],
   "source": [
    "# Eboulis des valeurs propres\n",
    "plt.figure()\n",
    "plt.plot(pca.explained_variance_ratio_)\n",
    "plt.show()"
   ]
  },
  {
   "cell_type": "markdown",
   "metadata": {
    "id": "PZhiXJOpk_Y7"
   },
   "source": [
    "**Q** Que représente le graphe ci-dessous? Quelle information en tirer?"
   ]
  },
  {
   "cell_type": "code",
   "execution_count": null,
   "metadata": {
    "id": "BSTxxsl-k_Y8",
    "outputId": "73bfb04b-0c9d-44ab-f035-910d6910b74c"
   },
   "outputs": [],
   "source": [
    "# Diagrammes boîte des composantes principales\n",
    "plt.figure()              \n",
    "plt.boxplot(C[:,0:20])\n",
    "plt.show()"
   ]
  },
  {
   "cell_type": "markdown",
   "metadata": {
    "id": "LXhoYXF6k_ZA"
   },
   "source": [
    "### Représentation des individus"
   ]
  },
  {
   "cell_type": "markdown",
   "metadata": {
    "id": "FAYVRViwk_ZB"
   },
   "source": [
    "**Q** Quel est le graphe ci-dessous? Quelle information en retenir?"
   ]
  },
  {
   "cell_type": "code",
   "execution_count": null,
   "metadata": {},
   "outputs": [],
   "source": [
    "C[:,1]"
   ]
  },
  {
   "cell_type": "code",
   "execution_count": null,
   "metadata": {
    "id": "ww_KZcvjk_ZC",
    "outputId": "a816bf59-7c17-4358-c41e-fc0d4f1fd54a"
   },
   "outputs": [],
   "source": [
    "plt.figure(figsize=(10,8))\n",
    "for i, j, nom in zip(C[:,0], C[:,1], visatrans['CARVP']):\n",
    "    color = \"red\" if nom == \"Coui\" else \"blue\"\n",
    "    plt.text(i, j, nom, color=color)\n",
    "plt.axis((-6,7.5,-5,6))  \n",
    "plt.show()"
   ]
  },
  {
   "cell_type": "markdown",
   "metadata": {
    "id": "xSXS0Iwik_ZH"
   },
   "source": [
    "### Variables et cercle des corrélations\n",
    "**Q** Que représent le graphe ci-dessous? Donner en une ligne une interprétation de l'axe 1 puis de l'axe2."
   ]
  },
  {
   "cell_type": "code",
   "execution_count": null,
   "metadata": {
    "id": "xJgF3mzHk_ZI",
    "outputId": "8d920689-891b-4bca-cbe4-381109896a8d"
   },
   "outputs": [],
   "source": [
    "# coordonnées des variables\n",
    "coord1=pca.components_[0]*np.sqrt(pca.explained_variance_[0])\n",
    "coord2=pca.components_[1]*np.sqrt(pca.explained_variance_[1])\n",
    "fig = plt.figure(figsize=(8,8))\n",
    "ax = fig.add_subplot(1, 1, 1)\n",
    "for i, j, nom in zip(coord1,coord2, data.columns):\n",
    "    plt.text(i, j, nom)\n",
    "    plt.arrow(0,0,i,j,color='r')\n",
    "plt.axis((-1.2,1.2,-1.2,1.2))\n",
    "# cercle\n",
    "c=plt.Circle((0,0), radius=1, color='b', fill=False)\n",
    "ax.add_patch(c)\n",
    "plt.show()"
   ]
  },
  {
   "cell_type": "markdown",
   "metadata": {
    "id": "C8KoEre-k_ZM"
   },
   "source": [
    "### Classification des variables\n",
    "**QUESTION** Les classes de variables sont-elles cohérentes avec l'interprétataion des axes?"
   ]
  },
  {
   "cell_type": "code",
   "execution_count": null,
   "metadata": {
    "id": "3rhrBWxFk_ZN",
    "outputId": "a49a9c57-dcf4-47b6-e0f8-e307cfa17a23"
   },
   "outputs": [],
   "source": [
    "# Stratégie utilisée pour aider à l'interprétation du plan principal \n",
    "# lorsque le nombre de variables est important\n",
    "from scipy.cluster.hierarchy import dendrogram, linkage\n",
    "Z = linkage(data.T, 'ward')\n",
    "plt.figure(figsize=(15, 8))\n",
    "plt.title('Hierarchical Clustering Dendrogram')\n",
    "plt.xlabel('Variable')\n",
    "plt.ylabel('Distance')\n",
    "dendrogram(Z,leaf_font_size=8.,labels=data.columns)\n",
    "plt.show()"
   ]
  },
  {
   "cell_type": "markdown",
   "metadata": {
    "id": "fj585Zv1k_ZR"
   },
   "source": [
    "## Segmentation ou *clustering* des clients\n",
    "L'objectif principal, lors de cette première étude des données, est de fournir une typologie ou segmentation des clients. C'est-à-dire de définir des classes les plus homogènes au regard des comportements bancaires. Les algorithmes de classification étudiés sont adaptés à des variables {\\em quantitatives} ou des matrices de distances. L'intégration d'informations qualitatives peut se faire par un recodage préalable (scoring) à l'aide d'une analyse des correspondances multiples. Ce scénatio se propose donc de comparer deux approches: classification à partir des seules variables quantitatives ou classification à partir des scores issues d'une afcm. D'autres approches sont envisageables sur des variables qualitatives qui nécessitent la définition d'une distance ou dissimilarité entre individus adaptée aux variables qualitatives. Mais, nécessitant la construction de la matrice *n x n* des distances des individus deux à deux, elles ne sont pas adaptées aux très grands tableaux.\n",
    "\n",
    "### Sur les seules variables quantitatives"
   ]
  },
  {
   "cell_type": "code",
   "execution_count": null,
   "metadata": {
    "id": "xh8vq2CFk_ZR"
   },
   "outputs": [],
   "source": [
    "# Sélection des variables quantitatives\n",
    "visaprems=visapremvw.select_dtypes(include=[\"int32\",\"float\",\"int64\"])\n",
    "# Centrage et réduction\n",
    "visaprems = scale(visaprems)"
   ]
  },
  {
   "cell_type": "code",
   "execution_count": null,
   "metadata": {
    "id": "I66Q2HVTk_ZV",
    "outputId": "94348ab7-a4a3-4459-9f4c-4f7e1478119b"
   },
   "outputs": [],
   "source": [
    "# Classification d'un grand tableau par k-means puis CAH\n",
    "## k-means avec 100 classes\n",
    "from sklearn.cluster import *\n",
    "T=k_means(visaprems,100)\n",
    "poids=np.zeros((100,))\n",
    "for i in T[1]:\n",
    "    poids[i]=1./np.size(T[1])\n",
    "np.sum(poids)"
   ]
  },
  {
   "cell_type": "code",
   "execution_count": null,
   "metadata": {
    "id": "Bu9z1kpAk_ZZ",
    "outputId": "e81c3a94-e066-447b-d2a2-8a2333ecee8f"
   },
   "outputs": [],
   "source": [
    "## CAH des barycentres des classes\n",
    "## Calcul de la matrices des distances pondérées\n",
    "def weightedL2(a,b,wa,wb):\n",
    "    q = wa*a-wb*b\n",
    "    return np.sqrt((q*q).sum())\n",
    "dist=np.zeros((100,100))\n",
    "for i in range(dist.shape[0]):\n",
    "    for j in range(dist.shape[1]):\n",
    "        dist[i,j]=weightedL2(T[0][i],T[0][j],poids[i],poids[j])\n",
    "from scipy.cluster.hierarchy import *\n",
    "Q= linkage(dist, 'ward')        \n",
    "        "
   ]
  },
  {
   "cell_type": "code",
   "execution_count": null,
   "metadata": {
    "id": "-NXg0g8mk_Zd",
    "outputId": "c77797cd-34c4-4d65-d67b-e67a0485f963"
   },
   "outputs": [],
   "source": [
    "## Dendrogramme des barycentres des classes\n",
    "plt.figure(figsize=(20, 10))\n",
    "plt.title('Hierarchical Clustering Dendrogram')\n",
    "plt.xlabel('sample index')\n",
    "plt.ylabel('distance')\n",
    "dendrogram(Q,leaf_font_size=8.)\n",
    "plt.show()"
   ]
  },
  {
   "cell_type": "markdown",
   "metadata": {
    "id": "fsYnopavk_Zh"
   },
   "source": [
    "**QUESTION** Interpréter le graphique ci dessus"
   ]
  },
  {
   "cell_type": "markdown",
   "metadata": {
    "id": "TFUXQGf_k_Zh"
   },
   "source": [
    "### Choix du nombre de classes"
   ]
  },
  {
   "cell_type": "code",
   "execution_count": null,
   "metadata": {
    "id": "2I3daiXEk_Zi",
    "outputId": "472c9ef9-805c-4157-f0c5-7e61b5fffb94"
   },
   "outputs": [],
   "source": [
    "plt.figure(figsize=(20, 10))\n",
    "plt.plot(maxdists(Q)[::-1][0:10])\n",
    "plt.show()"
   ]
  },
  {
   "cell_type": "code",
   "execution_count": null,
   "metadata": {
    "id": "uWbJRN2kk_Zm",
    "outputId": "ecb47dec-5c8e-44e7-e5ee-02a6dbda38c6"
   },
   "outputs": [],
   "source": [
    "pd.DataFrame(Z[1],columns=[\"Classe\"])"
   ]
  },
  {
   "cell_type": "code",
   "execution_count": null,
   "metadata": {
    "id": "-c47GFWlk_Zp"
   },
   "outputs": [],
   "source": [
    "## k-means avec le nombre choisi de classes \n",
    "Z=k_means(visaprems,5)\n",
    "pca=PCA()\n",
    "C = pca.fit(visaprems).transform(visaprems)"
   ]
  },
  {
   "cell_type": "code",
   "execution_count": null,
   "metadata": {
    "id": "3Ieiwphjk_Zu",
    "outputId": "dabb6490-7321-49bc-fe22-caec7f8c3675"
   },
   "outputs": [],
   "source": [
    "## représentation des classes dans l'ACP\n",
    "plt.figure(figsize=(20, 10))\n",
    "plt.scatter(C[:,0], C[:,1],marker='1',c=Z[1],cmap=plt.cm.Set1)\n",
    "plt.show()"
   ]
  },
  {
   "cell_type": "markdown",
   "metadata": {
    "id": "j7Yx4ALPk_Zx"
   },
   "source": [
    "**QUESTION** Interpréter les profils clients"
   ]
  }
 ],
 "metadata": {
  "colab": {
   "name": "ACP Visa -  Imiter.ipynb",
   "provenance": []
  },
  "kernelspec": {
   "display_name": "Python 3",
   "language": "python",
   "name": "python3"
  },
  "language_info": {
   "codemirror_mode": {
    "name": "ipython",
    "version": 3
   },
   "file_extension": ".py",
   "mimetype": "text/x-python",
   "name": "python",
   "nbconvert_exporter": "python",
   "pygments_lexer": "ipython3",
   "version": "3.7.6"
  }
 },
 "nbformat": 4,
 "nbformat_minor": 1
}
