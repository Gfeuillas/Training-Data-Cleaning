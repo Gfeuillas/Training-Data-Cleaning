{
 "cells": [
  {
   "cell_type": "markdown",
   "metadata": {},
   "source": [
    "# Importation des librairies"
   ]
  },
  {
   "cell_type": "code",
   "execution_count": 1,
   "metadata": {},
   "outputs": [],
   "source": [
    "import pandas as pd\n",
    "import numpy as np\n",
    "import seaborn as sns\n",
    "import matplotlib.pyplot as plt \n",
    "import sklearn\n",
    "import imblearn"
   ]
  },
  {
   "cell_type": "markdown",
   "metadata": {},
   "source": [
    "#  Etude des données"
   ]
  },
  {
   "cell_type": "code",
   "execution_count": 2,
   "metadata": {},
   "outputs": [],
   "source": [
    "#On stock les données du CSV dans un dataframe\n",
    "df=pd.read_csv(\"./balance_scale.csv\")"
   ]
  },
  {
   "cell_type": "code",
   "execution_count": 3,
   "metadata": {},
   "outputs": [
    {
     "data": {
      "text/html": [
       "<div>\n",
       "<style scoped>\n",
       "    .dataframe tbody tr th:only-of-type {\n",
       "        vertical-align: middle;\n",
       "    }\n",
       "\n",
       "    .dataframe tbody tr th {\n",
       "        vertical-align: top;\n",
       "    }\n",
       "\n",
       "    .dataframe thead th {\n",
       "        text-align: right;\n",
       "    }\n",
       "</style>\n",
       "<table border=\"1\" class=\"dataframe\">\n",
       "  <thead>\n",
       "    <tr style=\"text-align: right;\">\n",
       "      <th></th>\n",
       "      <th>leftweight</th>\n",
       "      <th>leftdistance</th>\n",
       "      <th>rightweight</th>\n",
       "      <th>rightdistance</th>\n",
       "      <th>class</th>\n",
       "    </tr>\n",
       "  </thead>\n",
       "  <tbody>\n",
       "    <tr>\n",
       "      <th>0</th>\n",
       "      <td>1</td>\n",
       "      <td>1</td>\n",
       "      <td>1</td>\n",
       "      <td>1</td>\n",
       "      <td>B</td>\n",
       "    </tr>\n",
       "    <tr>\n",
       "      <th>1</th>\n",
       "      <td>1</td>\n",
       "      <td>1</td>\n",
       "      <td>1</td>\n",
       "      <td>2</td>\n",
       "      <td>R</td>\n",
       "    </tr>\n",
       "    <tr>\n",
       "      <th>2</th>\n",
       "      <td>1</td>\n",
       "      <td>1</td>\n",
       "      <td>1</td>\n",
       "      <td>3</td>\n",
       "      <td>R</td>\n",
       "    </tr>\n",
       "    <tr>\n",
       "      <th>3</th>\n",
       "      <td>1</td>\n",
       "      <td>1</td>\n",
       "      <td>1</td>\n",
       "      <td>4</td>\n",
       "      <td>R</td>\n",
       "    </tr>\n",
       "    <tr>\n",
       "      <th>4</th>\n",
       "      <td>1</td>\n",
       "      <td>1</td>\n",
       "      <td>1</td>\n",
       "      <td>5</td>\n",
       "      <td>R</td>\n",
       "    </tr>\n",
       "    <tr>\n",
       "      <th>...</th>\n",
       "      <td>...</td>\n",
       "      <td>...</td>\n",
       "      <td>...</td>\n",
       "      <td>...</td>\n",
       "      <td>...</td>\n",
       "    </tr>\n",
       "    <tr>\n",
       "      <th>620</th>\n",
       "      <td>5</td>\n",
       "      <td>5</td>\n",
       "      <td>5</td>\n",
       "      <td>1</td>\n",
       "      <td>L</td>\n",
       "    </tr>\n",
       "    <tr>\n",
       "      <th>621</th>\n",
       "      <td>5</td>\n",
       "      <td>5</td>\n",
       "      <td>5</td>\n",
       "      <td>2</td>\n",
       "      <td>L</td>\n",
       "    </tr>\n",
       "    <tr>\n",
       "      <th>622</th>\n",
       "      <td>5</td>\n",
       "      <td>5</td>\n",
       "      <td>5</td>\n",
       "      <td>3</td>\n",
       "      <td>L</td>\n",
       "    </tr>\n",
       "    <tr>\n",
       "      <th>623</th>\n",
       "      <td>5</td>\n",
       "      <td>5</td>\n",
       "      <td>5</td>\n",
       "      <td>4</td>\n",
       "      <td>L</td>\n",
       "    </tr>\n",
       "    <tr>\n",
       "      <th>624</th>\n",
       "      <td>5</td>\n",
       "      <td>5</td>\n",
       "      <td>5</td>\n",
       "      <td>5</td>\n",
       "      <td>B</td>\n",
       "    </tr>\n",
       "  </tbody>\n",
       "</table>\n",
       "<p>625 rows × 5 columns</p>\n",
       "</div>"
      ],
      "text/plain": [
       "     leftweight  leftdistance  rightweight  rightdistance class\n",
       "0             1             1            1              1     B\n",
       "1             1             1            1              2     R\n",
       "2             1             1            1              3     R\n",
       "3             1             1            1              4     R\n",
       "4             1             1            1              5     R\n",
       "..          ...           ...          ...            ...   ...\n",
       "620           5             5            5              1     L\n",
       "621           5             5            5              2     L\n",
       "622           5             5            5              3     L\n",
       "623           5             5            5              4     L\n",
       "624           5             5            5              5     B\n",
       "\n",
       "[625 rows x 5 columns]"
      ]
     },
     "execution_count": 3,
     "metadata": {},
     "output_type": "execute_result"
    }
   ],
   "source": [
    "#On regarde notre dataframe\n",
    "df"
   ]
  },
  {
   "cell_type": "markdown",
   "metadata": {},
   "source": [
    "Ce data set représente les informations d'une balance et son équilibrage.<br/><br/>\n",
    "Il y a 4 features:\n",
    "<ul>\n",
    "    <li>Leftweight: Le poids sur le côté gauche de la balance</li>\n",
    "    <li>Rightweight: Le poids sur le côté droit de la balance</li>\n",
    "    <li>Leftdistance: La distance du positionnement du poids sur la partie gauche</li>\n",
    "    <li>Rightdistance: La distance du positionnement du poids sur la partie droite</li></ul>\n",
    "<br/>\n",
    "La target représente de quel côté penche la balance et comporte 3 classes: <br/>\n",
    "    <ul>\n",
    "        <li>R: La balance penche à Droite</li>\n",
    "        <li>L: La balance penche à Gauche</li>\n",
    "        <li>B: La balance est équilibrée</li></ul>"
   ]
  },
  {
   "cell_type": "code",
   "execution_count": 97,
   "metadata": {},
   "outputs": [
    {
     "name": "stdout",
     "output_type": "stream",
     "text": [
      "<class 'pandas.core.frame.DataFrame'>\n",
      "RangeIndex: 625 entries, 0 to 624\n",
      "Data columns (total 5 columns):\n",
      " #   Column         Non-Null Count  Dtype \n",
      "---  ------         --------------  ----- \n",
      " 0   leftweight     625 non-null    int64 \n",
      " 1   leftdistance   625 non-null    int64 \n",
      " 2   rightweight    625 non-null    int64 \n",
      " 3   rightdistance  625 non-null    int64 \n",
      " 4   class          625 non-null    object\n",
      "dtypes: int64(4), object(1)\n",
      "memory usage: 24.5+ KB\n"
     ]
    }
   ],
   "source": [
    "df.info() #On vérifie notre DataFrame pour voir si il est propre."
   ]
  },
  {
   "cell_type": "code",
   "execution_count": 140,
   "metadata": {},
   "outputs": [
    {
     "data": {
      "text/plain": [
       "<matplotlib.axes._subplots.AxesSubplot at 0x1c7e5f0d3a0>"
      ]
     },
     "execution_count": 140,
     "metadata": {},
     "output_type": "execute_result"
    },
    {
     "data": {
      "image/png": "[encoded data removed]",
      "text/plain": [
       "<Figure size 864x432 with 2 Axes>"
      ]
     },
     "metadata": {
      "needs_background": "light"
     },
     "output_type": "display_data"
    }
   ],
   "source": [
    "plt.figure(figsize=(12,6))\n",
    "plt.suptitle(\"Positionnement des classe par rapport aux variable pairée\")\n",
    "plt.subplot(1,2,1)\n",
    "sns.scatterplot(df.iloc[:,0],df.iloc[:,2], hue=df['class'])\n",
    "\n",
    "plt.subplot(1,2,2)\n",
    "sns.scatterplot(df.iloc[:,1],df.iloc[:,3], hue=df['class'])"
   ]
  },
  {
   "cell_type": "markdown",
   "metadata": {},
   "source": [
    "<b> Le résultat est logique avec notre étude. </b> "
   ]
  },
  {
   "cell_type": "markdown",
   "metadata": {},
   "source": [
    "<b> Etudions la répartition des classes dans notre dataset </b>"
   ]
  },
  {
   "cell_type": "code",
   "execution_count": 74,
   "metadata": {},
   "outputs": [
    {
     "data": {
      "text/plain": [
       "<matplotlib.axes._subplots.AxesSubplot at 0x1c7e307cac0>"
      ]
     },
     "execution_count": 74,
     "metadata": {},
     "output_type": "execute_result"
    },
    {
     "data": {
      "image/png": "[encoded data removed]",
      "text/plain": [
       "<Figure size 432x288 with 1 Axes>"
      ]
     },
     "metadata": {
      "needs_background": "light"
     },
     "output_type": "display_data"
    }
   ],
   "source": [
    "sns.countplot(df['class'])"
   ]
  },
  {
   "cell_type": "markdown",
   "metadata": {},
   "source": [
    "<b> On remarque que la catégorie B est sous représenté il faudra peut-être devrons nous modifié celà si ça implique une baisse de qualité du modèle.</b>"
   ]
  },
  {
   "cell_type": "markdown",
   "metadata": {},
   "source": [
    "# Logistic Regression without changing anything."
   ]
  },
  {
   "cell_type": "markdown",
   "metadata": {},
   "source": [
    "<b>On commence simplement avec un modèle de classification simple pour voir si ce déséquilibre impact nos modèles.</b>"
   ]
  },
  {
   "cell_type": "code",
   "execution_count": 141,
   "metadata": {},
   "outputs": [],
   "source": [
    "#On importe notre algo de split et notre model Logistic Regression\n",
    "from sklearn.model_selection import train_test_split\n",
    "from sklearn.linear_model import LogisticRegression"
   ]
  },
  {
   "cell_type": "code",
   "execution_count": 148,
   "metadata": {},
   "outputs": [],
   "source": [
    "#On stock nos données de split dans 4 variable pour les utilisé plus tard.\n",
    "data_Tr, data_Te, target_Tr, target_Te = train_test_split(df.iloc[:,0:4], df[\"class\"]\n",
    "                                 , random_state=16\n",
    "                                 , train_size=0.75)"
   ]
  },
  {
   "cell_type": "code",
   "execution_count": 149,
   "metadata": {},
   "outputs": [
    {
     "data": {
      "text/html": [
       "<div>\n",
       "<style scoped>\n",
       "    .dataframe tbody tr th:only-of-type {\n",
       "        vertical-align: middle;\n",
       "    }\n",
       "\n",
       "    .dataframe tbody tr th {\n",
       "        vertical-align: top;\n",
       "    }\n",
       "\n",
       "    .dataframe thead th {\n",
       "        text-align: right;\n",
       "    }\n",
       "</style>\n",
       "<table border=\"1\" class=\"dataframe\">\n",
       "  <thead>\n",
       "    <tr style=\"text-align: right;\">\n",
       "      <th></th>\n",
       "      <th>leftweight</th>\n",
       "      <th>leftdistance</th>\n",
       "      <th>rightweight</th>\n",
       "      <th>rightdistance</th>\n",
       "    </tr>\n",
       "  </thead>\n",
       "  <tbody>\n",
       "    <tr>\n",
       "      <th>340</th>\n",
       "      <td>3</td>\n",
       "      <td>4</td>\n",
       "      <td>4</td>\n",
       "      <td>1</td>\n",
       "    </tr>\n",
       "    <tr>\n",
       "      <th>50</th>\n",
       "      <td>1</td>\n",
       "      <td>3</td>\n",
       "      <td>1</td>\n",
       "      <td>1</td>\n",
       "    </tr>\n",
       "    <tr>\n",
       "      <th>328</th>\n",
       "      <td>3</td>\n",
       "      <td>4</td>\n",
       "      <td>1</td>\n",
       "      <td>4</td>\n",
       "    </tr>\n",
       "    <tr>\n",
       "      <th>298</th>\n",
       "      <td>3</td>\n",
       "      <td>2</td>\n",
       "      <td>5</td>\n",
       "      <td>4</td>\n",
       "    </tr>\n",
       "    <tr>\n",
       "      <th>375</th>\n",
       "      <td>4</td>\n",
       "      <td>1</td>\n",
       "      <td>1</td>\n",
       "      <td>1</td>\n",
       "    </tr>\n",
       "    <tr>\n",
       "      <th>...</th>\n",
       "      <td>...</td>\n",
       "      <td>...</td>\n",
       "      <td>...</td>\n",
       "      <td>...</td>\n",
       "    </tr>\n",
       "    <tr>\n",
       "      <th>452</th>\n",
       "      <td>4</td>\n",
       "      <td>4</td>\n",
       "      <td>1</td>\n",
       "      <td>3</td>\n",
       "    </tr>\n",
       "    <tr>\n",
       "      <th>321</th>\n",
       "      <td>3</td>\n",
       "      <td>3</td>\n",
       "      <td>5</td>\n",
       "      <td>2</td>\n",
       "    </tr>\n",
       "    <tr>\n",
       "      <th>581</th>\n",
       "      <td>5</td>\n",
       "      <td>4</td>\n",
       "      <td>2</td>\n",
       "      <td>2</td>\n",
       "    </tr>\n",
       "    <tr>\n",
       "      <th>121</th>\n",
       "      <td>1</td>\n",
       "      <td>5</td>\n",
       "      <td>5</td>\n",
       "      <td>2</td>\n",
       "    </tr>\n",
       "    <tr>\n",
       "      <th>238</th>\n",
       "      <td>2</td>\n",
       "      <td>5</td>\n",
       "      <td>3</td>\n",
       "      <td>4</td>\n",
       "    </tr>\n",
       "  </tbody>\n",
       "</table>\n",
       "<p>468 rows × 4 columns</p>\n",
       "</div>"
      ],
      "text/plain": [
       "     leftweight  leftdistance  rightweight  rightdistance\n",
       "340           3             4            4              1\n",
       "50            1             3            1              1\n",
       "328           3             4            1              4\n",
       "298           3             2            5              4\n",
       "375           4             1            1              1\n",
       "..          ...           ...          ...            ...\n",
       "452           4             4            1              3\n",
       "321           3             3            5              2\n",
       "581           5             4            2              2\n",
       "121           1             5            5              2\n",
       "238           2             5            3              4\n",
       "\n",
       "[468 rows x 4 columns]"
      ]
     },
     "execution_count": 149,
     "metadata": {},
     "output_type": "execute_result"
    }
   ],
   "source": [
    "data_Tr"
   ]
  },
  {
   "cell_type": "code",
   "execution_count": 169,
   "metadata": {},
   "outputs": [
    {
     "data": {
      "text/plain": [
       "LogisticRegression(random_state=16)"
      ]
     },
     "execution_count": 169,
     "metadata": {},
     "output_type": "execute_result"
    }
   ],
   "source": [
    "lr=LogisticRegression(random_state=16)\n",
    "lr.fit(data_Tr,target_Tr)"
   ]
  },
  {
   "cell_type": "code",
   "execution_count": 170,
   "metadata": {},
   "outputs": [],
   "source": [
    "result=lr.predict(data_Te)"
   ]
  },
  {
   "cell_type": "code",
   "execution_count": 171,
   "metadata": {},
   "outputs": [],
   "source": [
    "from sklearn.metrics import accuracy_score\n",
    "from sklearn.metrics import confusion_matrix\n",
    "from sklearn.metrics import recall_score\n",
    "from sklearn.metrics import precision_score\n",
    "from sklearn.metrics import f1_score"
   ]
  },
  {
   "cell_type": "code",
   "execution_count": 172,
   "metadata": {},
   "outputs": [
    {
     "name": "stdout",
     "output_type": "stream",
     "text": [
      "R = [0.25       0.82758621 0.93939394]\n",
      "A = 0.8598726114649682\n",
      "P = [0.1        0.93506494 0.88571429]\n",
      "F1 = [0.14285714 0.87804878 0.91176471]\n"
     ]
    }
   ],
   "source": [
    "accuracy=accuracy_score(result, target_Te)\n",
    "recall= recall_score(result, target_Te, average=None)\n",
    "precision= precision_score(result, target_Te, average=None)\n",
    "F1= f1_score(result, target_Te, average=None)\n",
    "#100 % avec 80 / 20 j'ai testé 50 / 50 pour tester j'obtiens 0.93\n",
    "\n",
    "print(\"R =\", recall) # précision de prédiction des valeur Positive correctement prédit\n",
    "#par rapport à l'ensemble des vrais valeurs\n",
    "print(\"A =\", accuracy) # Précision sur l'ensemble des bon résultat (True positive and True neg) par rapport\n",
    "#A l'ensmble des valeurs.\n",
    "print(\"P =\", precision)# Précision de prédiction des valeurs Positive par rapport à tout les donnée prédite \n",
    "#postif. \n",
    "print('F1 =', F1) #Valeur qui fait la balance entre recall et precision pour avoir une valeur qui maximise les \n",
    "#deux valeurs"
   ]
  },
  {
   "cell_type": "code",
   "execution_count": 173,
   "metadata": {},
   "outputs": [
    {
     "data": {
      "text/plain": [
       "<matplotlib.axes._subplots.AxesSubplot at 0x1c7e6399dc0>"
      ]
     },
     "execution_count": 173,
     "metadata": {},
     "output_type": "execute_result"
    },
    {
     "data": {
      "image/png": "[encoded data removed]",
      "text/plain": [
       "<Figure size 432x288 with 2 Axes>"
      ]
     },
     "metadata": {
      "needs_background": "light"
     },
     "output_type": "display_data"
    }
   ],
   "source": [
    "conf= confusion_matrix(target_Te, result)\n",
    "sns.heatmap(conf, annot=True, xticklabels= df[\"class\"].unique(),yticklabels= df[\"class\"].unique())"
   ]
  },
  {
   "cell_type": "markdown",
   "metadata": {},
   "source": [
    "<b>Si on ne regarde que l'accuracy_score on pourrait pensé que notre modèle est efficace cependant si on regarde les autres indicateurs on remarque que le Recall de la catégorie B est vraiment très bas ce qui indique un problème. </b><br/><br/>\n",
    "<b>La matrice de confusion nous confirme ce constat le modèle compte tenu de la faible représentation de la catégorie B le modèle l'ignore presque dans ces pronostiques </b>\n",
    "<br/><br/>\n",
    "<b>Par conséquent nous allons essayer plusieurs méthodes pour équilibré notre dataset et fit à nouveau notre modèle</b>"
   ]
  },
  {
   "cell_type": "markdown",
   "metadata": {},
   "source": [
    "# Logistique Regression avec du ressampling"
   ]
  },
  {
   "cell_type": "markdown",
   "metadata": {},
   "source": [
    "## Resampling With smote."
   ]
  },
  {
   "cell_type": "markdown",
   "metadata": {},
   "source": [
    "<b> Notre jeu de donnée étant petit le réduire encore ne semble pas pertinent essayons donc de resample avec la fonction smote !</b>"
   ]
  },
  {
   "cell_type": "code",
   "execution_count": 111,
   "metadata": {},
   "outputs": [],
   "source": [
    "from imblearn.over_sampling import SMOTE"
   ]
  },
  {
   "cell_type": "code",
   "execution_count": 174,
   "metadata": {},
   "outputs": [
    {
     "name": "stderr",
     "output_type": "stream",
     "text": [
      "C:\\ProgramData\\Anaconda3\\lib\\site-packages\\imblearn\\utils\\_validation.py:635: FutureWarning: Pass sampling_strategy=minority as keyword args. From version 0.9 passing these as positional arguments will result in an error\n",
      "  warnings.warn(\"Pass {} as keyword args. From version 0.9 \"\n"
     ]
    }
   ],
   "source": [
    "#On utilise le smote qui va créer de nouvelle donnée avec un système de plus proche voisin\n",
    "# Deux points de la même classe proche : O----O\n",
    "# On va créer un nouveau point imaginaire entre ces deux points\n",
    "# Création d'un nouveau point (x) entre nos deux précédents points: O--x--O\n",
    "#Et ainsi de suite jusqu'à équilibrage\n",
    "smote= SMOTE(\"minority\")# Minority est un paramètre qui permet de n'augmenter que la classe minoritaire. \n",
    "\n",
    "smoted_df, y = smote.fit_sample(df.iloc[:,:4],df['class'])"
   ]
  },
  {
   "cell_type": "code",
   "execution_count": 175,
   "metadata": {},
   "outputs": [],
   "source": [
    "#On stock notre target dans le df\n",
    "smoted_df['target']=y"
   ]
  },
  {
   "cell_type": "code",
   "execution_count": 176,
   "metadata": {},
   "outputs": [
    {
     "data": {
      "text/plain": [
       "<matplotlib.axes._subplots.AxesSubplot at 0x1c7e740b760>"
      ]
     },
     "execution_count": 176,
     "metadata": {},
     "output_type": "execute_result"
    },
    {
     "data": {
      "image/png": "[encoded data removed]",
      "text/plain": [
       "<Figure size 432x288 with 1 Axes>"
      ]
     },
     "metadata": {
      "needs_background": "light"
     },
     "output_type": "display_data"
    }
   ],
   "source": [
    "sns.countplot(smoted_df['target'])"
   ]
  },
  {
   "cell_type": "markdown",
   "metadata": {},
   "source": [
    "<b> Nos données ont maintenant étaient équilibré recommençons notre modèle. </b>"
   ]
  },
  {
   "cell_type": "code",
   "execution_count": 206,
   "metadata": {},
   "outputs": [],
   "source": [
    "data_Trs, data_Tes, target_Trs, target_Tes = train_test_split(smoted_df.iloc[:,0:4], smoted_df[\"target\"]\n",
    "                                 , random_state=16\n",
    "                                 , train_size=0.75)"
   ]
  },
  {
   "cell_type": "code",
   "execution_count": 207,
   "metadata": {},
   "outputs": [],
   "source": [
    "lr.fit(data_Trs,target_Trs)\n",
    "results=lr.predict(data_Tes)"
   ]
  },
  {
   "cell_type": "code",
   "execution_count": 208,
   "metadata": {},
   "outputs": [
    {
     "name": "stdout",
     "output_type": "stream",
     "text": [
      "R = [0.86666667 0.93421053 0.87692308]\n",
      "A = 0.8935185185185185\n",
      "P = [0.84415584 0.93421053 0.9047619 ]\n",
      "F1 = [0.85526316 0.93421053 0.890625  ]\n"
     ]
    }
   ],
   "source": [
    "accuracys=accuracy_score(results, target_Tes)\n",
    "recalls= recall_score(results, target_Tes, average=None)\n",
    "precisions= precision_score(results, target_Tes, average=None)\n",
    "F1s= f1_score(results, target_Tes, average=None)\n",
    "#100 % avec 80 / 20 j'ai testé 50 / 50 pour tester j'obtiens 0.93\n",
    "\n",
    "print(\"R =\", recall) # précision de prédiction des valeur Positive correctement prédit\n",
    "#par rapport à l'ensemble des vrais valeurs\n",
    "print(\"A =\", accuracy) # Précision sur l'ensemble des bon résultat (True positive and True neg) par rapport\n",
    "#A l'ensmble des valeurs.\n",
    "print(\"P =\", precision)# Précision de prédiction des valeurs Positive par rapport à tout les donnée prédite \n",
    "#postif. \n",
    "print('F1 =', F1) #Valeur qui fait la balance entre recall et precision pour avoir une valeur qui maximise les \n",
    "#deux valeurs"
   ]
  },
  {
   "cell_type": "code",
   "execution_count": null,
   "metadata": {},
   "outputs": [],
   "source": []
  },
  {
   "cell_type": "code",
   "execution_count": 209,
   "metadata": {},
   "outputs": [
    {
     "data": {
      "text/plain": [
       "<matplotlib.axes._subplots.AxesSubplot at 0x1c7e5612e20>"
      ]
     },
     "execution_count": 209,
     "metadata": {},
     "output_type": "execute_result"
    },
    {
     "data": {
      "image/png": "[encoded data removed]",
      "text/plain": [
       "<Figure size 432x288 with 2 Axes>"
      ]
     },
     "metadata": {
      "needs_background": "light"
     },
     "output_type": "display_data"
    }
   ],
   "source": [
    "confs= confusion_matrix(target_Tes, results)\n",
    "sns.heatmap(confs, annot=True, xticklabels= df[\"class\"].unique(),yticklabels= df[\"class\"].unique())"
   ]
  },
  {
   "cell_type": "markdown",
   "metadata": {},
   "source": [
    "<b> Notre accuracy a augmenter et surtout le score de Recall et de précision est franchement à la hausse !</b> "
   ]
  },
  {
   "cell_type": "markdown",
   "metadata": {},
   "source": [
    "## Ressampling with Under_sampling"
   ]
  },
  {
   "cell_type": "markdown",
   "metadata": {},
   "source": [
    "<b> Dans le doute tentons le ressampling avec une méthode de réduction</b>"
   ]
  },
  {
   "cell_type": "code",
   "execution_count": 210,
   "metadata": {},
   "outputs": [],
   "source": [
    "from imblearn.under_sampling import RandomUnderSampler"
   ]
  },
  {
   "cell_type": "code",
   "execution_count": 211,
   "metadata": {},
   "outputs": [],
   "source": [
    "#On utilise un algorithme RandomUnderSampler qui va réduire les samples des groupes majoritaires de manière aléatoire\n",
    "#Il existe d'autre méthode comme le Tomek Link et le centroide. \n",
    "\n",
    "rus = RandomUnderSampler()\n",
    "X_reduce, y_rus = rus.fit_sample(df.iloc[:,:4],df['class'])\n",
    "X_reduce['target']=y_rus"
   ]
  },
  {
   "cell_type": "code",
   "execution_count": 212,
   "metadata": {},
   "outputs": [
    {
     "data": {
      "text/plain": [
       "<matplotlib.axes._subplots.AxesSubplot at 0x1c7e58c3970>"
      ]
     },
     "execution_count": 212,
     "metadata": {},
     "output_type": "execute_result"
    },
    {
     "data": {
      "image/png": "[encoded data removed]",
      "text/plain": [
       "<Figure size 432x288 with 1 Axes>"
      ]
     },
     "metadata": {
      "needs_background": "light"
     },
     "output_type": "display_data"
    }
   ],
   "source": [
    "sns.countplot(X_reduce['target'])"
   ]
  },
  {
   "cell_type": "code",
   "execution_count": 213,
   "metadata": {},
   "outputs": [],
   "source": [
    "data_Tru, data_Teu, target_Tru, target_Teu = train_test_split(X_reduce.iloc[:,0:4], X_reduce[\"target\"]\n",
    "                                 , random_state=16\n",
    "                                 , train_size=0.75)"
   ]
  },
  {
   "cell_type": "code",
   "execution_count": 214,
   "metadata": {},
   "outputs": [],
   "source": [
    "lr.fit(data_Tru,target_Tru)\n",
    "resultu=lr.predict(data_Teu)"
   ]
  },
  {
   "cell_type": "code",
   "execution_count": 215,
   "metadata": {},
   "outputs": [
    {
     "name": "stdout",
     "output_type": "stream",
     "text": [
      "R = [0.86666667 0.93421053 0.87692308]\n",
      "A = 0.8935185185185185\n",
      "P = [0.84415584 0.93421053 0.9047619 ]\n",
      "F1 = [0.85526316 0.93421053 0.890625  ]\n"
     ]
    }
   ],
   "source": [
    "accuracyu=accuracy_score(resultu, target_Teu)\n",
    "recallu= recall_score(resultu, target_Teu, average=None)\n",
    "precisionu= precision_score(resultu, target_Teu, average=None)\n",
    "F1u= f1_score(resultu, target_Teu, average=None)\n",
    "#100 % avec 80 / 20 j'ai testé 50 / 50 pour tester j'obtiens 0.93\n",
    "\n",
    "print(\"R =\", recall) # précision de prédiction des valeur Positive correctement prédit\n",
    "#par rapport à l'ensemble des vrais valeurs\n",
    "print(\"A =\", accuracy) # Précision sur l'ensemble des bon résultat (True positive and True neg) par rapport\n",
    "#A l'ensmble des valeurs.\n",
    "print(\"P =\", precision)# Précision de prédiction des valeurs Positive par rapport à tout les donnée prédite \n",
    "#postif. \n",
    "print('F1 =', F1) #Valeur qui fait la balance entre recall et precision pour avoir une valeur qui maximise les \n",
    "#deux valeurs"
   ]
  },
  {
   "cell_type": "code",
   "execution_count": 216,
   "metadata": {},
   "outputs": [
    {
     "data": {
      "text/plain": [
       "<matplotlib.axes._subplots.AxesSubplot at 0x1c7e59136d0>"
      ]
     },
     "execution_count": 216,
     "metadata": {},
     "output_type": "execute_result"
    },
    {
     "data": {
      "image/png": "[encoded data removed]",
      "text/plain": [
       "<Figure size 432x288 with 2 Axes>"
      ]
     },
     "metadata": {
      "needs_background": "light"
     },
     "output_type": "display_data"
    }
   ],
   "source": [
    "conf= confusion_matrix(target_Teu, resultu)\n",
    "sns.heatmap(conf, annot=True, xticklabels= df[\"class\"].unique(),yticklabels= df[\"class\"].unique())"
   ]
  },
  {
   "cell_type": "markdown",
   "metadata": {},
   "source": [
    "<b>On obtiens un resultat similaire voir meilleurs qu'avec le SMOTE cependant avec aussi peu de donnée le risque d'overtraining est réel...</b>"
   ]
  },
  {
   "cell_type": "markdown",
   "metadata": {},
   "source": [
    "## Ressample Mixte !"
   ]
  },
  {
   "cell_type": "code",
   "execution_count": 217,
   "metadata": {},
   "outputs": [
    {
     "name": "stderr",
     "output_type": "stream",
     "text": [
      "C:\\ProgramData\\Anaconda3\\lib\\site-packages\\imblearn\\utils\\_validation.py:635: FutureWarning: Pass sampling_strategy=auto as keyword args. From version 0.9 passing these as positional arguments will result in an error\n",
      "  warnings.warn(\"Pass {} as keyword args. From version 0.9 \"\n"
     ]
    }
   ],
   "source": [
    "from imblearn.combine import SMOTETomek\n",
    "\n",
    "smt = SMOTETomek('auto')\n",
    "X_smt, y_smt = smt.fit_sample(df.iloc[:,:4],df['class'])\n",
    "\n",
    "X_smt['target']=y_smt"
   ]
  },
  {
   "cell_type": "code",
   "execution_count": 218,
   "metadata": {},
   "outputs": [
    {
     "data": {
      "text/plain": [
       "<matplotlib.axes._subplots.AxesSubplot at 0x1c7e5999580>"
      ]
     },
     "execution_count": 218,
     "metadata": {},
     "output_type": "execute_result"
    },
    {
     "data": {
      "image/png": "[encoded data removed]",
      "text/plain": [
       "<Figure size 432x288 with 1 Axes>"
      ]
     },
     "metadata": {
      "needs_background": "light"
     },
     "output_type": "display_data"
    }
   ],
   "source": [
    "sns.countplot(X_smt['target'])"
   ]
  },
  {
   "cell_type": "code",
   "execution_count": 219,
   "metadata": {},
   "outputs": [],
   "source": [
    "data_Trmix, data_Temix, target_Trmix, target_Temix = train_test_split(X_smt.iloc[:,0:4], X_smt[\"target\"]\n",
    "                                 , random_state=16\n",
    "                                 , train_size=0.75)"
   ]
  },
  {
   "cell_type": "code",
   "execution_count": 220,
   "metadata": {},
   "outputs": [],
   "source": [
    "lr.fit(data_Trmix,target_Trmix)\n",
    "resultmix=lr.predict(data_Temix)"
   ]
  },
  {
   "cell_type": "code",
   "execution_count": 221,
   "metadata": {},
   "outputs": [
    {
     "name": "stdout",
     "output_type": "stream",
     "text": [
      "R = [0.86666667 0.93421053 0.87692308]\n",
      "A = 0.8935185185185185\n",
      "P = [0.84415584 0.93421053 0.9047619 ]\n",
      "F1 = [0.85526316 0.93421053 0.890625  ]\n"
     ]
    }
   ],
   "source": [
    "accuracymix=accuracy_score(resultmix, target_Temix)\n",
    "recallmix= recall_score(resultmix, target_Temix, average=None)\n",
    "precisionmix= precision_score(resultmix, target_Temix, average=None)\n",
    "F1mix= f1_score(resultmix, target_Temix, average=None)\n",
    "#100 % avec 80 / 20 j'ai testé 50 / 50 pour tester j'obtiens 0.93\n",
    "\n",
    "print(\"R =\", recall) # précision de prédiction des valeur Positive correctement prédit\n",
    "#par rapport à l'ensemble des vrais valeurs\n",
    "print(\"A =\", accuracy) # Précision sur l'ensemble des bon résultat (True positive and True neg) par rapport\n",
    "#A l'ensmble des valeurs.\n",
    "print(\"P =\", precision)# Précision de prédiction des valeurs Positive par rapport à tout les donnée prédite \n",
    "#postif. \n",
    "print('F1 =', F1) #Valeur qui fait la balance entre recall et precision pour avoir une valeur qui maximise les \n",
    "#deux valeurs"
   ]
  },
  {
   "cell_type": "code",
   "execution_count": 222,
   "metadata": {},
   "outputs": [
    {
     "data": {
      "text/plain": [
       "<matplotlib.axes._subplots.AxesSubplot at 0x1c7e59f7730>"
      ]
     },
     "execution_count": 222,
     "metadata": {},
     "output_type": "execute_result"
    },
    {
     "data": {
      "image/png": "[encoded data removed]",
      "text/plain": [
       "<Figure size 432x288 with 2 Axes>"
      ]
     },
     "metadata": {
      "needs_background": "light"
     },
     "output_type": "display_data"
    }
   ],
   "source": [
    "conf= confusion_matrix(target_Temix, resultmix)\n",
    "sns.heatmap(conf, annot=True, xticklabels= df[\"class\"].unique(),yticklabels= df[\"class\"].unique())"
   ]
  },
  {
   "cell_type": "markdown",
   "metadata": {},
   "source": [
    "<b> C'est pas franchement concluant </b>"
   ]
  },
  {
   "cell_type": "markdown",
   "metadata": {},
   "source": [
    "<b>Conclusion: On voit clairement l'avantage de ressample nos données dans le cas d'un dataframe déséquilibré</b> "
   ]
  },
  {
   "cell_type": "markdown",
   "metadata": {},
   "source": [
    "#  Etude Select K Best "
   ]
  },
  {
   "cell_type": "markdown",
   "metadata": {},
   "source": [
    "<b> Select K Best est une fonction qui permet de visualiser quels features sont les meilleurs. Etudions donc comment cette fonction marche.</b>"
   ]
  },
  {
   "cell_type": "code",
   "execution_count": 229,
   "metadata": {},
   "outputs": [],
   "source": [
    "from sklearn.feature_selection import SelectKBest"
   ]
  },
  {
   "cell_type": "code",
   "execution_count": 244,
   "metadata": {},
   "outputs": [],
   "source": [
    "skb= SelectKBest(k=2)\n",
    "dfskb= skb.fit_transform(df.iloc[:,:4],df['class'])"
   ]
  },
  {
   "cell_type": "markdown",
   "metadata": {},
   "source": [
    "<b> Le Select K Best permet par le biais d'un score de faire une décision sur les features les plus importante dans le cas d'une classification ou d'une regression.<br/>\n",
    "\n",
    "Il prend en paramètre deux grands types:\n",
    "    <ul>\n",
    "        <li> Le k est un indicateur qui permet de décidé du nombre de feature que l'on souhaite gardé </li>\n",
    "        <li> Le score_func sur lequel on va spécifié avec quel métrics on va évalué nos features</li></ul>\n",
    "De base le score_func utilise un anova pour évaluer mais on peut changer celà. </b>"
   ]
  },
  {
   "cell_type": "code",
   "execution_count": 250,
   "metadata": {},
   "outputs": [
    {
     "data": {
      "text/plain": [
       "array([[1, 1],\n",
       "       [1, 2],\n",
       "       [1, 3],\n",
       "       [1, 4],\n",
       "       [1, 5],\n",
       "       [2, 1],\n",
       "       [2, 2],\n",
       "       [2, 3],\n",
       "       [2, 4],\n",
       "       [2, 5]], dtype=int64)"
      ]
     },
     "execution_count": 250,
     "metadata": {},
     "output_type": "execute_result"
    }
   ],
   "source": [
    "dfskb[:10]"
   ]
  },
  {
   "cell_type": "code",
   "execution_count": 249,
   "metadata": {},
   "outputs": [
    {
     "data": {
      "text/html": [
       "<div>\n",
       "<style scoped>\n",
       "    .dataframe tbody tr th:only-of-type {\n",
       "        vertical-align: middle;\n",
       "    }\n",
       "\n",
       "    .dataframe tbody tr th {\n",
       "        vertical-align: top;\n",
       "    }\n",
       "\n",
       "    .dataframe thead th {\n",
       "        text-align: right;\n",
       "    }\n",
       "</style>\n",
       "<table border=\"1\" class=\"dataframe\">\n",
       "  <thead>\n",
       "    <tr style=\"text-align: right;\">\n",
       "      <th></th>\n",
       "      <th>leftweight</th>\n",
       "      <th>leftdistance</th>\n",
       "      <th>rightweight</th>\n",
       "      <th>rightdistance</th>\n",
       "      <th>class</th>\n",
       "    </tr>\n",
       "  </thead>\n",
       "  <tbody>\n",
       "    <tr>\n",
       "      <th>0</th>\n",
       "      <td>1</td>\n",
       "      <td>1</td>\n",
       "      <td>1</td>\n",
       "      <td>1</td>\n",
       "      <td>B</td>\n",
       "    </tr>\n",
       "    <tr>\n",
       "      <th>1</th>\n",
       "      <td>1</td>\n",
       "      <td>1</td>\n",
       "      <td>1</td>\n",
       "      <td>2</td>\n",
       "      <td>R</td>\n",
       "    </tr>\n",
       "    <tr>\n",
       "      <th>2</th>\n",
       "      <td>1</td>\n",
       "      <td>1</td>\n",
       "      <td>1</td>\n",
       "      <td>3</td>\n",
       "      <td>R</td>\n",
       "    </tr>\n",
       "    <tr>\n",
       "      <th>3</th>\n",
       "      <td>1</td>\n",
       "      <td>1</td>\n",
       "      <td>1</td>\n",
       "      <td>4</td>\n",
       "      <td>R</td>\n",
       "    </tr>\n",
       "    <tr>\n",
       "      <th>4</th>\n",
       "      <td>1</td>\n",
       "      <td>1</td>\n",
       "      <td>1</td>\n",
       "      <td>5</td>\n",
       "      <td>R</td>\n",
       "    </tr>\n",
       "    <tr>\n",
       "      <th>5</th>\n",
       "      <td>1</td>\n",
       "      <td>1</td>\n",
       "      <td>2</td>\n",
       "      <td>1</td>\n",
       "      <td>R</td>\n",
       "    </tr>\n",
       "    <tr>\n",
       "      <th>6</th>\n",
       "      <td>1</td>\n",
       "      <td>1</td>\n",
       "      <td>2</td>\n",
       "      <td>2</td>\n",
       "      <td>R</td>\n",
       "    </tr>\n",
       "    <tr>\n",
       "      <th>7</th>\n",
       "      <td>1</td>\n",
       "      <td>1</td>\n",
       "      <td>2</td>\n",
       "      <td>3</td>\n",
       "      <td>R</td>\n",
       "    </tr>\n",
       "    <tr>\n",
       "      <th>8</th>\n",
       "      <td>1</td>\n",
       "      <td>1</td>\n",
       "      <td>2</td>\n",
       "      <td>4</td>\n",
       "      <td>R</td>\n",
       "    </tr>\n",
       "    <tr>\n",
       "      <th>9</th>\n",
       "      <td>1</td>\n",
       "      <td>1</td>\n",
       "      <td>2</td>\n",
       "      <td>5</td>\n",
       "      <td>R</td>\n",
       "    </tr>\n",
       "  </tbody>\n",
       "</table>\n",
       "</div>"
      ],
      "text/plain": [
       "   leftweight  leftdistance  rightweight  rightdistance class\n",
       "0           1             1            1              1     B\n",
       "1           1             1            1              2     R\n",
       "2           1             1            1              3     R\n",
       "3           1             1            1              4     R\n",
       "4           1             1            1              5     R\n",
       "5           1             1            2              1     R\n",
       "6           1             1            2              2     R\n",
       "7           1             1            2              3     R\n",
       "8           1             1            2              4     R\n",
       "9           1             1            2              5     R"
      ]
     },
     "execution_count": 249,
     "metadata": {},
     "output_type": "execute_result"
    }
   ],
   "source": [
    "df[:10]"
   ]
  },
  {
   "cell_type": "code",
   "execution_count": 251,
   "metadata": {},
   "outputs": [],
   "source": [
    "dftwo=pd.DataFrame(dfskb, columns=['rightweight','rightdistance'])"
   ]
  },
  {
   "cell_type": "code",
   "execution_count": 254,
   "metadata": {},
   "outputs": [],
   "source": [
    "dftwo['target']=df[\"class\"]"
   ]
  },
  {
   "cell_type": "code",
   "execution_count": 255,
   "metadata": {},
   "outputs": [
    {
     "data": {
      "text/html": [
       "<div>\n",
       "<style scoped>\n",
       "    .dataframe tbody tr th:only-of-type {\n",
       "        vertical-align: middle;\n",
       "    }\n",
       "\n",
       "    .dataframe tbody tr th {\n",
       "        vertical-align: top;\n",
       "    }\n",
       "\n",
       "    .dataframe thead th {\n",
       "        text-align: right;\n",
       "    }\n",
       "</style>\n",
       "<table border=\"1\" class=\"dataframe\">\n",
       "  <thead>\n",
       "    <tr style=\"text-align: right;\">\n",
       "      <th></th>\n",
       "      <th>rightweight</th>\n",
       "      <th>rightdistance</th>\n",
       "      <th>target</th>\n",
       "    </tr>\n",
       "  </thead>\n",
       "  <tbody>\n",
       "    <tr>\n",
       "      <th>0</th>\n",
       "      <td>1</td>\n",
       "      <td>1</td>\n",
       "      <td>B</td>\n",
       "    </tr>\n",
       "    <tr>\n",
       "      <th>1</th>\n",
       "      <td>1</td>\n",
       "      <td>2</td>\n",
       "      <td>R</td>\n",
       "    </tr>\n",
       "    <tr>\n",
       "      <th>2</th>\n",
       "      <td>1</td>\n",
       "      <td>3</td>\n",
       "      <td>R</td>\n",
       "    </tr>\n",
       "    <tr>\n",
       "      <th>3</th>\n",
       "      <td>1</td>\n",
       "      <td>4</td>\n",
       "      <td>R</td>\n",
       "    </tr>\n",
       "    <tr>\n",
       "      <th>4</th>\n",
       "      <td>1</td>\n",
       "      <td>5</td>\n",
       "      <td>R</td>\n",
       "    </tr>\n",
       "    <tr>\n",
       "      <th>...</th>\n",
       "      <td>...</td>\n",
       "      <td>...</td>\n",
       "      <td>...</td>\n",
       "    </tr>\n",
       "    <tr>\n",
       "      <th>620</th>\n",
       "      <td>5</td>\n",
       "      <td>1</td>\n",
       "      <td>L</td>\n",
       "    </tr>\n",
       "    <tr>\n",
       "      <th>621</th>\n",
       "      <td>5</td>\n",
       "      <td>2</td>\n",
       "      <td>L</td>\n",
       "    </tr>\n",
       "    <tr>\n",
       "      <th>622</th>\n",
       "      <td>5</td>\n",
       "      <td>3</td>\n",
       "      <td>L</td>\n",
       "    </tr>\n",
       "    <tr>\n",
       "      <th>623</th>\n",
       "      <td>5</td>\n",
       "      <td>4</td>\n",
       "      <td>L</td>\n",
       "    </tr>\n",
       "    <tr>\n",
       "      <th>624</th>\n",
       "      <td>5</td>\n",
       "      <td>5</td>\n",
       "      <td>B</td>\n",
       "    </tr>\n",
       "  </tbody>\n",
       "</table>\n",
       "<p>625 rows × 3 columns</p>\n",
       "</div>"
      ],
      "text/plain": [
       "     rightweight  rightdistance target\n",
       "0              1              1      B\n",
       "1              1              2      R\n",
       "2              1              3      R\n",
       "3              1              4      R\n",
       "4              1              5      R\n",
       "..           ...            ...    ...\n",
       "620            5              1      L\n",
       "621            5              2      L\n",
       "622            5              3      L\n",
       "623            5              4      L\n",
       "624            5              5      B\n",
       "\n",
       "[625 rows x 3 columns]"
      ]
     },
     "execution_count": 255,
     "metadata": {},
     "output_type": "execute_result"
    }
   ],
   "source": [
    "dftwo"
   ]
  },
  {
   "cell_type": "markdown",
   "metadata": {},
   "source": [
    "# Autre Modèle de classification"
   ]
  },
  {
   "cell_type": "markdown",
   "metadata": {},
   "source": [
    "<b> On va maintenant testé avec trois autres modèle de classification : Decision Tree, Random Forest et XGboost. A chaque fois nous utiliserons deux jeux de donnée la version SMOTE et la version déséquilibré.</b>"
   ]
  },
  {
   "cell_type": "markdown",
   "metadata": {},
   "source": [
    "## Decision Tree"
   ]
  },
  {
   "cell_type": "markdown",
   "metadata": {},
   "source": [
    "### Unbalanced"
   ]
  },
  {
   "cell_type": "code",
   "execution_count": 258,
   "metadata": {},
   "outputs": [],
   "source": [
    "from sklearn.tree import DecisionTreeClassifier, plot_tree\n",
    "clf= DecisionTreeClassifier(criterion=\"gini\")\n",
    "\n",
    "clf.fit(data_Tr, target_Tr)\n",
    "result=clf.predict(data_Te)"
   ]
  },
  {
   "cell_type": "code",
   "execution_count": 263,
   "metadata": {},
   "outputs": [
    {
     "data": {
      "image/png": "[encoded data removed]",
      "text/plain": [
       "<Figure size 1080x1080 with 1 Axes>"
      ]
     },
     "metadata": {
      "needs_background": "light"
     },
     "output_type": "display_data"
    }
   ],
   "source": [
    "plt.figure(figsize=[15,15])\n",
    "plot_tree(clf, filled= True, feature_names= data_Tr.iloc[:,0:4].columns, max_depth= 5)\n",
    "plt.show()"
   ]
  },
  {
   "cell_type": "markdown",
   "metadata": {},
   "source": [
    "###  Smoted Dataset"
   ]
  },
  {
   "cell_type": "code",
   "execution_count": 265,
   "metadata": {},
   "outputs": [],
   "source": [
    "clf= DecisionTreeClassifier(criterion=\"gini\")\n",
    "\n",
    "clf.fit(data_Trs, target_Trs)\n",
    "results=clf.predict(data_Tes)"
   ]
  },
  {
   "cell_type": "code",
   "execution_count": 267,
   "metadata": {},
   "outputs": [
    {
     "data": {
      "image/png": "[encoded data removed]",
      "text/plain": [
       "<Figure size 1080x1080 with 1 Axes>"
      ]
     },
     "metadata": {
      "needs_background": "light"
     },
     "output_type": "display_data"
    }
   ],
   "source": [
    "plt.figure(figsize=[15,15])\n",
    "plot_tree(clf, filled= True, feature_names= data_Trs.iloc[:,0:4].columns, max_depth= 5)\n",
    "plt.show()"
   ]
  },
  {
   "cell_type": "markdown",
   "metadata": {},
   "source": [
    "### Résultats"
   ]
  },
  {
   "cell_type": "code",
   "execution_count": 272,
   "metadata": {},
   "outputs": [],
   "source": [
    "acc=accuracy_score(result, target_Te)\n",
    "accuracys=accuracy_score(results, target_Tes)\n",
    "rec=recall_score(result, target_Te, average=None)\n",
    "recalls= recall_score(results, target_Tes, average=None)\n",
    "pre= precision_score(result, target_Te, average=None)\n",
    "precisions= precision_score(results, target_Tes, average=None)\n",
    "F1= f1_score(result, target_Te, average=None)\n",
    "F1s= f1_score(results, target_Tes, average=None)"
   ]
  },
  {
   "cell_type": "code",
   "execution_count": 338,
   "metadata": {},
   "outputs": [
    {
     "name": "stdout",
     "output_type": "stream",
     "text": [
      "Accuracy :\n",
      "< 0.8662420382165605 Avec dataset de base. \n",
      " 0.8888888888888888  SMOTED.\n",
      "Recall :\n",
      " [0.09090909 0.94736842 0.9       ] Avec dataset de base.\n",
      "  [0.79347826 0.98461538 0.93220339]  SMOTED.\n",
      "Precision :\n",
      " [0.1        0.93506494 0.9       ] Avec dataset de base. \n",
      " [0.94805195 0.84210526 0.87301587]  SMOTED.\n",
      "F1 :\n",
      " [0.0952381  0.94117647 0.9       ] Avec dataset de base.\n",
      "  [0.86390533 0.90780142 0.90163934]  SMOTED.\n"
     ]
    }
   ],
   "source": [
    "print(\"Accuracy :\\n<\",acc,\"Avec dataset de base. \\n\", accuracys,\" SMOTED.\")\n",
    "print(\"Recall :\\n\",rec,\"Avec dataset de base.\\n \", recalls,\" SMOTED.\")\n",
    "print(\"Precision :\\n\",pre,\"Avec dataset de base. \\n\", precisions,\" SMOTED.\")\n",
    "print(\"F1 :\\n\",F1,\"Avec dataset de base.\\n \", F1s,\" SMOTED.\")"
   ]
  },
  {
   "cell_type": "markdown",
   "metadata": {},
   "source": [
    "## Random Forest"
   ]
  },
  {
   "cell_type": "markdown",
   "metadata": {},
   "source": [
    "### Unchanged"
   ]
  },
  {
   "cell_type": "code",
   "execution_count": 334,
   "metadata": {},
   "outputs": [],
   "source": [
    "from sklearn.ensemble import RandomForestClassifier\n",
    "\n",
    "#Pour le random forest on spécifie que l'on souhaite utiliser qu'une partie de de nos data et que l'on souhaite\n",
    "#Répéter l'arbre 200 fois. \n",
    "#Autrement les parametre sont de bases et ressemble beaucoup à ceux du decision Tree\n",
    "rfc= RandomForestClassifier(bootstrap=True, n_estimators=200, max_samples=50)\n",
    "\n",
    "rfc.fit(data_Tr, target_Tr)\n",
    "result=clf.predict(data_Te)"
   ]
  },
  {
   "cell_type": "code",
   "execution_count": 287,
   "metadata": {},
   "outputs": [
    {
     "data": {
      "text/plain": [
       "leftdistance     0.288924\n",
       "rightdistance    0.251302\n",
       "rightweight      0.247227\n",
       "leftweight       0.212546\n",
       "dtype: float64"
      ]
     },
     "execution_count": 287,
     "metadata": {},
     "output_type": "execute_result"
    }
   ],
   "source": [
    "feature_imp = pd.Series(rfc.feature_importances_,index=df.iloc[:,:4].columns).sort_values(ascending=False)\n",
    "feature_imp"
   ]
  },
  {
   "cell_type": "code",
   "execution_count": 288,
   "metadata": {},
   "outputs": [
    {
     "data": {
      "text/plain": [
       "Text(0.5, 1.0, \"Visualisation de l'importance des features\")"
      ]
     },
     "execution_count": 288,
     "metadata": {},
     "output_type": "execute_result"
    },
    {
     "data": {
      "image/png": "[encoded data removed]",
      "text/plain": [
       "<Figure size 432x288 with 1 Axes>"
      ]
     },
     "metadata": {
      "needs_background": "light"
     },
     "output_type": "display_data"
    }
   ],
   "source": [
    "#Ce graph est intéressant car il permet de comparé avec K best\n",
    "sns.barplot(x=feature_imp, y=feature_imp.index)\n",
    "plt.xlabel(\"Importance de la Feature\")\n",
    "plt.ylabel(\"Features\")\n",
    "plt.title(\"Visualisation de l'importance des features\")"
   ]
  },
  {
   "cell_type": "markdown",
   "metadata": {},
   "source": [
    "### Smote"
   ]
  },
  {
   "cell_type": "code",
   "execution_count": 289,
   "metadata": {},
   "outputs": [],
   "source": [
    "rfc.fit(data_Trs, target_Trs)\n",
    "results=clf.predict(data_Tes)"
   ]
  },
  {
   "cell_type": "markdown",
   "metadata": {},
   "source": [
    "###  Résultat"
   ]
  },
  {
   "cell_type": "code",
   "execution_count": 290,
   "metadata": {},
   "outputs": [],
   "source": [
    "acc=accuracy_score(result, target_Te)\n",
    "accuracys=accuracy_score(results, target_Tes)\n",
    "rec=recall_score(result, target_Te, average=None)\n",
    "recalls= recall_score(results, target_Tes, average=None)\n",
    "pre= precision_score(result, target_Te, average=None)\n",
    "precisions= precision_score(results, target_Tes, average=None)\n",
    "F1= f1_score(result, target_Te, average=None)\n",
    "F1s= f1_score(results, target_Tes, average=None)"
   ]
  },
  {
   "cell_type": "code",
   "execution_count": 316,
   "metadata": {},
   "outputs": [
    {
     "name": "stdout",
     "output_type": "stream",
     "text": [
      "Accuracy :\n",
      " 0.8918918918918919 Avec dataset de base. \n",
      " 0.8472222222222222 SMOTED.\n",
      "Recall : \n",
      " [0.78571429 1.         0.91666667] Avec dataset de base. \n",
      " [0.73469388 0.98412698 0.89090909]  SMOTED.\n",
      "Precision :\n",
      " [0.91666667 0.84615385 0.91666667] Avec dataset de base. \n",
      " [0.93506494 0.81578947 0.77777778]  SMOTED.\n",
      "F1 :\n",
      " [0.84615385 0.91666667 0.91666667] Avec dataset de base. \n",
      " [0.82285714 0.89208633 0.83050847]  SMOTED.\n"
     ]
    }
   ],
   "source": [
    "print(\"Accuracy :\\n\",acc,\"Avec dataset de base. \\n\",\n",
    "      accuracys,\"SMOTED.\")\n",
    "print(\"Recall : \\n\",rec,\"Avec dataset de base. \\n\", recalls,\" SMOTED.\")\n",
    "print(\"Precision :\\n\",pre,\"Avec dataset de base. \\n\", precisions,\" SMOTED.\")\n",
    "print(\"F1 :\\n\",F1,\"Avec dataset de base. \\n\", F1s,\" SMOTED.\")"
   ]
  },
  {
   "cell_type": "markdown",
   "metadata": {},
   "source": [
    "## XGBOOST"
   ]
  },
  {
   "cell_type": "markdown",
   "metadata": {},
   "source": [
    "### Unchanged"
   ]
  },
  {
   "cell_type": "code",
   "execution_count": 326,
   "metadata": {},
   "outputs": [],
   "source": [
    "import xgboost as xgb\n",
    "\n",
    "\n",
    "#Nos target doivent être en numérique je dois donc refaire mon split une fois mes target modifier dans mes \n",
    "#Deux dataframe\n",
    "df[\"class\"] = pd.Categorical(df['class'])\n",
    "df['target']=df['class'].cat.codes\n",
    "smoted_df['target']=pd.Categorical(smoted_df['target'])\n",
    "smoted_df['target']=smoted_df['target'].cat.codes\n",
    "#Le split des datas inchangé.\n",
    "\n",
    "data_Tr, data_Te, target_Tr, target_Te = train_test_split(df.iloc[:,0:4], df[\"target\"]\n",
    "                                 , random_state=16\n",
    "                                 , train_size=0.75)\n",
    "#Le split des datas Smoted.\n",
    "\n",
    "data_Trs, data_Tes, target_Trs, target_Tes = train_test_split(smoted_df.iloc[:,0:4], smoted_df[\"target\"]\n",
    "                                 , random_state=16\n",
    "                                 , train_size=0.75)\n",
    "\n",
    "\n",
    "#Unchanged\n",
    "dtrain = xgb.DMatrix(data_Tr, label=target_Tr)\n",
    "dtest = xgb.DMatrix(data_Te, label=target_Te)\n",
    "\n",
    "#Smoted\n",
    "dstrain=xgb.DMatrix(data_Trs, label=target_Trs)\n",
    "dstest=xgb.DMatrix(data_Tes, label=target_Tes)"
   ]
  },
  {
   "cell_type": "code",
   "execution_count": 327,
   "metadata": {},
   "outputs": [],
   "source": [
    "#On fixe nos différents paramètre de notre modèle XGboost\n",
    "param = {\n",
    "    'max_depth': 10,  # the maximum depth of each tree\n",
    "    'eta': 0.3,  # the training step for each iteration\n",
    "    'silent': 1,  # logging mode - quiet\n",
    "    'objective': 'multi:softmax',  # error evaluation for multiclass training\n",
    "    'num_class': 3}  # the number of classes that exist in this datset\n",
    "num_round = 100"
   ]
  },
  {
   "cell_type": "code",
   "execution_count": 328,
   "metadata": {},
   "outputs": [
    {
     "name": "stdout",
     "output_type": "stream",
     "text": [
      "[17:39:39] WARNING: C:\\Users\\Administrator\\workspace\\xgboost-win64_release_1.2.0\\src\\learner.cc:516: \n",
      "Parameters: { silent } might not be used.\n",
      "\n",
      "  This may not be accurate due to some parameters are only used in language bindings but\n",
      "  passed down to XGBoost core.  Or some parameters are not used but slip through this\n",
      "  verification. Please open an issue if you find above cases.\n",
      "\n",
      "\n",
      "[17:39:39] WARNING: C:\\Users\\Administrator\\workspace\\xgboost-win64_release_1.2.0\\src\\learner.cc:516: \n",
      "Parameters: { silent } might not be used.\n",
      "\n",
      "  This may not be accurate due to some parameters are only used in language bindings but\n",
      "  passed down to XGBoost core.  Or some parameters are not used but slip through this\n",
      "  verification. Please open an issue if you find above cases.\n",
      "\n",
      "\n"
     ]
    }
   ],
   "source": [
    "bst = xgb.train(param, dtrain, num_round)\n",
    "bstsmote= xgb.train(param, dstrain, num_round)"
   ]
  },
  {
   "cell_type": "code",
   "execution_count": 329,
   "metadata": {},
   "outputs": [],
   "source": [
    "result = bst.predict(dtest)\n",
    "results=bstsmote.predict(dstest)"
   ]
  },
  {
   "cell_type": "code",
   "execution_count": 330,
   "metadata": {},
   "outputs": [
    {
     "data": {
      "text/plain": [
       "216"
      ]
     },
     "execution_count": 330,
     "metadata": {},
     "output_type": "execute_result"
    }
   ],
   "source": [
    "len(result)\n",
    "len(results)"
   ]
  },
  {
   "cell_type": "code",
   "execution_count": 332,
   "metadata": {},
   "outputs": [
    {
     "name": "stdout",
     "output_type": "stream",
     "text": [
      "Accuracy :\n",
      " 0.8662420382165605 Avec dataset de base. \n",
      " 0.8888888888888888 SMOTED.\n",
      "Recall : \n",
      " [0.09090909 0.94736842 0.9       ] Avec dataset de base. \n",
      " [0.79347826 0.98461538 0.93220339]  SMOTED.\n",
      "Precision :\n",
      " [0.1        0.93506494 0.9       ] Avec dataset de base. \n",
      " [0.94805195 0.84210526 0.87301587]  SMOTED.\n",
      "F1 :\n",
      " [0.0952381  0.94117647 0.9       ] Avec dataset de base. \n",
      " [0.86390533 0.90780142 0.90163934]  SMOTED.\n"
     ]
    }
   ],
   "source": [
    "acc=accuracy_score(result, target_Te)\n",
    "accuracys=accuracy_score(results, target_Tes)\n",
    "rec=recall_score(result, target_Te, average=None)\n",
    "recalls= recall_score(results, target_Tes, average=None)\n",
    "pre= precision_score(result, target_Te, average=None)\n",
    "precisions= precision_score(results, target_Tes, average=None)\n",
    "F1= f1_score(result, target_Te, average=None)\n",
    "F1s= f1_score(results, target_Tes, average=None)\n",
    "\n",
    "print(\"Accuracy :\\n\",acc,\"Avec dataset de base. \\n\",\n",
    "      accuracys,\"SMOTED.\")\n",
    "print(\"Recall : \\n\",rec,\"Avec dataset de base. \\n\", recalls,\" SMOTED.\")\n",
    "print(\"Precision :\\n\",pre,\"Avec dataset de base. \\n\", precisions,\" SMOTED.\")\n",
    "print(\"F1 :\\n\",F1,\"Avec dataset de base. \\n\", F1s,\" SMOTED.\")\n"
   ]
  },
  {
   "cell_type": "code",
   "execution_count": 333,
   "metadata": {},
   "outputs": [],
   "source": [
    "#Pas autant commenté comme voulu à la base mais j'essayerais d'y retourner dans le week-end... \n",
    "#J'ai posté mes deux notebook Decision Tree et Random Forest ou j'ai détaillé chacun des algorythmes\n",
    "#Je fouille encore pour le XGboost. "
   ]
  }
 ],
 "metadata": {
  "kernelspec": {
   "display_name": "Python 3",
   "language": "python",
   "name": "python3"
  },
  "language_info": {
   "codemirror_mode": {
    "name": "ipython",
    "version": 3
   },
   "file_extension": ".py",
   "mimetype": "text/x-python",
   "name": "python",
   "nbconvert_exporter": "python",
   "pygments_lexer": "ipython3",
   "version": "3.8.3"
  }
 },
 "nbformat": 4,
 "nbformat_minor": 4
}
