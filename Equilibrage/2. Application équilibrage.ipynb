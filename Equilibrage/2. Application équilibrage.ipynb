{
 "cells": [
  {
   "cell_type": "code",
   "execution_count": 1,
   "metadata": {},
   "outputs": [],
   "source": [
    "import pandas as pd\n",
    "import numpy as np\n",
    "import seaborn as sns\n",
    "import matplotlib.pyplot as plt \n",
    "import sklearn\n",
    "import imblearn"
   ]
  },
  {
   "cell_type": "markdown",
   "metadata": {},
   "source": [
    "## Logistic Regression without changing anything."
   ]
  },
  {
   "cell_type": "code",
   "execution_count": 2,
   "metadata": {},
   "outputs": [],
   "source": [
    "df=pd.read_csv(\"./balance_scale.csv\")"
   ]
  },
  {
   "cell_type": "code",
   "execution_count": 3,
   "metadata": {},
   "outputs": [
    {
     "data": {
      "text/html": [
       "<div>\n",
       "<style scoped>\n",
       "    .dataframe tbody tr th:only-of-type {\n",
       "        vertical-align: middle;\n",
       "    }\n",
       "\n",
       "    .dataframe tbody tr th {\n",
       "        vertical-align: top;\n",
       "    }\n",
       "\n",
       "    .dataframe thead th {\n",
       "        text-align: right;\n",
       "    }\n",
       "</style>\n",
       "<table border=\"1\" class=\"dataframe\">\n",
       "  <thead>\n",
       "    <tr style=\"text-align: right;\">\n",
       "      <th></th>\n",
       "      <th>leftweight</th>\n",
       "      <th>leftdistance</th>\n",
       "      <th>rightweight</th>\n",
       "      <th>rightdistance</th>\n",
       "      <th>class</th>\n",
       "    </tr>\n",
       "  </thead>\n",
       "  <tbody>\n",
       "    <tr>\n",
       "      <th>0</th>\n",
       "      <td>1</td>\n",
       "      <td>1</td>\n",
       "      <td>1</td>\n",
       "      <td>1</td>\n",
       "      <td>B</td>\n",
       "    </tr>\n",
       "    <tr>\n",
       "      <th>1</th>\n",
       "      <td>1</td>\n",
       "      <td>1</td>\n",
       "      <td>1</td>\n",
       "      <td>2</td>\n",
       "      <td>R</td>\n",
       "    </tr>\n",
       "    <tr>\n",
       "      <th>2</th>\n",
       "      <td>1</td>\n",
       "      <td>1</td>\n",
       "      <td>1</td>\n",
       "      <td>3</td>\n",
       "      <td>R</td>\n",
       "    </tr>\n",
       "    <tr>\n",
       "      <th>3</th>\n",
       "      <td>1</td>\n",
       "      <td>1</td>\n",
       "      <td>1</td>\n",
       "      <td>4</td>\n",
       "      <td>R</td>\n",
       "    </tr>\n",
       "    <tr>\n",
       "      <th>4</th>\n",
       "      <td>1</td>\n",
       "      <td>1</td>\n",
       "      <td>1</td>\n",
       "      <td>5</td>\n",
       "      <td>R</td>\n",
       "    </tr>\n",
       "    <tr>\n",
       "      <th>...</th>\n",
       "      <td>...</td>\n",
       "      <td>...</td>\n",
       "      <td>...</td>\n",
       "      <td>...</td>\n",
       "      <td>...</td>\n",
       "    </tr>\n",
       "    <tr>\n",
       "      <th>620</th>\n",
       "      <td>5</td>\n",
       "      <td>5</td>\n",
       "      <td>5</td>\n",
       "      <td>1</td>\n",
       "      <td>L</td>\n",
       "    </tr>\n",
       "    <tr>\n",
       "      <th>621</th>\n",
       "      <td>5</td>\n",
       "      <td>5</td>\n",
       "      <td>5</td>\n",
       "      <td>2</td>\n",
       "      <td>L</td>\n",
       "    </tr>\n",
       "    <tr>\n",
       "      <th>622</th>\n",
       "      <td>5</td>\n",
       "      <td>5</td>\n",
       "      <td>5</td>\n",
       "      <td>3</td>\n",
       "      <td>L</td>\n",
       "    </tr>\n",
       "    <tr>\n",
       "      <th>623</th>\n",
       "      <td>5</td>\n",
       "      <td>5</td>\n",
       "      <td>5</td>\n",
       "      <td>4</td>\n",
       "      <td>L</td>\n",
       "    </tr>\n",
       "    <tr>\n",
       "      <th>624</th>\n",
       "      <td>5</td>\n",
       "      <td>5</td>\n",
       "      <td>5</td>\n",
       "      <td>5</td>\n",
       "      <td>B</td>\n",
       "    </tr>\n",
       "  </tbody>\n",
       "</table>\n",
       "<p>625 rows × 5 columns</p>\n",
       "</div>"
      ],
      "text/plain": [
       "     leftweight  leftdistance  rightweight  rightdistance class\n",
       "0             1             1            1              1     B\n",
       "1             1             1            1              2     R\n",
       "2             1             1            1              3     R\n",
       "3             1             1            1              4     R\n",
       "4             1             1            1              5     R\n",
       "..          ...           ...          ...            ...   ...\n",
       "620           5             5            5              1     L\n",
       "621           5             5            5              2     L\n",
       "622           5             5            5              3     L\n",
       "623           5             5            5              4     L\n",
       "624           5             5            5              5     B\n",
       "\n",
       "[625 rows x 5 columns]"
      ]
     },
     "execution_count": 3,
     "metadata": {},
     "output_type": "execute_result"
    }
   ],
   "source": [
    "df"
   ]
  },
  {
   "cell_type": "code",
   "execution_count": 5,
   "metadata": {},
   "outputs": [],
   "source": [
    "from sklearn.model_selection import train_test_split\n",
    "from sklearn.linear_model import LogisticRegression"
   ]
  },
  {
   "cell_type": "code",
   "execution_count": 9,
   "metadata": {},
   "outputs": [],
   "source": [
    "data_Tr, data_Te, target_Tr, target_Te = train_test_split(df.iloc[:,0:3], df[\"class\"]\n",
    "                                 , random_state=0\n",
    "                                 , train_size=0.75)"
   ]
  },
  {
   "cell_type": "code",
   "execution_count": 11,
   "metadata": {},
   "outputs": [
    {
     "data": {
      "text/plain": [
       "LogisticRegression()"
      ]
     },
     "execution_count": 11,
     "metadata": {},
     "output_type": "execute_result"
    }
   ],
   "source": [
    "lr=LogisticRegression()\n",
    "lr.fit(data_Tr,target_Tr)"
   ]
  },
  {
   "cell_type": "code",
   "execution_count": 15,
   "metadata": {},
   "outputs": [],
   "source": [
    "result=lr.predict(data_Te)"
   ]
  },
  {
   "cell_type": "code",
   "execution_count": 13,
   "metadata": {},
   "outputs": [],
   "source": [
    "from sklearn.metrics import accuracy_score\n",
    "from sklearn.metrics import confusion_matrix\n",
    "from sklearn.metrics import recall_score\n",
    "from sklearn.metrics import precision_score\n",
    "from sklearn.metrics import f1_score"
   ]
  },
  {
   "cell_type": "code",
   "execution_count": 16,
   "metadata": {},
   "outputs": [
    {
     "name": "stdout",
     "output_type": "stream",
     "text": [
      "R = [0.         0.83333333 0.74683544]\n",
      "A = 0.7898089171974523\n",
      "P = [0.         0.8125     0.85507246]\n",
      "F1 = [0.         0.82278481 0.7972973 ]\n"
     ]
    },
    {
     "name": "stderr",
     "output_type": "stream",
     "text": [
      "C:\\ProgramData\\Anaconda3\\lib\\site-packages\\sklearn\\metrics\\_classification.py:1221: UndefinedMetricWarning: Recall is ill-defined and being set to 0.0 in labels with no true samples. Use `zero_division` parameter to control this behavior.\n",
      "  _warn_prf(average, modifier, msg_start, len(result))\n"
     ]
    }
   ],
   "source": [
    "accuracy=accuracy_score(result, target_Te)\n",
    "recall= recall_score(result, target_Te, average=None)\n",
    "precision= precision_score(result, target_Te, average=None)\n",
    "F1= f1_score(result, target_Te, average=None)\n",
    "#100 % avec 80 / 20 j'ai testé 50 / 50 pour tester j'obtiens 0.93\n",
    "\n",
    "print(\"R =\", recall) # précision de prédiction des valeur Positive correctement prédit\n",
    "#par rapport à l'ensemble des vrais valeurs\n",
    "print(\"A =\", accuracy) # Précision sur l'ensemble des bon résultat (True positive and True neg) par rapport\n",
    "#A l'ensmble des valeurs.\n",
    "print(\"P =\", precision)# Précision de prédiction des valeurs Positive par rapport à tout les donnée prédite \n",
    "#postif. \n",
    "print('F1 =', F1) #Valeur qui fait la balance entre recall et precision pour avoir une valeur qui maximise les \n",
    "#deux valeurs"
   ]
  },
  {
   "cell_type": "code",
   "execution_count": 28,
   "metadata": {},
   "outputs": [
    {
     "data": {
      "text/plain": [
       "<matplotlib.axes._subplots.AxesSubplot at 0x1c7e1b5e3a0>"
      ]
     },
     "execution_count": 28,
     "metadata": {},
     "output_type": "execute_result"
    },
    {
     "data": {
      "image/png": "[encoded data removed]",
      "text/plain": [
       "<Figure size 432x288 with 2 Axes>"
      ]
     },
     "metadata": {
      "needs_background": "light"
     },
     "output_type": "display_data"
    }
   ],
   "source": [
    "conf= confusion_matrix(target_Te, result)\n",
    "sns.heatmap(conf, annot=True, xticklabels= df[\"class\"].unique(),yticklabels= df[\"class\"].unique())"
   ]
  },
  {
   "cell_type": "code",
   "execution_count": 27,
   "metadata": {},
   "outputs": [
    {
     "data": {
      "text/plain": [
       "<matplotlib.axes._subplots.AxesSubplot at 0x1c7e1b81e50>"
      ]
     },
     "execution_count": 27,
     "metadata": {},
     "output_type": "execute_result"
    },
    {
     "data": {
      "image/png": "[encoded data removed]",
      "text/plain": [
       "<Figure size 432x288 with 1 Axes>"
      ]
     },
     "metadata": {
      "needs_background": "light"
     },
     "output_type": "display_data"
    }
   ],
   "source": [
    "sns.countplot(df['class'])"
   ]
  },
  {
   "cell_type": "markdown",
   "metadata": {},
   "source": [
    "<b> On remarque une grande disparité qui explique l'absence de prédiction B essayons d'équilibrer notre dataset</b>"
   ]
  },
  {
   "cell_type": "markdown",
   "metadata": {},
   "source": [
    "## Resampling With smote."
   ]
  },
  {
   "cell_type": "markdown",
   "metadata": {},
   "source": [
    "<b> Notre jeu de donnée étant petit le réduire encore ne semble pas pertinent essayons donc de resample avec la fonction smote !</b>"
   ]
  },
  {
   "cell_type": "code",
   "execution_count": 30,
   "metadata": {},
   "outputs": [],
   "source": [
    "from imblearn.over_sampling import SMOTE"
   ]
  },
  {
   "cell_type": "code",
   "execution_count": 33,
   "metadata": {},
   "outputs": [
    {
     "name": "stderr",
     "output_type": "stream",
     "text": [
      "C:\\ProgramData\\Anaconda3\\lib\\site-packages\\imblearn\\utils\\_validation.py:635: FutureWarning: Pass sampling_strategy=minority as keyword args. From version 0.9 passing these as positional arguments will result in an error\n",
      "  warnings.warn(\"Pass {} as keyword args. From version 0.9 \"\n"
     ]
    }
   ],
   "source": [
    "smote= SMOTE(\"minority\")\n",
    "\n",
    "smoted_df, y = smote.fit_sample(df.iloc[:,:4],df['class'])"
   ]
  },
  {
   "cell_type": "code",
   "execution_count": 35,
   "metadata": {},
   "outputs": [],
   "source": [
    "smoted_df['target']=y"
   ]
  },
  {
   "cell_type": "code",
   "execution_count": 36,
   "metadata": {},
   "outputs": [
    {
     "data": {
      "text/plain": [
       "<matplotlib.axes._subplots.AxesSubplot at 0x1c7e2d988e0>"
      ]
     },
     "execution_count": 36,
     "metadata": {},
     "output_type": "execute_result"
    },
    {
     "data": {
      "image/png": "[encoded data removed]",
      "text/plain": [
       "<Figure size 432x288 with 1 Axes>"
      ]
     },
     "metadata": {
      "needs_background": "light"
     },
     "output_type": "display_data"
    }
   ],
   "source": [
    "sns.countplot(smoted_df['target'])"
   ]
  },
  {
   "cell_type": "markdown",
   "metadata": {},
   "source": [
    "<b> Nos données ont maintenant étaient équilibré recommençons notre modèle. </b>"
   ]
  },
  {
   "cell_type": "code",
   "execution_count": 37,
   "metadata": {},
   "outputs": [],
   "source": [
    "data_Tr, data_Te, target_Tr, target_Te = train_test_split(smoted_df.iloc[:,0:3], smoted_df[\"target\"]\n",
    "                                 , random_state=0\n",
    "                                 , train_size=0.75)"
   ]
  },
  {
   "cell_type": "code",
   "execution_count": 40,
   "metadata": {},
   "outputs": [],
   "source": [
    "lr.fit(data_Tr,target_Tr)\n",
    "result=lr.predict(data_Te)"
   ]
  },
  {
   "cell_type": "code",
   "execution_count": 41,
   "metadata": {},
   "outputs": [
    {
     "name": "stdout",
     "output_type": "stream",
     "text": [
      "R = [0.52380952 0.65789474 0.58441558]\n",
      "A = 0.5925925925925926\n",
      "P = [0.40740741 0.70422535 0.703125  ]\n",
      "F1 = [0.45833333 0.68027211 0.63829787]\n"
     ]
    }
   ],
   "source": [
    "accuracy=accuracy_score(result, target_Te)\n",
    "recall= recall_score(result, target_Te, average=None)\n",
    "precision= precision_score(result, target_Te, average=None)\n",
    "F1= f1_score(result, target_Te, average=None)\n",
    "#100 % avec 80 / 20 j'ai testé 50 / 50 pour tester j'obtiens 0.93\n",
    "\n",
    "print(\"R =\", recall) # précision de prédiction des valeur Positive correctement prédit\n",
    "#par rapport à l'ensemble des vrais valeurs\n",
    "print(\"A =\", accuracy) # Précision sur l'ensemble des bon résultat (True positive and True neg) par rapport\n",
    "#A l'ensmble des valeurs.\n",
    "print(\"P =\", precision)# Précision de prédiction des valeurs Positive par rapport à tout les donnée prédite \n",
    "#postif. \n",
    "print('F1 =', F1) #Valeur qui fait la balance entre recall et precision pour avoir une valeur qui maximise les \n",
    "#deux valeurs"
   ]
  },
  {
   "cell_type": "code",
   "execution_count": 43,
   "metadata": {},
   "outputs": [
    {
     "data": {
      "text/plain": [
       "<matplotlib.axes._subplots.AxesSubplot at 0x1c7e2d98a00>"
      ]
     },
     "execution_count": 43,
     "metadata": {},
     "output_type": "execute_result"
    },
    {
     "data": {
      "image/png": "[encoded data removed]",
      "text/plain": [
       "<Figure size 432x288 with 2 Axes>"
      ]
     },
     "metadata": {
      "needs_background": "light"
     },
     "output_type": "display_data"
    }
   ],
   "source": [
    "conf= confusion_matrix(target_Te, result)\n",
    "sns.heatmap(conf, annot=True, xticklabels= df[\"class\"].unique(),yticklabels= df[\"class\"].unique())"
   ]
  },
  {
   "cell_type": "markdown",
   "metadata": {},
   "source": [
    "<b> Bon on perd quand même beaucoup de précision sur deux de nos variables mais au moins la class B est prise en compte </b>"
   ]
  },
  {
   "cell_type": "markdown",
   "metadata": {},
   "source": [
    "## Ressampling with Under_sampling"
   ]
  },
  {
   "cell_type": "code",
   "execution_count": 44,
   "metadata": {},
   "outputs": [],
   "source": [
    "from imblearn.under_sampling import RandomUnderSampler"
   ]
  },
  {
   "cell_type": "code",
   "execution_count": 45,
   "metadata": {},
   "outputs": [],
   "source": [
    "rus = RandomUnderSampler()\n",
    "X_reduce, y_rus = rus.fit_sample(df.iloc[:,:4],df['class'])\n",
    "X_reduce['target']=y_rus"
   ]
  },
  {
   "cell_type": "code",
   "execution_count": 48,
   "metadata": {},
   "outputs": [
    {
     "data": {
      "text/plain": [
       "<matplotlib.axes._subplots.AxesSubplot at 0x1c7e1ad3a30>"
      ]
     },
     "execution_count": 48,
     "metadata": {},
     "output_type": "execute_result"
    },
    {
     "data": {
      "image/png": "[encoded data removed]",
      "text/plain": [
       "<Figure size 432x288 with 1 Axes>"
      ]
     },
     "metadata": {
      "needs_background": "light"
     },
     "output_type": "display_data"
    }
   ],
   "source": [
    "sns.countplot(X_reduce['target'])"
   ]
  },
  {
   "cell_type": "code",
   "execution_count": 49,
   "metadata": {},
   "outputs": [],
   "source": [
    "data_Tr, data_Te, target_Tr, target_Te = train_test_split(X_reduce.iloc[:,0:3], X_reduce[\"target\"]\n",
    "                                 , random_state=0\n",
    "                                 , train_size=0.75)"
   ]
  },
  {
   "cell_type": "code",
   "execution_count": 50,
   "metadata": {},
   "outputs": [],
   "source": [
    "lr.fit(data_Tr,target_Tr)\n",
    "result=lr.predict(data_Te)"
   ]
  },
  {
   "cell_type": "code",
   "execution_count": 51,
   "metadata": {},
   "outputs": [
    {
     "name": "stdout",
     "output_type": "stream",
     "text": [
      "R = [0.4        0.66666667 0.35714286]\n",
      "A = 0.5135135135135135\n",
      "P = [0.13333333 0.92307692 0.55555556]\n",
      "F1 = [0.2        0.77419355 0.43478261]\n"
     ]
    }
   ],
   "source": [
    "accuracy=accuracy_score(result, target_Te)\n",
    "recall= recall_score(result, target_Te, average=None)\n",
    "precision= precision_score(result, target_Te, average=None)\n",
    "F1= f1_score(result, target_Te, average=None)\n",
    "#100 % avec 80 / 20 j'ai testé 50 / 50 pour tester j'obtiens 0.93\n",
    "\n",
    "print(\"R =\", recall) # précision de prédiction des valeur Positive correctement prédit\n",
    "#par rapport à l'ensemble des vrais valeurs\n",
    "print(\"A =\", accuracy) # Précision sur l'ensemble des bon résultat (True positive and True neg) par rapport\n",
    "#A l'ensmble des valeurs.\n",
    "print(\"P =\", precision)# Précision de prédiction des valeurs Positive par rapport à tout les donnée prédite \n",
    "#postif. \n",
    "print('F1 =', F1) #Valeur qui fait la balance entre recall et precision pour avoir une valeur qui maximise les \n",
    "#deux valeurs"
   ]
  },
  {
   "cell_type": "code",
   "execution_count": 52,
   "metadata": {},
   "outputs": [
    {
     "data": {
      "text/plain": [
       "<matplotlib.axes._subplots.AxesSubplot at 0x1c7e146a9a0>"
      ]
     },
     "execution_count": 52,
     "metadata": {},
     "output_type": "execute_result"
    },
    {
     "data": {
      "image/png": "[encoded data removed]",
      "text/plain": [
       "<Figure size 432x288 with 2 Axes>"
      ]
     },
     "metadata": {
      "needs_background": "light"
     },
     "output_type": "display_data"
    }
   ],
   "source": [
    "conf= confusion_matrix(target_Te, result)\n",
    "sns.heatmap(conf, annot=True, xticklabels= df[\"class\"].unique(),yticklabels= df[\"class\"].unique())"
   ]
  },
  {
   "cell_type": "markdown",
   "metadata": {},
   "source": [
    "<b> Comme on pouvait s'en douter c'est pas mieux ...</b>"
   ]
  },
  {
   "cell_type": "markdown",
   "metadata": {},
   "source": [
    "## Ressample Mixte !"
   ]
  },
  {
   "cell_type": "code",
   "execution_count": 55,
   "metadata": {},
   "outputs": [
    {
     "name": "stderr",
     "output_type": "stream",
     "text": [
      "C:\\ProgramData\\Anaconda3\\lib\\site-packages\\imblearn\\utils\\_validation.py:635: FutureWarning: Pass sampling_strategy=auto as keyword args. From version 0.9 passing these as positional arguments will result in an error\n",
      "  warnings.warn(\"Pass {} as keyword args. From version 0.9 \"\n"
     ]
    }
   ],
   "source": [
    "from imblearn.combine import SMOTETomek\n",
    "\n",
    "smt = SMOTETomek('auto')\n",
    "X_smt, y_smt = smt.fit_sample(df.iloc[:,:4],df['class'])\n",
    "\n",
    "X_smt['target']=y_smt"
   ]
  },
  {
   "cell_type": "code",
   "execution_count": 56,
   "metadata": {},
   "outputs": [
    {
     "data": {
      "text/plain": [
       "<matplotlib.axes._subplots.AxesSubplot at 0x1c7e2efeee0>"
      ]
     },
     "execution_count": 56,
     "metadata": {},
     "output_type": "execute_result"
    },
    {
     "data": {
      "image/png": "[encoded data removed]",
      "text/plain": [
       "<Figure size 432x288 with 1 Axes>"
      ]
     },
     "metadata": {
      "needs_background": "light"
     },
     "output_type": "display_data"
    }
   ],
   "source": [
    "sns.countplot(X_smt['target'])"
   ]
  },
  {
   "cell_type": "code",
   "execution_count": 61,
   "metadata": {},
   "outputs": [],
   "source": [
    "data_Tr, data_Te, target_Tr, target_Te = train_test_split(X_smt.iloc[:,0:3], X_smt[\"target\"]\n",
    "                                 , random_state=0\n",
    "                                 , train_size=0.75)"
   ]
  },
  {
   "cell_type": "code",
   "execution_count": 62,
   "metadata": {},
   "outputs": [],
   "source": [
    "lr.fit(data_Tr,target_Tr)\n",
    "result=lr.predict(data_Te)"
   ]
  },
  {
   "cell_type": "code",
   "execution_count": 63,
   "metadata": {},
   "outputs": [
    {
     "name": "stdout",
     "output_type": "stream",
     "text": [
      "R = [0.50943396 0.65882353 0.55128205]\n",
      "A = 0.5833333333333334\n",
      "P = [0.33333333 0.78873239 0.671875  ]\n",
      "F1 = [0.40298507 0.71794872 0.6056338 ]\n"
     ]
    }
   ],
   "source": [
    "accuracy=accuracy_score(result, target_Te)\n",
    "recall= recall_score(result, target_Te, average=None)\n",
    "precision= precision_score(result, target_Te, average=None)\n",
    "F1= f1_score(result, target_Te, average=None)\n",
    "#100 % avec 80 / 20 j'ai testé 50 / 50 pour tester j'obtiens 0.93\n",
    "\n",
    "print(\"R =\", recall) # précision de prédiction des valeur Positive correctement prédit\n",
    "#par rapport à l'ensemble des vrais valeurs\n",
    "print(\"A =\", accuracy) # Précision sur l'ensemble des bon résultat (True positive and True neg) par rapport\n",
    "#A l'ensmble des valeurs.\n",
    "print(\"P =\", precision)# Précision de prédiction des valeurs Positive par rapport à tout les donnée prédite \n",
    "#postif. \n",
    "print('F1 =', F1) #Valeur qui fait la balance entre recall et precision pour avoir une valeur qui maximise les \n",
    "#deux valeurs"
   ]
  },
  {
   "cell_type": "code",
   "execution_count": 64,
   "metadata": {},
   "outputs": [
    {
     "data": {
      "text/plain": [
       "<matplotlib.axes._subplots.AxesSubplot at 0x1c7e2f496d0>"
      ]
     },
     "execution_count": 64,
     "metadata": {},
     "output_type": "execute_result"
    },
    {
     "data": {
      "image/png": "[encoded data removed]",
      "text/plain": [
       "<Figure size 432x288 with 2 Axes>"
      ]
     },
     "metadata": {
      "needs_background": "light"
     },
     "output_type": "display_data"
    }
   ],
   "source": [
    "conf= confusion_matrix(target_Te, result)\n",
    "sns.heatmap(conf, annot=True, xticklabels= df[\"class\"].unique(),yticklabels= df[\"class\"].unique())"
   ]
  },
  {
   "cell_type": "code",
   "execution_count": null,
   "metadata": {},
   "outputs": [],
   "source": []
  }
 ],
 "metadata": {
  "kernelspec": {
   "display_name": "Python 3",
   "language": "python",
   "name": "python3"
  },
  "language_info": {
   "codemirror_mode": {
    "name": "ipython",
    "version": 3
   },
   "file_extension": ".py",
   "mimetype": "text/x-python",
   "name": "python",
   "nbconvert_exporter": "python",
   "pygments_lexer": "ipython3",
   "version": "3.8.3"
  }
 },
 "nbformat": 4,
 "nbformat_minor": 4
}
